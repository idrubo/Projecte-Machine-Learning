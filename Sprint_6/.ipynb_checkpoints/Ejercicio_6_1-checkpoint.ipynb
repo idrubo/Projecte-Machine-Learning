{
 "cells": [
  {
   "cell_type": "markdown",
   "id": "4f97940b-4618-412a-a180-da37c40e1d46",
   "metadata": {},
   "source": [
    "# Preparación de los datos"
   ]
  },
  {
   "cell_type": "markdown",
   "id": "4e9bcea6-bf78-497b-b7ea-6a8cc231d466",
   "metadata": {},
   "source": [
    "### 1. División entre datos de entrenamiento y datos de prueba."
   ]
  },
  {
   "cell_type": "code",
   "execution_count": 3,
   "id": "bf6779e8-44e8-4300-a438-32b2a216ff1c",
   "metadata": {},
   "outputs": [],
   "source": [
    "'''python\n",
    "Preparación de datos de entrenamiento y de prueba.\n",
    "'''\n",
    "\n",
    "import pandas as pd\n",
    "import numpy as np\n",
    "\n",
    "from scipy.stats.mstats import winsorize\n",
    "from scipy.stats import yeojohnson\n",
    "\n",
    "import matplotlib.pyplot as plt\n",
    "\n",
    "from sklearn.model_selection import train_test_split\n",
    "from sklearn.preprocessing import LabelEncoder \n",
    "from sklearn.preprocessing import OrdinalEncoder\n",
    "from sklearn.preprocessing import OneHotEncoder\n",
    "from sklearn.preprocessing import StandardScaler\n",
    "from sklearn.decomposition import PCA\n",
    "from sklearn.impute import KNNImputer\n"
   ]
  },
  {
   "cell_type": "code",
   "execution_count": 4,
   "id": "13cb2083-8773-4f1f-93c9-ced06758d9dd",
   "metadata": {},
   "outputs": [],
   "source": [
    "# Cargamos los datos\n",
    "df = pd.read_csv('bank_dataset.csv')\n",
    "\n",
    "# Seleccionamos las características\n",
    "X = df.loc [:, df.columns.drop ('deposit')]\n",
    "\n",
    "# Nuestra etiqueta\n",
    "Y = df.loc [:, ['deposit']]\n",
    "\n",
    "# Dividimos en datos de entramiento y datos de prueba\n",
    "Xtrain, Xtest, Ytrain, Ytest = train_test_split (X, Y, test_size = 0.3, random_state = 0, stratify = Y)\n",
    "\n",
    "# Salvamos los datos.\n",
    "Xtrain.to_csv ('bank_train.csv', index = False)\n",
    "Xtest.to_csv ('bank_test.csv', index = False)\n",
    "Ytrain.to_csv ('bank_target_train.csv', index = False)\n",
    "Ytest.to_csv ('bank_target_test.csv', index = False)\n"
   ]
  },
  {
   "cell_type": "markdown",
   "id": "38c6c10e-73e2-48dc-b247-1179162f93a6",
   "metadata": {},
   "source": [
    "### 2. Imputación de Valores Faltantes"
   ]
  },
  {
   "cell_type": "markdown",
   "id": "d6bbf116-be63-453b-acfe-485197cf0759",
   "metadata": {},
   "source": [
    "#### 2.1.- Mediante la media y la moda"
   ]
  },
  {
   "cell_type": "markdown",
   "id": "dfe957b6-0e06-4de5-981b-d0e6a47aaadb",
   "metadata": {},
   "source": [
    "Se encuentran muy pocos valores nulos, localizados en las columnas \"age\", \"marital\" y \"status\". Rellenamos los datos nulos de \"age\" mediante la media y los de \"marital\" y \"education\" con la moda."
   ]
  },
  {
   "cell_type": "code",
   "execution_count": 8,
   "id": "5935de3f-c97f-45de-8561-a47a585bdd14",
   "metadata": {},
   "outputs": [],
   "source": [
    "# \"age\" mean\n",
    "age_mean = X ['age'].mean ()\n",
    "\n",
    "# \"marital\" and \"education\" mode\n",
    "marital_mode = X ['marital'].mode ()\n",
    "education_mode = X ['education'].mode ()\n",
    "\n",
    "# Para los valores de entrenamiento\n",
    "Xtrain.loc [Xtrain ['age'].isnull(), 'age'] = age_mean\n",
    "Xtrain = Xtrain.fillna ({'marital': marital_mode [0]})\n",
    "Xtrain = Xtrain.fillna ({'education': education_mode [0]})\n",
    "\n",
    "# Para los valores de prueba\n",
    "Xtest.loc [Xtest ['age'].isnull(), 'age'] = age_mean\n",
    "Xtest = Xtest.fillna ({'marital': marital_mode [0]})\n",
    "Xtest = Xtest.fillna ({'education': education_mode [0]})\n",
    "\n",
    "# Salvamos los datos.\n",
    "Xtrain.to_csv ('bank_train.csv', index = False)\n",
    "Xtest.to_csv ('bank_test.csv', index = False)\n"
   ]
  },
  {
   "cell_type": "markdown",
   "id": "6a34b3ad-f078-479f-abbe-4eefad87f0bc",
   "metadata": {},
   "source": [
    "Debe notarse que la estandarización de \"age\" puede y dará lugar a valores igual a 0.0, luego debemos aplicar la transformación logarítmica antes de estandarizar."
   ]
  },
  {
   "cell_type": "code",
   "execution_count": 10,
   "id": "52c57e44-61e7-4fb0-a3ae-ab5d889b4f37",
   "metadata": {},
   "outputs": [
    {
     "name": "stdout",
     "output_type": "stream",
     "text": [
      "Sesgo (age):  0.8631628534000281\n",
      "Sesgo (age):  0.2031230767062662\n",
      "Sesgo (age):  0.8633751916695092\n",
      "Sesgo (age):  0.15586827075353668\n"
     ]
    }
   ],
   "source": [
    "# Para los valores de entrenamiento.\n",
    "print (\"Sesgo (age): \", Xtrain ['age'].skew ())\n",
    "Xtrain ['Log_age'] = np.log (Xtrain ['age'])\n",
    "Xtrain ['Log_age'] = winsorize (Xtrain ['Log_age'], limits = [0.0, 0.005], inplace = True)\n",
    "Xtrain = Xtrain.loc [:, Xtrain.columns.drop (['age'])]\n",
    "print (\"Sesgo (age): \", Xtrain ['Log_age'].skew ())\n",
    "\n",
    "# Para los valores de prueba.\n",
    "print (\"Sesgo (age): \", Xtest ['age'].skew ())\n",
    "Xtest ['Log_age'] = np.log (Xtest ['age'])\n",
    "Xtest ['Log_age'] = winsorize (Xtest ['Log_age'], limits = [0.0, 0.005], inplace = True)\n",
    "Xtest = Xtest.loc [:, Xtest.columns.drop (['age'])]\n",
    "print (\"Sesgo (age): \", Xtest ['Log_age'].skew ())\n",
    "\n",
    "# Salvamos los datos.\n",
    "Xtrain.to_csv ('bank_train.csv', index = False)\n",
    "Xtest.to_csv ('bank_test.csv', index = False)\n"
   ]
  },
  {
   "cell_type": "markdown",
   "id": "bebe7043-6a17-44cb-a41e-329794b08d17",
   "metadata": {},
   "source": [
    "Lo mismo sucederá con \"campaign\"."
   ]
  },
  {
   "cell_type": "markdown",
   "id": "aa250a8a-25bc-46a3-99b2-6a47c7f8df54",
   "metadata": {},
   "source": [
    "\"campaign\" muestra un claro sesgo hacia la derecha y encontramos outliers. La transformaremos con logaritmos y será winsorizada."
   ]
  },
  {
   "cell_type": "code",
   "execution_count": 13,
   "id": "a37ebb5d-1583-4ba0-9e14-03fb3cb9b38c",
   "metadata": {},
   "outputs": [
    {
     "name": "stdout",
     "output_type": "stream",
     "text": [
      "Sesgo (campaign):  5.68851363861382\n",
      "Sesgo (campaign):  0.6961476543745867\n",
      "Sesgo (campaign):  5.12218628680741\n",
      "Sesgo (campaign):  0.6813506669890971\n"
     ]
    }
   ],
   "source": [
    "# Para los valores de entrenamiento.\n",
    "print (\"Sesgo (campaign): \", Xtrain ['campaign'].skew ())\n",
    "Xtrain ['Log_campaign'] = np.log (Xtrain['campaign'])\n",
    "Xtrain ['Log_campaign'] = winsorize (Xtrain ['Log_campaign'], limits = [0.00, 0.025], inplace = True)\n",
    "Xtrain = Xtrain.loc [:, Xtrain.columns.drop (['campaign'])]\n",
    "print (\"Sesgo (campaign): \", Xtrain ['Log_campaign'].skew ())\n",
    "\n",
    "# Para los valores de prueba.\n",
    "print (\"Sesgo (campaign): \", Xtest ['campaign'].skew ())\n",
    "Xtest ['Log_campaign'] = np.log (Xtest ['campaign'])\n",
    "Xtest ['Log_campaign'] = winsorize (Xtest ['Log_campaign'], limits = [0.00, 0.025], inplace = True)\n",
    "Xtest = Xtest.loc [:, Xtest.columns.drop (['campaign'])]\n",
    "print (\"Sesgo (campaign): \", Xtest ['Log_campaign'].skew ())\n",
    "\n",
    "# Salvamos los datos.\n",
    "Xtrain.to_csv ('bank_train.csv', index = False)\n",
    "Xtest.to_csv ('bank_test.csv', index = False)\n"
   ]
  },
  {
   "cell_type": "markdown",
   "id": "93bd0218-202f-45f7-af1a-367b51345ffb",
   "metadata": {},
   "source": [
    "#### 2.2.- Mediante el algoritmo KNNImputer"
   ]
  },
  {
   "cell_type": "markdown",
   "id": "e790c81c-e564-46f4-bfe4-5599e81cc5f2",
   "metadata": {},
   "source": [
    "En el archivo .csv aparecen muchas filas con el valor \"unknown\" en la columna \"poutcome\". Imputaremos dichos datos mediante el algoritmo KNNImputer."
   ]
  },
  {
   "cell_type": "code",
   "execution_count": 16,
   "id": "790063bd-f52a-4a03-816a-4270b6241eb2",
   "metadata": {},
   "outputs": [
    {
     "name": "stdout",
     "output_type": "stream",
     "text": [
      "Missing: 5834\n",
      "Missing: 0\n",
      "Missing: 2492\n",
      "Missing: 0\n",
      "0       success\n",
      "1       failure\n",
      "2       success\n",
      "3       success\n",
      "4       success\n",
      "         ...   \n",
      "7808    failure\n",
      "7809    success\n",
      "7810    success\n",
      "7811    failure\n",
      "7812    success\n",
      "Name: poutcome, Length: 7813, dtype: category\n",
      "Categories (2, object): ['failure', 'success']\n",
      "0       failure\n",
      "1       failure\n",
      "2       failure\n",
      "3       success\n",
      "4       failure\n",
      "         ...   \n",
      "3344    success\n",
      "3345    success\n",
      "3346    success\n",
      "3347    success\n",
      "3348    failure\n",
      "Name: poutcome, Length: 3349, dtype: category\n",
      "Categories (2, object): ['failure', 'success']\n"
     ]
    }
   ],
   "source": [
    "# Aplica el algoritmo 'KNNImputer' a un dataframe.\n",
    "def KNN (dfK):\n",
    "    # El algoritmo KNN imputer solo procesa valores numéricos.\n",
    "    # Asignamos valores enteros a las características.\n",
    "    # La transformación es local.\n",
    "    le = LabelEncoder ()\n",
    "\n",
    "    # El algoritmo KNN imputer solo procesa valores numéricos.\n",
    "    # La transformación es local.\n",
    "    for col in dfK.select_dtypes (include='object').columns:\n",
    "        dfK [col] = dfK [col].astype ('category')\n",
    "        dfK [col] = le.fit_transform (dfK [col])\n",
    "\n",
    "    ix = [i for i in range (dfK.values.shape [1])]\n",
    "\n",
    "    XK = dfK.values [:, ix]\n",
    "\n",
    "    # Imprimimos el total de valores faltantes.\n",
    "    print ('Missing: %d' % sum (np.isnan (XK).flatten ()))\n",
    "\n",
    "    # Definimos \"imputer\" y codificamos los valores nulos.\n",
    "    imputer = KNNImputer (n_neighbors = 1)\n",
    "    imputer.fit (XK)\n",
    "    XK = imputer.transform (XK)\n",
    "\n",
    "    # El número de valores nulos debería ser cero.\n",
    "    print ('Missing: %d' % sum (np.isnan (XK).flatten ()))\n",
    "\n",
    "    return pd.DataFrame (XK, columns = dfK.columns)\n",
    "\n",
    "def missing (dfM):\n",
    "\n",
    "    # El algoritmo KNN imputer solo procesa valores numéricos.\n",
    "    oe = OrdinalEncoder (categories = [['failure', 'success', 'unknown']])\n",
    "    dfM ['poutcome'] = oe.fit_transform (dfM [['poutcome']])\n",
    "\n",
    "    # Convertimos el valor 'unknown' en NaN.\n",
    "    i_unknown = np.where (oe.categories_[0] == 'unknown')\n",
    "    dfM.loc [dfM ['poutcome'] == i_unknown [0][0], 'poutcome'] = float ('nan')\n",
    "\n",
    "    # Procesamos el dataframe con 'KNNImputer'.\n",
    "    dfX = KNN (dfM)\n",
    "\n",
    "    # Devolvemos el tipo 'category' a 'poutcome'.\n",
    "    dfX = dfX.astype ({'poutcome' : 'category'})\n",
    "    dfX['poutcome'] = dfX ['poutcome'].cat.rename_categories ({0.0: 'failure', 1.0: 'success'})\n",
    "    \n",
    "    dfM ['poutcome'] = dfX ['poutcome']\n",
    "\n",
    "    return dfM\n",
    "\n",
    "# Para los valores de entrenamiento.\n",
    "# En la columna 'poutcome', 'other' será sustituido por 'failure'\n",
    "Xtrain.loc [Xtrain ['poutcome'] == 'other', 'poutcome'] = 'failure'\n",
    "\n",
    "# Para copiar correctamente el resultado final, los índices deben coincidir.\n",
    "Xtrain.index = np.arange (0, len (Xtrain))\n",
    "\n",
    "# Aplicamos el algoritmo \"KNNImputer\".\n",
    "XC = missing (Xtrain.copy ())\n",
    "Xtrain ['poutcome'] = XC ['poutcome']\n",
    "\n",
    "# Para los valores de prueba\n",
    "# En la columna 'poutcome', 'other' será sustituido por 'failure'\n",
    "Xtest.loc [Xtest ['poutcome'] == 'other', 'poutcome'] = 'failure'\n",
    "\n",
    "# Para copiar correctamente el resultado final, los índices deben coincidir.\n",
    "Xtest.index = np.arange (0, len (Xtest))\n",
    "\n",
    "# Aplicamos el algoritmo \"KNNImputer\"\n",
    "XC = missing (Xtest.copy ())\n",
    "Xtest ['poutcome'] = XC ['poutcome']\n",
    "\n",
    "print (Xtrain ['poutcome'])\n",
    "print (Xtest ['poutcome'])\n",
    "\n",
    "# Salvamos los datos.\n",
    "Xtrain.to_csv ('bank_train.csv', index = False)\n",
    "Xtest.to_csv ('bank_test.csv', index = False)\n"
   ]
  },
  {
   "cell_type": "markdown",
   "id": "a55a7db3-caeb-4c17-b7d5-187aa7bd9597",
   "metadata": {},
   "source": [
    "### 3. Codificación de Variables Categóricas"
   ]
  },
  {
   "cell_type": "markdown",
   "id": "57c0ff97-dfa3-4cec-8ced-8b7c5bbf42d9",
   "metadata": {},
   "source": [
    "En la etapa de EDA, se realizó el test \"chi cuadrado\" a las características categóricas. Las más relevantes son \"poutcome\" \"housing\", \"loan\" y \"job\". Algo menos relevantes son \"education\" y \"default\". Pasamos \"OneHotEncoder\" a \"job\" y \"education\". \"poutcome\", \"housing\", \"loan\" y \"default\" son binarias y podemos aplicar \"LabelEnconder\"."
   ]
  },
  {
   "cell_type": "code",
   "execution_count": 19,
   "id": "560607ec-cfe2-4d68-b5bb-3e69adbec950",
   "metadata": {},
   "outputs": [
    {
     "name": "stdout",
     "output_type": "stream",
     "text": [
      "<class 'pandas.core.frame.DataFrame'>\n",
      "Index: 7813 entries, 0 to 7812\n",
      "Data columns (total 30 columns):\n",
      " #   Column               Non-Null Count  Dtype   \n",
      "---  ------               --------------  -----   \n",
      " 0   marital              7813 non-null   category\n",
      " 1   default              7813 non-null   int64   \n",
      " 2   balance              7813 non-null   int64   \n",
      " 3   housing              7813 non-null   int64   \n",
      " 4   loan                 7813 non-null   int64   \n",
      " 5   contact              7813 non-null   category\n",
      " 6   day                  7813 non-null   int64   \n",
      " 7   month                7813 non-null   category\n",
      " 8   duration             7813 non-null   int64   \n",
      " 9   pdays                7813 non-null   int64   \n",
      " 10  previous             7813 non-null   int64   \n",
      " 11  poutcome             7813 non-null   int64   \n",
      " 12  Log_age              7813 non-null   float64 \n",
      " 13  Log_campaign         7813 non-null   float64 \n",
      " 14  job_admin.           7813 non-null   bool    \n",
      " 15  job_blue-collar      7813 non-null   bool    \n",
      " 16  job_entrepreneur     7813 non-null   bool    \n",
      " 17  job_housemaid        7813 non-null   bool    \n",
      " 18  job_management       7813 non-null   bool    \n",
      " 19  job_retired          7813 non-null   bool    \n",
      " 20  job_self-employed    7813 non-null   bool    \n",
      " 21  job_services         7813 non-null   bool    \n",
      " 22  job_student          7813 non-null   bool    \n",
      " 23  job_technician       7813 non-null   bool    \n",
      " 24  job_unemployed       7813 non-null   bool    \n",
      " 25  job_unknown          7813 non-null   bool    \n",
      " 26  education_primary    7813 non-null   bool    \n",
      " 27  education_secondary  7813 non-null   bool    \n",
      " 28  education_tertiary   7813 non-null   bool    \n",
      " 29  education_unknown    7813 non-null   bool    \n",
      "dtypes: bool(16), category(3), float64(2), int64(9)\n",
      "memory usage: 878.1 KB\n",
      "None\n",
      "   poutcome  housing  loan  default\n",
      "0         1        0     0        0\n",
      "1         0        1     0        0\n",
      "2         1        0     0        0\n",
      "3         1        0     0        0\n",
      "4         1        0     0        0\n",
      "<class 'pandas.core.frame.DataFrame'>\n",
      "Index: 3349 entries, 0 to 3348\n",
      "Data columns (total 30 columns):\n",
      " #   Column               Non-Null Count  Dtype   \n",
      "---  ------               --------------  -----   \n",
      " 0   marital              3349 non-null   category\n",
      " 1   default              3349 non-null   int64   \n",
      " 2   balance              3349 non-null   int64   \n",
      " 3   housing              3349 non-null   int64   \n",
      " 4   loan                 3349 non-null   int64   \n",
      " 5   contact              3349 non-null   category\n",
      " 6   day                  3349 non-null   int64   \n",
      " 7   month                3349 non-null   category\n",
      " 8   duration             3349 non-null   int64   \n",
      " 9   pdays                3349 non-null   int64   \n",
      " 10  previous             3349 non-null   int64   \n",
      " 11  poutcome             3349 non-null   int64   \n",
      " 12  Log_age              3349 non-null   float64 \n",
      " 13  Log_campaign         3349 non-null   float64 \n",
      " 14  job_admin.           3349 non-null   bool    \n",
      " 15  job_blue-collar      3349 non-null   bool    \n",
      " 16  job_entrepreneur     3349 non-null   bool    \n",
      " 17  job_housemaid        3349 non-null   bool    \n",
      " 18  job_management       3349 non-null   bool    \n",
      " 19  job_retired          3349 non-null   bool    \n",
      " 20  job_self-employed    3349 non-null   bool    \n",
      " 21  job_services         3349 non-null   bool    \n",
      " 22  job_student          3349 non-null   bool    \n",
      " 23  job_technician       3349 non-null   bool    \n",
      " 24  job_unemployed       3349 non-null   bool    \n",
      " 25  job_unknown          3349 non-null   bool    \n",
      " 26  education_primary    3349 non-null   bool    \n",
      " 27  education_secondary  3349 non-null   bool    \n",
      " 28  education_tertiary   3349 non-null   bool    \n",
      " 29  education_unknown    3349 non-null   bool    \n",
      "dtypes: bool(16), category(3), float64(2), int64(9)\n",
      "memory usage: 376.8 KB\n",
      "None\n",
      "   poutcome  housing  loan  default\n",
      "0         0        0     0        0\n",
      "1         0        0     0        0\n",
      "2         0        1     0        0\n",
      "3         1        0     1        0\n",
      "4         0        1     1        0\n"
     ]
    }
   ],
   "source": [
    "# Para los valores de entrenamiento.\n",
    "# Asignamos el tipo 'category' a las columnas 'object'.\n",
    "for col in Xtrain.select_dtypes (include='object').columns:\n",
    "    Xtrain [col] = Xtrain [col].astype ('category')\n",
    "    \n",
    "# Columnas binarias.\n",
    "cols = ['poutcome', 'housing', 'loan', 'default']\n",
    "\n",
    "le = LabelEncoder ()\n",
    "for c in cols:\n",
    "    Xtrain [c] = le.fit_transform (Xtrain[c])\n",
    "\n",
    "# Columnas categóricas.\n",
    "Xtrain = pd.get_dummies (Xtrain, columns = ['job', 'education'])\n",
    "\n",
    "# Para los valores de prueba.\n",
    "# Asignamos el tipo 'category' a las columnas 'object'.\n",
    "for col in Xtest.select_dtypes (include='object').columns:\n",
    "    Xtest [col] = Xtest [col].astype ('category')\n",
    "\n",
    "# 'cols' está definido arriba.\n",
    "le = LabelEncoder ()\n",
    "for c in cols:\n",
    "    Xtest [c] = le.fit_transform (Xtest [c])\n",
    "\n",
    "# Columnas categóricas.\n",
    "Xtest = pd.get_dummies (Xtest, columns = ['job', 'education'])\n",
    "\n",
    "print (Xtrain.info ())\n",
    "print (Xtrain.loc [:, ['poutcome', 'housing', 'loan', 'default']].head ())\n",
    "print (Xtest.info ())\n",
    "print (Xtest.loc [:, ['poutcome', 'housing', 'loan', 'default']].head ())\n",
    "\n",
    "# Salvamos los datos.\n",
    "Xtrain.to_csv ('bank_train.csv', index = False)\n",
    "Xtest.to_csv ('bank_test.csv', index = False)\n"
   ]
  },
  {
   "cell_type": "markdown",
   "id": "855795d0-599e-44ae-abf3-8417bf913c6c",
   "metadata": {},
   "source": [
    "### 4. Estandarización"
   ]
  },
  {
   "cell_type": "markdown",
   "id": "05dff20f-eb86-44d3-b510-6d9cb69360d9",
   "metadata": {},
   "source": [
    "En la etapa de EDA, se realizó el test \"ANEVA\" a las características continuas. Las más relevantes son \"pdays\", \"age\", \"balance\" y \"campaign\". Normalizamos dichas variables. Por otro lado \"pdays\" y \"previous\" parecen estar fuertemente correlacionadas. Recuérdese que, para evitar errores en el cáclulo de logaritmos, \"age\" y \"campaign\" fueron transformados en el apartado \"2. Imputación de Valores Faltantes\"."
   ]
  },
  {
   "cell_type": "code",
   "execution_count": 22,
   "id": "17008f40-e467-4ffa-8ff9-6a05fd0dedbc",
   "metadata": {},
   "outputs": [
    {
     "name": "stdout",
     "output_type": "stream",
     "text": [
      "   pdays   Log_age  balance  Log_campaign  previous\n",
      "0     -1  4.158883      768      0.000000         0\n",
      "1    104  3.761200      -36      0.000000         1\n",
      "2     -1  3.433987       37      0.693147         0\n",
      "3    187  4.343805     2223      0.693147         1\n",
      "4     -1  3.637586      105      0.693147         0\n",
      "   pdays   Log_age  balance  Log_campaign  previous\n",
      "0     99  3.465736      995      0.000000         2\n",
      "1     -1  3.465736       72      2.197225         0\n",
      "2     -1  3.737670      414      1.098612         0\n",
      "3     -1  3.433987     -159      0.000000         0\n",
      "4     -1  3.583519      442      1.098612         0\n",
      "      pdays   Log_age   balance  Log_campaign  previous\n",
      "0 -0.481871  1.733451 -0.232114     -0.963610 -0.367356\n",
      "1  0.497558  0.294845 -0.483269     -0.963610  0.072043\n",
      "2 -0.481871 -0.888837 -0.460465      0.100706 -0.367356\n",
      "3  1.271773  2.402402  0.222401      0.100706  0.072043\n",
      "4 -0.481871 -0.152324 -0.439223      0.100706 -0.367356\n",
      "      pdays   Log_age   balance  Log_campaign  previous\n",
      "0  0.410663 -0.761890 -0.175087     -0.961474  0.504769\n",
      "1 -0.480076 -0.761890 -0.456461      2.457197 -0.353992\n",
      "2 -0.480076  0.206957 -0.352203      0.747862 -0.353992\n",
      "3 -0.480076 -0.875004 -0.526880     -0.961474 -0.353992\n",
      "4 -0.480076 -0.342252 -0.343668      0.747862 -0.353992\n"
     ]
    }
   ],
   "source": [
    "print (Xtrain.loc [:, ['pdays', 'Log_age', 'balance', 'Log_campaign', 'previous']].head ())\n",
    "print (Xtest.loc [:, ['pdays', 'Log_age', 'balance', 'Log_campaign', 'previous']].head ())\n",
    "\n",
    "cols = ['pdays', 'Log_age', 'balance', 'Log_campaign', 'previous']\n",
    "\n",
    "scaler = StandardScaler()\n",
    "\n",
    "# Para los valores de entrenamiento\n",
    "for c in cols:\n",
    "    Xtrain [c] = Xtrain [c].astype ('float64')\n",
    "    Xtrain.loc [:,[c]] = scaler.fit_transform (Xtrain.loc [:,[c]])\n",
    "\n",
    "# Para los valores de prueba\n",
    "for c in cols:\n",
    "    Xtest [c] = Xtest [c].astype ('float64')\n",
    "    Xtest.loc [:,[c]] = scaler.fit_transform (Xtest.loc [:,[c]])\n",
    "\n",
    "print (Xtrain.loc [:, ['pdays', 'Log_age', 'balance', 'Log_campaign', 'previous']].head ())\n",
    "print (Xtest.loc [:, ['pdays', 'Log_age', 'balance', 'Log_campaign', 'previous']].head ())\n",
    "\n",
    "# Salvamos los datos.\n",
    "Xtrain.to_csv ('bank_train.csv', index = False)\n",
    "Xtest.to_csv ('bank_test.csv', index = False)\n"
   ]
  },
  {
   "cell_type": "markdown",
   "id": "404473f4-6561-4e8e-b3a7-447f5fe35241",
   "metadata": {},
   "source": [
    "### 5. Generación de Nuevas Características"
   ]
  },
  {
   "cell_type": "markdown",
   "id": "d4bb1e88-7985-454b-a998-4b9669ef7a33",
   "metadata": {},
   "source": [
    "En la matriz de correlaciones las características \"pdays\" y \"previous\" parecen tener una correlación fuerte. Eliminamos una de ellas aplicando \"PCA\"."
   ]
  },
  {
   "cell_type": "code",
   "execution_count": 25,
   "id": "16df7dc5-bc9c-4357-b3d1-a128e579e391",
   "metadata": {},
   "outputs": [
    {
     "name": "stdout",
     "output_type": "stream",
     "text": [
      "Variancia explicada: [1.52015417]\n",
      "Proporción de variancia explicada: [0.7599798]\n",
      "Variancia explicada: [1.48033015]\n",
      "Proporción de variancia explicada: [0.73994406]\n",
      "<class 'pandas.core.frame.DataFrame'>\n",
      "Index: 7813 entries, 0 to 7812\n",
      "Data columns (total 29 columns):\n",
      " #   Column               Non-Null Count  Dtype   \n",
      "---  ------               --------------  -----   \n",
      " 0   marital              7813 non-null   category\n",
      " 1   default              7813 non-null   int64   \n",
      " 2   balance              7813 non-null   float64 \n",
      " 3   housing              7813 non-null   int64   \n",
      " 4   loan                 7813 non-null   int64   \n",
      " 5   contact              7813 non-null   category\n",
      " 6   day                  7813 non-null   int64   \n",
      " 7   month                7813 non-null   category\n",
      " 8   duration             7813 non-null   int64   \n",
      " 9   poutcome             7813 non-null   int64   \n",
      " 10  Log_age              7813 non-null   float64 \n",
      " 11  Log_campaign         7813 non-null   float64 \n",
      " 12  job_admin.           7813 non-null   bool    \n",
      " 13  job_blue-collar      7813 non-null   bool    \n",
      " 14  job_entrepreneur     7813 non-null   bool    \n",
      " 15  job_housemaid        7813 non-null   bool    \n",
      " 16  job_management       7813 non-null   bool    \n",
      " 17  job_retired          7813 non-null   bool    \n",
      " 18  job_self-employed    7813 non-null   bool    \n",
      " 19  job_services         7813 non-null   bool    \n",
      " 20  job_student          7813 non-null   bool    \n",
      " 21  job_technician       7813 non-null   bool    \n",
      " 22  job_unemployed       7813 non-null   bool    \n",
      " 23  job_unknown          7813 non-null   bool    \n",
      " 24  education_primary    7813 non-null   bool    \n",
      " 25  education_secondary  7813 non-null   bool    \n",
      " 26  education_tertiary   7813 non-null   bool    \n",
      " 27  education_unknown    7813 non-null   bool    \n",
      " 28  PCA1                 7813 non-null   float64 \n",
      "dtypes: bool(16), category(3), float64(4), int64(6)\n",
      "memory usage: 817.0 KB\n",
      "None\n",
      "<class 'pandas.core.frame.DataFrame'>\n",
      "Index: 3349 entries, 0 to 3348\n",
      "Data columns (total 29 columns):\n",
      " #   Column               Non-Null Count  Dtype   \n",
      "---  ------               --------------  -----   \n",
      " 0   marital              3349 non-null   category\n",
      " 1   default              3349 non-null   int64   \n",
      " 2   balance              3349 non-null   float64 \n",
      " 3   housing              3349 non-null   int64   \n",
      " 4   loan                 3349 non-null   int64   \n",
      " 5   contact              3349 non-null   category\n",
      " 6   day                  3349 non-null   int64   \n",
      " 7   month                3349 non-null   category\n",
      " 8   duration             3349 non-null   int64   \n",
      " 9   poutcome             3349 non-null   int64   \n",
      " 10  Log_age              3349 non-null   float64 \n",
      " 11  Log_campaign         3349 non-null   float64 \n",
      " 12  job_admin.           3349 non-null   bool    \n",
      " 13  job_blue-collar      3349 non-null   bool    \n",
      " 14  job_entrepreneur     3349 non-null   bool    \n",
      " 15  job_housemaid        3349 non-null   bool    \n",
      " 16  job_management       3349 non-null   bool    \n",
      " 17  job_retired          3349 non-null   bool    \n",
      " 18  job_self-employed    3349 non-null   bool    \n",
      " 19  job_services         3349 non-null   bool    \n",
      " 20  job_student          3349 non-null   bool    \n",
      " 21  job_technician       3349 non-null   bool    \n",
      " 22  job_unemployed       3349 non-null   bool    \n",
      " 23  job_unknown          3349 non-null   bool    \n",
      " 24  education_primary    3349 non-null   bool    \n",
      " 25  education_secondary  3349 non-null   bool    \n",
      " 26  education_tertiary   3349 non-null   bool    \n",
      " 27  education_unknown    3349 non-null   bool    \n",
      " 28  PCA1                 3349 non-null   float64 \n",
      "dtypes: bool(16), category(3), float64(4), int64(6)\n",
      "memory usage: 350.6 KB\n",
      "None\n"
     ]
    }
   ],
   "source": [
    "pca = PCA (n_components = 1)\n",
    "\n",
    "# Para los valores de entrenamiento.\n",
    "Xtrain.loc [:, ['PCA1']] = pca.fit_transform (Xtrain.loc [:, ['pdays', 'previous']])\n",
    "\n",
    "# Eliminamos \"previous\" y \"pdays\".\n",
    "Xtrain = Xtrain.loc [:, Xtrain.columns.drop (['previous', 'pdays'])]\n",
    "\n",
    "print(\"Variancia explicada:\", pca.explained_variance_)\n",
    "print(\"Proporción de variancia explicada:\", pca.explained_variance_ratio_)\n",
    "\n",
    "# Para los valores de prueba.\n",
    "Xtest.loc [:, ['PCA1']] = pca.fit_transform (Xtest.loc [:, ['pdays', 'previous']])\n",
    "\n",
    "# Eliminamos \"previous\" y \"pdays\".\n",
    "Xtest = Xtest.loc [:, Xtest.columns.drop (['previous', 'pdays'])]\n",
    "\n",
    "print(\"Variancia explicada:\", pca.explained_variance_)\n",
    "print(\"Proporción de variancia explicada:\", pca.explained_variance_ratio_)\n",
    "\n",
    "print (Xtrain.info ())\n",
    "print (Xtest.info ())\n",
    "\n",
    "# Salvamos los datos.\n",
    "Xtrain.to_csv ('bank_train.csv', index = False)\n",
    "Xtest.to_csv ('bank_test.csv', index = False)\n"
   ]
  },
  {
   "cell_type": "markdown",
   "id": "2dd041c3-d0a7-46fb-a64c-eb749df86fca",
   "metadata": {},
   "source": [
    "### 6. Selección de Características Relevantes"
   ]
  },
  {
   "cell_type": "markdown",
   "id": "b47a80e2-6c6e-4ec2-b0f6-f6727da3d86d",
   "metadata": {},
   "source": [
    "Las características continuas más relevantes son \"age\", \"balance\" y \"campaign\". \"pdays\" y \"previous\" están fuertemente correlacionadas y ya se han eliminado mediante la aplicación de \"PCA\".\n",
    "Las características categóricas más relevantes son \"poutcome\", \"housing\", \"loan\" y \"job\", algo menos relevantes son \"education\" y \"default\"."
   ]
  },
  {
   "cell_type": "markdown",
   "id": "62c3ad6b-0bdd-40a4-bb5f-eb009c5cec51",
   "metadata": {},
   "source": [
    "De las características categóricas eliminamos \"marital\", \"contact\" y \"month\", las tres con un \"score\" muy bajo en el test \"chi cuadrado\". De las características continuas eliminamos \"day\" y \"duration\"."
   ]
  },
  {
   "cell_type": "code",
   "execution_count": 29,
   "id": "bb0f7233-0233-422c-9784-ba3da7cc211e",
   "metadata": {},
   "outputs": [
    {
     "name": "stdout",
     "output_type": "stream",
     "text": [
      "<class 'pandas.core.frame.DataFrame'>\n",
      "Index: 7813 entries, 0 to 7812\n",
      "Data columns (total 24 columns):\n",
      " #   Column               Non-Null Count  Dtype  \n",
      "---  ------               --------------  -----  \n",
      " 0   default              7813 non-null   int64  \n",
      " 1   balance              7813 non-null   float64\n",
      " 2   housing              7813 non-null   int64  \n",
      " 3   loan                 7813 non-null   int64  \n",
      " 4   poutcome             7813 non-null   int64  \n",
      " 5   Log_age              7813 non-null   float64\n",
      " 6   Log_campaign         7813 non-null   float64\n",
      " 7   job_admin.           7813 non-null   bool   \n",
      " 8   job_blue-collar      7813 non-null   bool   \n",
      " 9   job_entrepreneur     7813 non-null   bool   \n",
      " 10  job_housemaid        7813 non-null   bool   \n",
      " 11  job_management       7813 non-null   bool   \n",
      " 12  job_retired          7813 non-null   bool   \n",
      " 13  job_self-employed    7813 non-null   bool   \n",
      " 14  job_services         7813 non-null   bool   \n",
      " 15  job_student          7813 non-null   bool   \n",
      " 16  job_technician       7813 non-null   bool   \n",
      " 17  job_unemployed       7813 non-null   bool   \n",
      " 18  job_unknown          7813 non-null   bool   \n",
      " 19  education_primary    7813 non-null   bool   \n",
      " 20  education_secondary  7813 non-null   bool   \n",
      " 21  education_tertiary   7813 non-null   bool   \n",
      " 22  education_unknown    7813 non-null   bool   \n",
      " 23  PCA1                 7813 non-null   float64\n",
      "dtypes: bool(16), float64(4), int64(4)\n",
      "memory usage: 671.4 KB\n",
      "None\n",
      "<class 'pandas.core.frame.DataFrame'>\n",
      "Index: 3349 entries, 0 to 3348\n",
      "Data columns (total 24 columns):\n",
      " #   Column               Non-Null Count  Dtype  \n",
      "---  ------               --------------  -----  \n",
      " 0   default              3349 non-null   int64  \n",
      " 1   balance              3349 non-null   float64\n",
      " 2   housing              3349 non-null   int64  \n",
      " 3   loan                 3349 non-null   int64  \n",
      " 4   poutcome             3349 non-null   int64  \n",
      " 5   Log_age              3349 non-null   float64\n",
      " 6   Log_campaign         3349 non-null   float64\n",
      " 7   job_admin.           3349 non-null   bool   \n",
      " 8   job_blue-collar      3349 non-null   bool   \n",
      " 9   job_entrepreneur     3349 non-null   bool   \n",
      " 10  job_housemaid        3349 non-null   bool   \n",
      " 11  job_management       3349 non-null   bool   \n",
      " 12  job_retired          3349 non-null   bool   \n",
      " 13  job_self-employed    3349 non-null   bool   \n",
      " 14  job_services         3349 non-null   bool   \n",
      " 15  job_student          3349 non-null   bool   \n",
      " 16  job_technician       3349 non-null   bool   \n",
      " 17  job_unemployed       3349 non-null   bool   \n",
      " 18  job_unknown          3349 non-null   bool   \n",
      " 19  education_primary    3349 non-null   bool   \n",
      " 20  education_secondary  3349 non-null   bool   \n",
      " 21  education_tertiary   3349 non-null   bool   \n",
      " 22  education_unknown    3349 non-null   bool   \n",
      " 23  PCA1                 3349 non-null   float64\n",
      "dtypes: bool(16), float64(4), int64(4)\n",
      "memory usage: 287.8 KB\n",
      "None\n"
     ]
    }
   ],
   "source": [
    "# Para los valores de entrenamiento.\n",
    "# De las características categóricas eliminamos \"marital\", \"contact\" y \"month\".\n",
    "Xtrain = Xtrain.loc [:, Xtrain.columns.drop (['marital', 'contact', 'month'])]\n",
    "\n",
    "# De las características continuas eliminamos \"day\" y \"duration\".\n",
    "Xtrain = Xtrain.loc [:, Xtrain.columns.drop (['day', 'duration'])]\n",
    "\n",
    "# Para los valores de prueba.\n",
    "# De las características categóricas eliminamos \"marital\", \"contact\" y \"month\".\n",
    "Xtest = Xtest.loc [:, Xtest.columns.drop (['marital', 'contact', 'month'])]\n",
    "\n",
    "# De las características continuas eliminamos \"day\" y \"duration\".\n",
    "Xtest = Xtest.loc [:, Xtest.columns.drop (['day', 'duration'])]\n",
    "\n",
    "print (Xtrain.info ())\n",
    "print (Xtest.info ())\n",
    "\n",
    "# Salvamos los datos.\n",
    "Xtrain.to_csv ('bank_train.csv', index = False)\n",
    "Xtest.to_csv ('bank_test.csv', index = False)\n"
   ]
  },
  {
   "cell_type": "markdown",
   "id": "cbc491dd-46fd-47ce-9cd1-76fef9e86c63",
   "metadata": {},
   "source": [
    "### 7. Transformaciones de Datos"
   ]
  },
  {
   "cell_type": "markdown",
   "id": "281fab0a-e4d3-4f04-8142-420828d4ca33",
   "metadata": {},
   "source": [
    "En la etapa de EDA se comprueba que las características continuas no muestran distribuciones normales:\n",
    "- \"age\" y \"campaign\" muestran un fuerte sesgo y outliers. Las transformaremos mediante logaritmos, para winsorizarlas luego.\n",
    "- \"balance\" muestra un fuerte sesgo y outliers, contiene valores negativos. Utilizaremos la transformación \"Yeo-Johnson\", para winsorizarla luego."
   ]
  },
  {
   "cell_type": "markdown",
   "id": "d14e25db-4586-475d-a0a8-4a5db5afc606",
   "metadata": {},
   "source": [
    "Debe notarse que la estandarización de \"age\" puede y dará lugar a valores igual a 0.0, luego debemos aplicar la transformación logarítmica antes de estandarizar, lo mismo sucede con \"campaign\". De ambas puede encontrarse su transformación en la sección '2. Imputación de Valores Faltantes'."
   ]
  },
  {
   "cell_type": "code",
   "execution_count": 33,
   "id": "801dfa6c-4f04-4cc1-9ff4-07f68e789956",
   "metadata": {},
   "outputs": [
    {
     "name": "stdout",
     "output_type": "stream",
     "text": [
      "Sesgo (balance):  8.694627070216121\n",
      "Sesgo (balance):  0.520387898818705\n",
      "Sesgo (balance):  7.204846145723846\n",
      "Sesgo (balance):  0.520387898818705\n"
     ]
    }
   ],
   "source": [
    "# Dado que tenemos distribuciones fuertemente sesgadas, las transformamos para reducir\n",
    "# el sesgo y los outliers\n",
    "\n",
    "# Para los valores de entrenamiento.\n",
    "print (\"Sesgo (balance): \", Xtrain ['balance'].skew ())\n",
    "Xtrain ['yj_balance'], _ = yeojohnson (Xtrain ['balance'])\n",
    "Xtrain ['yj_balance'] = winsorize (Xtrain ['yj_balance'], limits = [0.05, 0.08], inplace = True)\n",
    "Xtrain = Xtrain.loc [:, Xtrain.columns.drop (['balance'])]\n",
    "print (\"Sesgo (balance): \", Xtrain ['yj_balance'].skew ())\n",
    "\n",
    "# Para los valores de prueba.\n",
    "print (\"Sesgo (balance): \", Xtest ['balance'].skew ())\n",
    "Xtest ['yj_balance'], _ = yeojohnson (Xtest ['balance'])\n",
    "Xtest ['yj_balance'] = winsorize (Xtest ['yj_balance'], limits = [0.05, 0.08], inplace = True)\n",
    "Xtest = Xtrain.loc [:, Xtest.columns.drop (['balance'])]\n",
    "print (\"Sesgo (balance): \", Xtest ['yj_balance'].skew ())\n",
    "\n",
    "# Salvamos los datos.\n",
    "Xtrain.to_csv ('bank_train.csv', index = False)\n",
    "Xtest.to_csv ('bank_test.csv', index = False)\n"
   ]
  },
  {
   "cell_type": "code",
   "execution_count": 34,
   "id": "442c98a5-cf8d-4848-8ac6-67d1b9993307",
   "metadata": {},
   "outputs": [
    {
     "data": {
      "text/plain": [
       "{'whiskers': [<matplotlib.lines.Line2D at 0x7f6828896ea0>,\n",
       "  <matplotlib.lines.Line2D at 0x7f68288971d0>],\n",
       " 'caps': [<matplotlib.lines.Line2D at 0x7f6828897410>,\n",
       "  <matplotlib.lines.Line2D at 0x7f6828897740>],\n",
       " 'boxes': [<matplotlib.lines.Line2D at 0x7f6828df16d0>],\n",
       " 'medians': [<matplotlib.lines.Line2D at 0x7f6828897a40>],\n",
       " 'fliers': [<matplotlib.lines.Line2D at 0x7f6828897d70>],\n",
       " 'means': []}"
      ]
     },
     "execution_count": 34,
     "metadata": {},
     "output_type": "execute_result"
    },
    {
     "data": {
      "image/png": "[encoded data removed]",
      "text/plain": [
       "<Figure size 640x480 with 1 Axes>"
      ]
     },
     "metadata": {},
     "output_type": "display_data"
    }
   ],
   "source": [
    "plt.title (\"Train - age\")\n",
    "plt.boxplot (Xtrain ['Log_age'])"
   ]
  },
  {
   "cell_type": "code",
   "execution_count": 35,
   "id": "20f348ef-39fd-4e95-bc12-3a6dea5a8b2a",
   "metadata": {},
   "outputs": [
    {
     "data": {
      "text/plain": [
       "{'whiskers': [<matplotlib.lines.Line2D at 0x7f6828785160>,\n",
       "  <matplotlib.lines.Line2D at 0x7f682874bef0>],\n",
       " 'caps': [<matplotlib.lines.Line2D at 0x7f682863c200>,\n",
       "  <matplotlib.lines.Line2D at 0x7f682863c4a0>],\n",
       " 'boxes': [<matplotlib.lines.Line2D at 0x7f68287c6870>],\n",
       " 'medians': [<matplotlib.lines.Line2D at 0x7f682863c770>],\n",
       " 'fliers': [<matplotlib.lines.Line2D at 0x7f682863ca40>],\n",
       " 'means': []}"
      ]
     },
     "execution_count": 35,
     "metadata": {},
     "output_type": "execute_result"
    },
    {
     "data": {
      "image/png": "[encoded data removed]",
      "text/plain": [
       "<Figure size 640x480 with 1 Axes>"
      ]
     },
     "metadata": {},
     "output_type": "display_data"
    }
   ],
   "source": [
    "plt.title (\"Train - campaign\")\n",
    "plt.boxplot (Xtrain ['Log_campaign'])"
   ]
  },
  {
   "cell_type": "code",
   "execution_count": 36,
   "id": "54f3f597-6c09-4b96-a5d1-c06210440bc5",
   "metadata": {},
   "outputs": [
    {
     "data": {
      "text/plain": [
       "{'whiskers': [<matplotlib.lines.Line2D at 0x7f682864d160>,\n",
       "  <matplotlib.lines.Line2D at 0x7f6828684080>],\n",
       " 'caps': [<matplotlib.lines.Line2D at 0x7f6828684260>,\n",
       "  <matplotlib.lines.Line2D at 0x7f6828684500>],\n",
       " 'boxes': [<matplotlib.lines.Line2D at 0x7f6828667b90>],\n",
       " 'medians': [<matplotlib.lines.Line2D at 0x7f6828684830>],\n",
       " 'fliers': [<matplotlib.lines.Line2D at 0x7f6828684b00>],\n",
       " 'means': []}"
      ]
     },
     "execution_count": 36,
     "metadata": {},
     "output_type": "execute_result"
    },
    {
     "data": {
      "image/png": "[encoded data removed]",
      "text/plain": [
       "<Figure size 640x480 with 1 Axes>"
      ]
     },
     "metadata": {},
     "output_type": "display_data"
    }
   ],
   "source": [
    "plt.title (\"Train - yj_balance\")\n",
    "plt.boxplot (Xtrain ['yj_balance'])"
   ]
  },
  {
   "cell_type": "code",
   "execution_count": null,
   "id": "b1784393-d399-4ec5-9db8-77f0044871ee",
   "metadata": {},
   "outputs": [],
   "source": []
  }
 ],
 "metadata": {
  "kernelspec": {
   "display_name": "Python 3 (ipykernel)",
   "language": "python",
   "name": "python3"
  },
  "language_info": {
   "codemirror_mode": {
    "name": "ipython",
    "version": 3
   },
   "file_extension": ".py",
   "mimetype": "text/x-python",
   "name": "python",
   "nbconvert_exporter": "python",
   "pygments_lexer": "ipython3",
   "version": "3.12.4"
  }
 },
 "nbformat": 4,
 "nbformat_minor": 5
}
