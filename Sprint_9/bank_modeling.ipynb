{
 "cells": [
  {
   "cell_type": "markdown",
   "id": "4f97940b-4618-412a-a180-da37c40e1d46",
   "metadata": {},
   "source": [
    "# A.- Preparación de los datos"
   ]
  },
  {
   "cell_type": "markdown",
   "id": "4e9bcea6-bf78-497b-b7ea-6a8cc231d466",
   "metadata": {},
   "source": [
    "### 1.- División entre datos de entrenamiento y datos de prueba."
   ]
  },
  {
   "cell_type": "code",
   "execution_count": 3,
   "id": "bf6779e8-44e8-4300-a438-32b2a216ff1c",
   "metadata": {},
   "outputs": [],
   "source": [
    "'''python\n",
    "Preparación de datos de entrenamiento y de prueba.\n",
    "'''\n",
    "\n",
    "# Importamos las librerías a usar.\n",
    "\n",
    "# De uso general.\n",
    "import pandas as pd\n",
    "import numpy as np\n",
    "\n",
    "# Para mostrar gráficos.\n",
    "import matplotlib.pyplot as plt\n",
    "import seaborn as sns\n",
    "\n",
    "# Para separar datos de entrenamiento y pruebas.\n",
    "from sklearn.model_selection import train_test_split\n",
    "\n",
    "# Para la transformación de los datos.\n",
    "from scipy.stats.mstats import winsorize\n",
    "from sklearn.preprocessing import LabelEncoder\n",
    "from sklearn.preprocessing import OneHotEncoder\n",
    "from sklearn.preprocessing import StandardScaler\n",
    "\n",
    "# Para la selección de características.\n",
    "from sklearn.feature_selection import SelectKBest\n",
    "from sklearn.feature_selection import f_classif\n",
    "from sklearn.feature_selection import chi2\n"
   ]
  },
  {
   "cell_type": "code",
   "execution_count": 4,
   "id": "13cb2083-8773-4f1f-93c9-ced06758d9dd",
   "metadata": {},
   "outputs": [],
   "source": [
    "# Cargamos los datos.\n",
    "df = pd.read_csv ('bank_dataset.csv')\n",
    "\n",
    "# Seleccionamos las características.\n",
    "X = df.loc [:, df.columns.drop ('deposit')]\n",
    "\n",
    "# Nuestra variable objetivo.\n",
    "Y = df.loc [:, ['deposit']]\n",
    "\n",
    "# Dividimos en datos de entramiento y datos de prueba\n",
    "Xtrain, Xtest, Ytrain, Ytest = train_test_split (X, Y, test_size = 0.3, random_state = 1, stratify = Y)\n",
    "\n",
    "# Salvamos los datos.\n",
    "Xtrain.to_csv ('bank_train.csv', index = False)\n",
    "Xtest.to_csv  ('bank_test.csv', index = False)\n",
    "Ytrain.to_csv ('bank_target_train.csv', index = False)\n",
    "Ytest.to_csv  ('bank_target_test.csv', index = False)\n"
   ]
  },
  {
   "cell_type": "markdown",
   "id": "38c6c10e-73e2-48dc-b247-1179162f93a6",
   "metadata": {},
   "source": [
    "### 2.- Imputación de Valores Faltantes."
   ]
  },
  {
   "cell_type": "markdown",
   "id": "d6bbf116-be63-453b-acfe-485197cf0759",
   "metadata": {},
   "source": [
    "#### 2.1.- Mediante la media y la moda."
   ]
  },
  {
   "cell_type": "markdown",
   "id": "dfe957b6-0e06-4de5-981b-d0e6a47aaadb",
   "metadata": {},
   "source": [
    "Se encuentran muy pocos valores nulos, localizados en las columnas \"age\", \"marital\" y \"status\"."
   ]
  },
  {
   "cell_type": "markdown",
   "id": "8f5e280a-614b-435d-8634-f3f801f208a5",
   "metadata": {},
   "source": [
    "Rellenamos los datos nulos de \"age\" mediante la media."
   ]
  },
  {
   "cell_type": "code",
   "execution_count": 9,
   "id": "5935de3f-c97f-45de-8561-a47a585bdd14",
   "metadata": {},
   "outputs": [],
   "source": [
    "# \"age\" mean\n",
    "age_mean = X ['age'].mean ()\n",
    "\n",
    "# Para los valores de entrenamiento\n",
    "Xtrain.loc [Xtrain ['age'].isnull(), 'age'] = age_mean\n",
    "\n",
    "# Para los valores de prueba\n",
    "Xtest.loc [Xtest ['age'].isnull(), 'age'] = age_mean\n",
    "\n",
    "# Salvamos los datos.\n",
    "Xtrain.to_csv ('bank_train.csv', index = False)\n",
    "Xtest.to_csv ('bank_test.csv', index = False)\n"
   ]
  },
  {
   "cell_type": "markdown",
   "id": "2a9c9388-7064-4962-aa1d-58ee2a0328e6",
   "metadata": {},
   "source": [
    "Rellenamos los datos nulos de \"marital\" y \"education\" con la moda, en función de la edad, mediante la definición de un conjunto de intervalos."
   ]
  },
  {
   "cell_type": "code",
   "execution_count": 11,
   "id": "bb830fb9-bae0-47dc-8831-0aacb067c2da",
   "metadata": {},
   "outputs": [
    {
     "name": "stdout",
     "output_type": "stream",
     "text": [
      "Faltantes ( marital ):  5\n",
      "Faltantes ( marital ):  0\n",
      "Faltantes ( education ):  5\n",
      "Faltantes ( education ):  0\n",
      "Faltantes ( marital ):  0\n",
      "Faltantes ( education ):  2\n",
      "Faltantes ( education ):  0\n"
     ]
    }
   ],
   "source": [
    "# En 'marital' y 'education' sustituiremos los valores faltantes por la moda, en función de la edad.\n",
    "\n",
    "# Definimos una tupla para diferentes intervalos en 'age': 0 - 18, 18 - 25, 25 - 45, 45 - 65 y > 65.\n",
    "tpl_age = (0, 18, 25, 45, 65)\n",
    "\n",
    "# Calculamos la moda para cada intervalo y la salvamos en una lista.\n",
    "def mode_by_age (df, col):\n",
    "    lst_mode = []\n",
    "\n",
    "    for i in range (len (tpl_age) - 1):\n",
    "        # print (\"i \", i)\n",
    "        df_age = df.loc [(df ['age'] > tpl_age [i]) & (df ['age'] <= tpl_age [i + 1]), :]\n",
    "        # print (df_age)\n",
    "        if not df_age.empty:\n",
    "            lst_mode.append (df_age [col].mode () [0])\n",
    "        else:\n",
    "            lst_mode.append (-1)\n",
    "\n",
    "    df_age = df.loc [(df ['age'] > tpl_age [i + 1])]\n",
    "    if not df_age.empty:\n",
    "        lst_mode.append (df_age [col].mode () [0])\n",
    "    else:\n",
    "        lst_mode.append (-1)\n",
    "\n",
    "    return lst_mode\n",
    "\n",
    "# Rellenamos los valores faltantes con la moda, en función del intervalo de edad.\n",
    "def missing_by_age (df, col):\n",
    "\n",
    "    faltan = df[col].isnull ().sum ()\n",
    "\n",
    "    if faltan == 0:\n",
    "        print (\"Faltantes (\", col, \"): \", faltan)\n",
    "        # print (\"return\")\n",
    "        return\n",
    "    \n",
    "    print (\"Faltantes (\", col, \"): \", faltan)\n",
    "\n",
    "    lst_mode = mode_by_age (df, col)\n",
    "\n",
    "    for i in range (len (tpl_age) - 1):\n",
    "        df.loc [(df ['age'] > tpl_age [i]) & (df ['age'] <= tpl_age [i + 1]), [col]] = df.fillna ({col: lst_mode [i]})\n",
    "\n",
    "    i += 1\n",
    "    df.loc [(df ['age'] > tpl_age [i]), [col]] = df.fillna ({col: lst_mode [i]})\n",
    "\n",
    "    print (\"Faltantes (\", col, \"): \", df[col].isnull ().sum ())\n",
    "\n",
    "# Rellenamos los valores faltantes llamando a 'missing_by_age'.\n",
    "\n",
    "# Para los valores de entrenamiento\n",
    "missing_by_age (Xtrain, 'marital')\n",
    "missing_by_age (Xtrain, 'education')\n",
    "\n",
    "# Para los valores de prueba\n",
    "missing_by_age (Xtest, 'marital')\n",
    "missing_by_age (Xtest, 'education')\n"
   ]
  },
  {
   "cell_type": "markdown",
   "id": "93bd0218-202f-45f7-af1a-367b51345ffb",
   "metadata": {},
   "source": [
    "#### 2.2.- Mediante asignación de valores."
   ]
  },
  {
   "cell_type": "markdown",
   "id": "e790c81c-e564-46f4-bfe4-5599e81cc5f2",
   "metadata": {},
   "source": [
    "En el archivo .csv aparecen muchas filas con el valor \"other\" en la columna \"poutcome\". Imputaremos dichos datos con el valor 'failure'."
   ]
  },
  {
   "cell_type": "code",
   "execution_count": 14,
   "id": "790063bd-f52a-4a03-816a-4270b6241eb2",
   "metadata": {},
   "outputs": [
    {
     "name": "stdout",
     "output_type": "stream",
     "text": [
      "previous    0\n",
      "poutcome    0\n",
      "dtype: int64\n",
      "previous    0\n",
      "poutcome    0\n",
      "dtype: int64\n",
      "previous    0\n",
      "poutcome    0\n",
      "dtype: int64\n"
     ]
    }
   ],
   "source": [
    "# Tal y como se sugiere en el email sobre el feedback, cambiaremos el valor de 'other'\n",
    "# del modo siguiente:\n",
    "#\n",
    "# - Si previous está entre 1 y 3, entonces poutcome podría ser asignado como \"failure\".\n",
    "# - Si previous está entre 4 y 11, entonces poutcome podría ser asignado como \"success\".\n",
    "# - Si previous es 12 o más, entonces poutcome podría ser asignado como \"failure\".\n",
    "\n",
    "# Para los valores de entrenamiento.\n",
    "\n",
    "Xtrain.loc [(Xtrain ['poutcome'] == 'other') & (Xtrain ['previous'] >= 1) & (Xtrain ['previous'] <= 3), 'poutcome'] = 'failure'\n",
    "Xtrain.loc [(Xtrain ['poutcome'] == 'other') & (Xtrain ['previous'] >= 4) & (Xtrain ['previous'] <= 11), 'poutcome'] = 'success'\n",
    "Xtrain.loc [(Xtrain ['poutcome'] == 'other') & (Xtrain ['previous'] > 12), 'poutcome'] = 'failure'\n",
    "\n",
    "print (Xtrain.loc [(Xtrain ['poutcome'] == 'other') & (Xtrain ['previous'] >= 1) & (Xtrain ['previous'] <= 3), ['previous', 'poutcome']].count ())\n",
    "print (Xtrain.loc [(Xtrain ['poutcome'] == 'other') & (Xtrain ['previous'] >= 4) & (Xtrain ['previous'] <= 11), ['previous', 'poutcome']].count ())\n",
    "print (Xtrain.loc [(Xtrain ['poutcome'] == 'other') & (Xtrain ['previous'] > 12), ['previous', 'poutcome']].count ())\n",
    "\n",
    "# Los valores 'unknown' the 'poutcome' los consideramos 'no aplica'.\n",
    "Xtrain.loc [(Xtrain ['poutcome'] == 'unknown'), 'poutcome'] = 'N/A'\n",
    "\n",
    "# Para los valores de prueba\n",
    "\n",
    "Xtest.loc [(Xtest ['poutcome'] == 'other') & (Xtest ['previous'] >= 1) & (Xtest ['previous'] <= 3), 'poutcome'] = 'failure'\n",
    "Xtest.loc [(Xtest ['poutcome'] == 'other') & (Xtest ['previous'] >= 4) & (Xtest ['previous'] <= 11), 'poutcome'] = 'success'\n",
    "Xtest.loc [(Xtest ['poutcome'] == 'other') & (Xtest ['previous'] > 12), 'poutcome'] = 'failure'\n",
    "\n",
    "# Los valores 'unknown' the 'poutcome' los consideramos 'no aplica'.\n",
    "Xtest.loc [(Xtest ['poutcome'] == 'unknown'), 'poutcome'] = 'N/A'\n",
    "\n",
    "# Salvamos los datos.\n",
    "Xtrain.to_csv ('bank_train.csv', index = False)\n",
    "Xtest.to_csv ('bank_test.csv', index = False)\n"
   ]
  },
  {
   "cell_type": "markdown",
   "id": "8a4ee8f2-3f0c-424d-a358-210982bb400b",
   "metadata": {},
   "source": [
    "### 3.- Identificación de las Características más Relevantes."
   ]
  },
  {
   "cell_type": "markdown",
   "id": "387ce4a9-a90c-47de-97b9-b8112cafcd37",
   "metadata": {},
   "source": [
    "Dado que los datos de entrenamiento son seleccionados al azar, se requiere reevaluar las características más relevantes.\n",
    "Nótese que en este apartado no se modican ni los datos de entrenamiento ni los de prueba, solo se obtiene la matriz de correlación y una serie de \"scores\"."
   ]
  },
  {
   "cell_type": "markdown",
   "id": "da974aea-f369-4a59-ac40-af596c89b374",
   "metadata": {},
   "source": [
    "#### 3.1.- Matriz de Correlación."
   ]
  },
  {
   "cell_type": "code",
   "execution_count": 18,
   "id": "ede0bc3e-00af-4606-8954-965ebad115d6",
   "metadata": {},
   "outputs": [
    {
     "data": {
      "image/png": "[encoded data removed]",
      "text/plain": [
       "<Figure size 640x480 with 2 Axes>"
      ]
     },
     "metadata": {},
     "output_type": "display_data"
    }
   ],
   "source": [
    "# Creamos la matriz de correlación.\n",
    "\n",
    "# Cargamos los datos de entrenamiento.\n",
    "Xt_cont = pd.read_csv ('bank_train.csv')\n",
    "\n",
    "# Tomamos las características numéricas.\n",
    "Xt_cont = Xt_cont.loc [:, ['age', 'balance', 'day', 'duration', 'campaign', 'pdays', 'previous']]\n",
    "\n",
    "# Creamos la matriz de correlación.\n",
    "corrM = Xt_cont.corr ()\n",
    "\n",
    "ax = sns.heatmap (corrM.corr(), annot = True)"
   ]
  },
  {
   "cell_type": "markdown",
   "id": "d3b9ee7c-ff4b-4f0f-b4e8-9e1844fb5c8f",
   "metadata": {},
   "source": [
    "En la matriz de correlaciones las características \"pdays\" y \"previous\" parecen tener una correlación fuerte, eliminaremos \"previous\"."
   ]
  },
  {
   "cell_type": "markdown",
   "id": "4aaf0ae9-b324-4e6f-865d-6dcc1987a914",
   "metadata": {},
   "source": [
    "#### 3.2.- Identificación de Variables Numéricas."
   ]
  },
  {
   "cell_type": "markdown",
   "id": "ace369d9-a7bc-480d-8278-668026f1a4c7",
   "metadata": {},
   "source": [
    "Calcularemos un \"score\" para las variables numéricas mediante ANOVA."
   ]
  },
  {
   "cell_type": "code",
   "execution_count": 22,
   "id": "4da3b4c3-3d7c-43cc-9927-d2962412083b",
   "metadata": {},
   "outputs": [
    {
     "name": "stdout",
     "output_type": "stream",
     "text": [
      "Para las variables numéricas:\n",
      "Feature ( duration ): 2093.88\n",
      "Feature (    pdays ):  180.15\n",
      "Feature ( previous ):  137.83\n",
      "Feature ( campaign ):  115.62\n",
      "Feature (  balance ):   46.00\n",
      "Feature (      day ):   27.13\n",
      "Feature (      age ):   14.92\n"
     ]
    },
    {
     "data": {
      "image/png": "[encoded data removed]",
      "text/plain": [
       "<Figure size 640x480 with 1 Axes>"
      ]
     },
     "metadata": {},
     "output_type": "display_data"
    }
   ],
   "source": [
    "# Primero seleccionamos las variables continuas.\n",
    "\n",
    "dfX = pd.read_csv('bank_train.csv')\n",
    "dfY = pd.read_csv('bank_target_train.csv')\n",
    "\n",
    "# Definimos las variables numéricas.\n",
    "cols = ['age', 'balance', 'day', 'duration', 'campaign', 'pdays', 'previous']\n",
    "\n",
    "# Seleccionamos las variables numéricas.\n",
    "dfX = dfX.loc [:, cols]\n",
    "\n",
    "# La función \"SelectKBest\" acepta arrays de numpy.\n",
    "np_X = dfX.values\n",
    "np_Y = dfY.values\n",
    "np_Y = np.ravel (np_Y, order = 'C')\n",
    "\n",
    "# Aplicamos el test ANOVA.\n",
    "fs = SelectKBest (score_func = f_classif, k = 'all')\n",
    "fs.fit (np_X, np_Y)\n",
    "np_X = fs.transform (np_X)\n",
    "\n",
    "# Imprimimos el \"score\".\n",
    "print (\"Para las variables numéricas:\")\n",
    "\n",
    "# Creamos un dataframe para reordernar los datos.\n",
    "scr_dict = {'feature': cols, 'score': list (fs.scores_)}\n",
    "df_Scr = pd.DataFrame (scr_dict).sort_values ('score', ascending = False).reset_index (drop = True)\n",
    "\n",
    "for i in range (len (fs.scores_)):\n",
    "    print ('Feature ( %8s ): %7.2f' % (df_Scr.loc [i, 'feature'], df_Scr.loc [i, 'score']))\n",
    "\n",
    "# Mostramos un histograma con el \"score\".\n",
    "plt.bar (df_Scr.loc [:, 'feature'], df_Scr.loc [:, 'score'])\n",
    "plt.show()"
   ]
  },
  {
   "cell_type": "markdown",
   "id": "79743c15-36c0-49b8-bef5-6e93e0a183c9",
   "metadata": {},
   "source": [
    "Como se ve, las características más relevantes son \"pdays\", \"previous\" y \"campaign\". Le siguen, en menor medida, \"balance\", \"day\" y \"age\"."
   ]
  },
  {
   "cell_type": "markdown",
   "id": "83f91563-a1fa-43b1-846d-98c1079898c2",
   "metadata": {},
   "source": [
    "Dado que no se conoce la duración de la llamada durante el entrenamiento del modelo, la variable \"duration\" no podrá utilizarse como característica del modelo, a pesar de mostrar una fuerte correlación con \"deposit\"."
   ]
  },
  {
   "cell_type": "markdown",
   "id": "ddce3216-638d-458f-a17d-c2d8fc0d81b4",
   "metadata": {},
   "source": [
    "Finalmente la variable \"day\" está definida como el \"dia de la semana\" en el que se realizó el contacto. Pero sus valores van del 1 al 31, no del 1 al 7, como podríamos esperar. Aún aceptando que fueran los días del mes, no disponemos del año en el que se realizó la campaña, luego no podemos imputar dichos valores a un día de la semana. Más aún, esta variable debería ejercer poca influencia en la predicción, como se comprueba en el gráfico."
   ]
  },
  {
   "cell_type": "markdown",
   "id": "08600b58-5564-4d96-9285-3e33ee02d662",
   "metadata": {},
   "source": [
    "#### 3.3.- Identificación de Variables Categóricas."
   ]
  },
  {
   "cell_type": "markdown",
   "id": "76c8f621-7641-4c56-8be9-253d280b2a7e",
   "metadata": {},
   "source": [
    "Calcularemos un \"score\" para las variables continuas mediante el test \"Chi cuadrado\"."
   ]
  },
  {
   "cell_type": "code",
   "execution_count": 28,
   "id": "dd16924c-b9e1-4946-93a5-93616959fc6c",
   "metadata": {},
   "outputs": [
    {
     "name": "stdout",
     "output_type": "stream",
     "text": [
      "Para las variables categóricas:\n",
      "Feature (   contact ): 622.38\n",
      "Feature (   housing ): 175.02\n",
      "Feature (      loan ):  70.34\n",
      "Feature (       job ):  60.95\n",
      "Feature (  poutcome ):  47.09\n",
      "Feature ( education ):  32.64\n",
      "Feature (   marital ):   8.58\n",
      "Feature (     month ):   8.10\n",
      "Feature (   default ):   7.21\n"
     ]
    },
    {
     "data": {
      "image/png": "[encoded data removed]",
      "text/plain": [
       "<Figure size 900x500 with 1 Axes>"
      ]
     },
     "metadata": {},
     "output_type": "display_data"
    }
   ],
   "source": [
    "# Después seleccionamos las variables categóricas.\n",
    "\n",
    "dfX = pd.read_csv('bank_train.csv')\n",
    "dfY = pd.read_csv('bank_target_train.csv')\n",
    "\n",
    "# Definimos las variables categóricas.\n",
    "cols = ['job', 'marital', 'education', 'default', 'housing', 'loan', 'contact', 'month', 'poutcome']\n",
    "\n",
    "# Convertimos las variables categóricas al tipo correcto.\n",
    "convert_dict = {'job':      'category',\n",
    "               'marital':   'category',\n",
    "               'education': 'category',\n",
    "               'default':   'category',\n",
    "               'housing':   'category',\n",
    "               'loan':      'category',\n",
    "               'contact':   'category',\n",
    "               'month':     'category',\n",
    "               'poutcome':  'category'\n",
    "               }\n",
    "\n",
    "dfX = dfX.astype (convert_dict)\n",
    "dfX = dfX.loc [:, cols]\n",
    "\n",
    "# Asignamos valores enteros a las características y a la salida.\n",
    "le = LabelEncoder ()\n",
    "for col in dfX.select_dtypes (include='category').columns:\n",
    "   dfX [col] = le.fit_transform (dfX [col])\n",
    "\n",
    "for col in dfY.select_dtypes(include='category').columns:\n",
    "   dfY [col] = le.fit_transform (dfY [col])\n",
    "\n",
    "# La función \"SelectKBest\" acepta arrays de numpy.\n",
    "np_X = dfX.values\n",
    "np_Y = dfY.values\n",
    "np_Y = np.ravel (np_Y, order = 'C')\n",
    "\n",
    "# Aplicamos el test chi cuadrado.\n",
    "fs = SelectKBest (score_func = chi2, k = 'all')\n",
    "fs.fit (np_X, np_Y)\n",
    "np_X = fs.transform (np_X)\n",
    "\n",
    "# Imprimimos el \"score\".\n",
    "print; print (\"Para las variables categóricas:\")\n",
    "\n",
    "# Creamos un dataframe para reordernar los datos.\n",
    "scr_dict = {'feature': cols, 'score': list (fs.scores_)}\n",
    "df_Scr = pd.DataFrame (scr_dict).sort_values ('score', ascending = False).reset_index (drop = True)\n",
    "\n",
    "for i in range (len (fs.scores_)):\n",
    "    print ('Feature ( %9s ): %6.2f' % (df_Scr.loc [i, 'feature'], df_Scr.loc [i, 'score']))\n",
    "\n",
    "# Mostramos un histograma con el \"score\".\n",
    "plt.figure (figsize = (9, 5))\n",
    "plt.bar (df_Scr.loc [:, 'feature'], df_Scr.loc [:, 'score'])\n",
    "plt.show ()\n"
   ]
  },
  {
   "cell_type": "markdown",
   "id": "f57e4c18-57cb-4c01-bc0b-97d87b8968c8",
   "metadata": {},
   "source": [
    "Las características más relevantes son \"contact\", \"housing\", \"loan\", \"poutcome\", \"job\" y \"education\". Algo menos relevantes son \"marital\", \"default\" y \"month\"."
   ]
  },
  {
   "cell_type": "markdown",
   "id": "a55a7db3-caeb-4c17-b7d5-187aa7bd9597",
   "metadata": {},
   "source": [
    "### 4.- Codificación de Variables Categóricas."
   ]
  },
  {
   "cell_type": "markdown",
   "id": "57c0ff97-dfa3-4cec-8ced-8b7c5bbf42d9",
   "metadata": {},
   "source": [
    "En la sección anterior se realizó el test \"Chi cuadrado\" a las características categóricas. Las más relevantes son \"contact\", \"housing\", \"loan\", \"poutcome\", \"job\" y \"education\". Algo menos relevantes son \"marital\", \"default\" y \"month\". Pasamos \"OneHotEncoder\" a \"job\" y \"education\". Por otro lado, \"contact\", \"housing\", \"loan\", \"poutcome\" y \"default\" son binarias y podemos aplicar \"LabelEnconder\"."
   ]
  },
  {
   "cell_type": "markdown",
   "id": "984603fc-db7c-4de6-83af-d71c7ab223eb",
   "metadata": {},
   "source": [
    "Para no aumentar demasiado la dimensionalidad, descartamos \"marital\" y \"month\", con un \"score\" bajo."
   ]
  },
  {
   "cell_type": "code",
   "execution_count": 33,
   "id": "560607ec-cfe2-4d68-b5bb-3e69adbec950",
   "metadata": {},
   "outputs": [
    {
     "name": "stdout",
     "output_type": "stream",
     "text": [
      "Index(['freelance', 'non-qualified', 'other', 'qualified', 'semi-qualified'], dtype='object')\n",
      "columna: contact, clases: ['cellular' 'telephone' 'unknown']\n",
      "columna: poutcome, clases: ['N/A' 'failure' 'other' 'success']\n",
      "columna: housing, clases: ['no' 'yes']\n",
      "columna: loan, clases: ['no' 'yes']\n",
      "columna: default, clases: ['no' 'yes']\n",
      "<class 'pandas.core.frame.DataFrame'>\n",
      "Index: 7813 entries, 2681 to 6257\n",
      "Data columns (total 16 columns):\n",
      " #   Column     Non-Null Count  Dtype   \n",
      "---  ------     --------------  -----   \n",
      " 0   age        7813 non-null   float64 \n",
      " 1   job        7813 non-null   category\n",
      " 2   marital    7813 non-null   category\n",
      " 3   education  7813 non-null   category\n",
      " 4   default    7813 non-null   int64   \n",
      " 5   balance    7813 non-null   int64   \n",
      " 6   housing    7813 non-null   int64   \n",
      " 7   loan       7813 non-null   int64   \n",
      " 8   contact    7813 non-null   int64   \n",
      " 9   day        7813 non-null   int64   \n",
      " 10  month      7813 non-null   category\n",
      " 11  duration   7813 non-null   int64   \n",
      " 12  campaign   7813 non-null   int64   \n",
      " 13  pdays      7813 non-null   int64   \n",
      " 14  previous   7813 non-null   int64   \n",
      " 15  poutcome   7813 non-null   int64   \n",
      "dtypes: category(4), float64(1), int64(11)\n",
      "memory usage: 1.1 MB\n",
      "None\n",
      "      contact  poutcome  housing  loan  default\n",
      "2681        0         0        0     0        0\n",
      "8997        0         0        1     0        0\n",
      "357         2         0        1     1        0\n",
      "8479        0         0        0     0        0\n",
      "8022        0         0        1     0        0\n",
      "Index(['freelance', 'non-qualified', 'other', 'qualified', 'semi-qualified'], dtype='object')\n"
     ]
    }
   ],
   "source": [
    "# Para los valores de entrenamiento.\n",
    "\n",
    "# Reducimos el número de categorías de 'job', para evitar un aumento en la dimensionalidad.\n",
    "# Es más simple hacerlo con el tipo 'object'.\n",
    "\n",
    "# We turn all values into: 'non-qualified', 'semi-qualified', 'qualified', 'freelance' and 'other'.\n",
    "Xtrain.loc [Xtrain ['job'] == 'housemaid',     ['job']] = 'non-qualified'\n",
    "Xtrain.loc [Xtrain ['job'] == 'blue-collar',   ['job']] = 'non-qualified'\n",
    "\n",
    "Xtrain.loc [Xtrain ['job'] == 'admin.',        ['job']] = 'semi-qualified'\n",
    "Xtrain.loc [Xtrain ['job'] == 'services',      ['job']] = 'semi-qualified'\n",
    "\n",
    "Xtrain.loc [Xtrain ['job'] == 'management',    ['job']] = 'qualified'\n",
    "Xtrain.loc [Xtrain ['job'] == 'technician',    ['job']] = 'qualified'\n",
    "\n",
    "Xtrain.loc [Xtrain ['job'] == 'self-employed', ['job']] = 'freelance'\n",
    "Xtrain.loc [Xtrain ['job'] == 'entrepreneur',  ['job']] = 'freelance'\n",
    "\n",
    "# Definimos 'retired', 'student', 'unemployed' y 'unknown' como 'other'.\n",
    "Xtrain.loc [Xtrain ['job'] == 'retired',    ['job']] = 'other'\n",
    "Xtrain.loc [Xtrain ['job'] == 'student',    ['job']] = 'other'\n",
    "Xtrain.loc [Xtrain ['job'] == 'unemployed', ['job']] = 'other'\n",
    "Xtrain.loc [Xtrain ['job'] == 'unknown',    ['job']] = 'other'\n",
    "\n",
    "# Asignamos el tipo 'category' a las columnas 'object'.\n",
    "for col in Xtrain.select_dtypes (include='object').columns:\n",
    "    Xtrain [col] = Xtrain [col].astype ('category')\n",
    "\n",
    "# Comprobamos el número de valores de 'job'.\n",
    "print (Xtrain ['job'].cat.categories)\n",
    "\n",
    "# Columnas binarias.\n",
    "cols = ['contact', 'poutcome', 'housing', 'loan', 'default']\n",
    "\n",
    "le = LabelEncoder ()\n",
    "for c in cols:\n",
    "    Xtrain [c] = le.fit_transform (Xtrain[c])\n",
    "    print (f'columna: %s, clases: %s' % (c, le.classes_))\n",
    "\n",
    "print (Xtrain.info ())\n",
    "print (Xtrain.loc [:, ['contact', 'poutcome', 'housing', 'loan', 'default']].head ())\n",
    "\n",
    "# Columnas categóricas.\n",
    "Xtrain = pd.get_dummies (Xtrain, columns = ['job', 'education'])\n",
    "\n",
    "# Para los valores de prueba.\n",
    "\n",
    "# Reducimos el número de categorías de 'job', para evitar un aumento en la dimensionalidad.\n",
    "# Es más simple hacerlo con el tipo 'object'.\n",
    "Xtest.loc [Xtest ['job'] == 'housemaid',   ['job']] = 'non-qualified'\n",
    "Xtest.loc [Xtest ['job'] == 'blue-collar', ['job']] = 'non-qualified'\n",
    "\n",
    "Xtest.loc [Xtest ['job'] == 'admin.',        ['job']] = 'semi-qualified'\n",
    "Xtest.loc [Xtest ['job'] == 'services',      ['job']] = 'semi-qualified'\n",
    "\n",
    "Xtest.loc [Xtest ['job'] == 'management',    ['job']] = 'qualified'\n",
    "Xtest.loc [Xtest ['job'] == 'technician',    ['job']] = 'qualified'\n",
    "\n",
    "Xtest.loc [Xtest ['job'] == 'self-employed', ['job']] = 'freelance'\n",
    "Xtest.loc [Xtest ['job'] == 'entrepreneur',  ['job']] = 'freelance'\n",
    "\n",
    "# Definimos 'retired', 'student', 'unemployed' y 'unknown' como 'other'.\n",
    "Xtest.loc [Xtest ['job'] == 'retired',    ['job']] = 'other'\n",
    "Xtest.loc [Xtest ['job'] == 'student',    ['job']] = 'other'\n",
    "Xtest.loc [Xtest ['job'] == 'unemployed', ['job']] = 'other'\n",
    "Xtest.loc [Xtest ['job'] == 'unknown',    ['job']] = 'other'\n",
    "\n",
    "# Asignamos el tipo 'category' a las columnas 'object'.\n",
    "for col in Xtest.select_dtypes (include='object').columns:\n",
    "    Xtest [col] = Xtest [col].astype ('category')\n",
    "\n",
    "# Comprobamos el número de valores de 'job'.\n",
    "print (Xtest ['job'].cat.categories)\n",
    "\n",
    "# Columnas binarias.\n",
    "# 'cols' está definido arriba.\n",
    "le = LabelEncoder ()\n",
    "for c in cols:\n",
    "    Xtest [c] = le.fit_transform (Xtest [c])\n",
    "    # print (f'columna: %s, clases: %s' % (c, le.classes_))\n",
    "\n",
    "# Columnas categóricas.\n",
    "Xtest = pd.get_dummies (Xtest, columns = ['job', 'education'])\n",
    "\n",
    "# print (Xtest.info ())\n",
    "# print (Xtest.loc [:, ['contact', 'poutcome', 'housing', 'loan', 'default']].head ())\n",
    "\n",
    "# Salvamos los datos.\n",
    "Xtrain.to_csv ('bank_train.csv', index = False)\n",
    "Xtest.to_csv ('bank_test.csv', index = False)\n"
   ]
  },
  {
   "cell_type": "markdown",
   "id": "855795d0-599e-44ae-abf3-8417bf913c6c",
   "metadata": {},
   "source": [
    "### 5.- Estandarización."
   ]
  },
  {
   "cell_type": "markdown",
   "id": "05dff20f-eb86-44d3-b510-6d9cb69360d9",
   "metadata": {},
   "source": [
    "En la sección 3, se realizó el test \"ANOVA\" a las características numéricas. Las más relevantes son \"age\", \"balance\", \"campaign\", \"pdays\" y \"previous\". Normalizamos dichas variables. Por otro lado \"pdays\" y \"previous\" parecen estar fuertemente correlacionadas, \"previous\" será descartado."
   ]
  },
  {
   "cell_type": "code",
   "execution_count": 36,
   "id": "17008f40-e467-4ffa-8ff9-6a05fd0dedbc",
   "metadata": {},
   "outputs": [
    {
     "data": {
      "image/png": "[encoded data removed]",
      "text/plain": [
       "<Figure size 1200x500 with 2 Axes>"
      ]
     },
     "metadata": {},
     "output_type": "display_data"
    },
    {
     "data": {
      "image/png": "[encoded data removed]",
      "text/plain": [
       "<Figure size 1200x500 with 2 Axes>"
      ]
     },
     "metadata": {},
     "output_type": "display_data"
    }
   ],
   "source": [
    "cols = ['age', 'balance', 'campaign', 'pdays']\n",
    "\n",
    "scaler = StandardScaler()\n",
    "\n",
    "# Para los valores de entrenamiento.\n",
    "for c in cols:\n",
    "    Xtrain [c] = Xtrain [c].astype ('float64')\n",
    "\n",
    "# Aplicamos \"fit_transform\" a los valores de entrenamiento.\n",
    "Xtrain.loc [:,cols] = scaler.fit_transform (Xtrain.loc [:,cols])\n",
    "\n",
    "# Para los valores de prueba.\n",
    "for c in cols:\n",
    "    Xtest [c] = Xtest [c].astype ('float64')\n",
    "\n",
    "# Aplicamos solamente \"transform\" a los valores de entrenamiento.\n",
    "Xtest.loc [:,cols] = scaler.transform (Xtest.loc [:,cols])\n",
    "\n",
    "# Salvamos los datos.\n",
    "Xtrain.to_csv ('bank_train.csv', index = False)\n",
    "Xtest.to_csv ('bank_test.csv', index = False)\n",
    "\n",
    "# Se muestran los histogramas para comprobar que la media es 0.0 y\n",
    "# la desvación estándar 1.0.\n",
    "\n",
    "# Definir las columnas a visualizar.\n",
    "cols = ['age', 'balance']\n",
    "\n",
    "fig, axes = plt.subplots (nrows = 1, ncols = 2, figsize = (12, 5))\n",
    "\n",
    "# Iterar sobre cada columna para crear un histograma\n",
    "for i, col in enumerate (cols):\n",
    "    sns.histplot (Xtrain [col], kde = False, ax = axes [i], color = 'blue', bins = 30)\n",
    "    axes[i].set_title (f'{col}')\n",
    "    axes[i].set_xlabel ('Valor')\n",
    "    axes[i].set_ylabel ('Frecuencia')\n",
    "\n",
    "# Definir las columnas a visualizar\n",
    "cols = ['campaign', 'pdays']\n",
    "    \n",
    "fig, axes = plt.subplots (nrows = 1, ncols = 2, figsize = (12, 5))\n",
    "\n",
    "# Iterar sobre cada columna para crear un histograma\n",
    "for i, col in enumerate (cols):\n",
    "    sns.histplot (Xtrain [col], kde = False, ax = axes [i], color = 'blue', bins = 30)\n",
    "    axes[i].set_title (f'{col}')\n",
    "    axes[i].set_xlabel ('Valor')\n",
    "    axes[i].set_ylabel ('Frecuencia')\n",
    "    \n",
    "plt.show()\n",
    "\n",
    "# Salvamos los datos.\n",
    "Xtrain.to_csv ('bank_train.csv', index = False)\n",
    "Xtest.to_csv ('bank_test.csv', index = False)\n"
   ]
  },
  {
   "cell_type": "markdown",
   "id": "2dd041c3-d0a7-46fb-a64c-eb749df86fca",
   "metadata": {},
   "source": [
    "### 6.- Selección de Características Relevantes."
   ]
  },
  {
   "cell_type": "markdown",
   "id": "a0c539df-7f51-47bc-a1b3-5ad6185d74f7",
   "metadata": {},
   "source": [
    "En la matriz de correlaciones  (Secc. 3) las características \"pdays\" y \"previous\" parecen tener una correlación fuerte, eliminamos \"previous\"."
   ]
  },
  {
   "cell_type": "markdown",
   "id": "83671e69-1048-4b5d-be23-4525732f3ee4",
   "metadata": {},
   "source": [
    "Las características continuas más relevantes son \"pdays\", \"previous\" y \"campaign\". Le siguen, en menor medida, \"balance\", \"day\" y \"age\"."
   ]
  },
  {
   "cell_type": "markdown",
   "id": "899df526-0bc5-4672-b24b-b19f3ce22c5f",
   "metadata": {},
   "source": [
    "Dado que no se conoce la duración de la llamada durante la predicción, la variable \"duration\" no podrá utilizarse como característica del modelo, a pesar de mostrar una fuerte correlación con \"deposit\"."
   ]
  },
  {
   "cell_type": "markdown",
   "id": "8bfd0876-d550-4035-955f-96849861ac1f",
   "metadata": {},
   "source": [
    "Finalmente la variable \"day\" está definida como el \"dia de la semana\" en el que se realizó el contacto. Pero sus valores van del 1 al 31, no del 1 al 7, como podríamos esperar. Aún aceptando que fueran los días del mes, no disponemos del año en el que se realizó la campaña, luego no podemos imputar dichos valores a un día de la semana. Más aún, esta variable debería ejercer poca influencia en la predicción, como se comprueba en el gráfico."
   ]
  },
  {
   "cell_type": "markdown",
   "id": "fff5f415-afe3-4ea3-8af6-c7285a8324d2",
   "metadata": {},
   "source": [
    "Las características categóricas más relevantes son \"contact\", \"housing\", \"loan\", \"poutcome\", \"job\" y \"education\". Algo menos relevantes son \"marital\", \"default\" y \"month\"."
   ]
  },
  {
   "cell_type": "markdown",
   "id": "93b2be6b-6f19-42c3-bfe0-b3b00abff689",
   "metadata": {},
   "source": [
    "Para no aumentar demasiado la dimensionalidad, descartamos \"marital\" y \"month\", con un \"score\" bajo."
   ]
  },
  {
   "cell_type": "code",
   "execution_count": 44,
   "id": "bb0f7233-0233-422c-9784-ba3da7cc211e",
   "metadata": {},
   "outputs": [
    {
     "name": "stdout",
     "output_type": "stream",
     "text": [
      "<class 'pandas.core.frame.DataFrame'>\n",
      "Index: 7813 entries, 2681 to 6257\n",
      "Data columns (total 18 columns):\n",
      " #   Column               Non-Null Count  Dtype  \n",
      "---  ------               --------------  -----  \n",
      " 0   age                  7813 non-null   float64\n",
      " 1   default              7813 non-null   int64  \n",
      " 2   balance              7813 non-null   float64\n",
      " 3   housing              7813 non-null   int64  \n",
      " 4   loan                 7813 non-null   int64  \n",
      " 5   contact              7813 non-null   int64  \n",
      " 6   campaign             7813 non-null   float64\n",
      " 7   pdays                7813 non-null   float64\n",
      " 8   poutcome             7813 non-null   int64  \n",
      " 9   job_freelance        7813 non-null   bool   \n",
      " 10  job_non-qualified    7813 non-null   bool   \n",
      " 11  job_other            7813 non-null   bool   \n",
      " 12  job_qualified        7813 non-null   bool   \n",
      " 13  job_semi-qualified   7813 non-null   bool   \n",
      " 14  education_primary    7813 non-null   bool   \n",
      " 15  education_secondary  7813 non-null   bool   \n",
      " 16  education_tertiary   7813 non-null   bool   \n",
      " 17  education_unknown    7813 non-null   bool   \n",
      "dtypes: bool(9), float64(4), int64(5)\n",
      "memory usage: 937.1 KB\n",
      "None\n",
      "<class 'pandas.core.frame.DataFrame'>\n",
      "Index: 3349 entries, 304 to 2474\n",
      "Data columns (total 18 columns):\n",
      " #   Column               Non-Null Count  Dtype  \n",
      "---  ------               --------------  -----  \n",
      " 0   age                  3349 non-null   float64\n",
      " 1   default              3349 non-null   int64  \n",
      " 2   balance              3349 non-null   float64\n",
      " 3   housing              3349 non-null   int64  \n",
      " 4   loan                 3349 non-null   int64  \n",
      " 5   contact              3349 non-null   int64  \n",
      " 6   campaign             3349 non-null   float64\n",
      " 7   pdays                3349 non-null   float64\n",
      " 8   poutcome             3349 non-null   int64  \n",
      " 9   job_freelance        3349 non-null   bool   \n",
      " 10  job_non-qualified    3349 non-null   bool   \n",
      " 11  job_other            3349 non-null   bool   \n",
      " 12  job_qualified        3349 non-null   bool   \n",
      " 13  job_semi-qualified   3349 non-null   bool   \n",
      " 14  education_primary    3349 non-null   bool   \n",
      " 15  education_secondary  3349 non-null   bool   \n",
      " 16  education_tertiary   3349 non-null   bool   \n",
      " 17  education_unknown    3349 non-null   bool   \n",
      "dtypes: bool(9), float64(4), int64(5)\n",
      "memory usage: 420.1 KB\n",
      "None\n"
     ]
    }
   ],
   "source": [
    "# Para los valores de entrenamiento.\n",
    "\n",
    "# De las características continuas eliminamos \"day\", \"duration\" y \"previous\".\n",
    "Xtrain = Xtrain.loc [:, Xtrain.columns.drop (['day', 'duration', 'previous'])]\n",
    "\n",
    "# De las características categóricas eliminamos \"marital\" y 'month'.\n",
    "Xtrain = Xtrain.loc [:, Xtrain.columns.drop (['marital', 'month'])]\n",
    "\n",
    "# Para los valores de prueba.\n",
    "\n",
    "# De las características continuas eliminamos \"day\", \"duration\" y \"previous\".\n",
    "Xtest = Xtest.loc [:, Xtest.columns.drop (['day', 'duration', 'previous'])]\n",
    "\n",
    "# De las características categóricas eliminamos \"marital\" y \"month\".\n",
    "Xtest = Xtest.loc [:, Xtest.columns.drop (['marital', 'month'])]\n",
    "\n",
    "print (Xtrain.info ())\n",
    "print (Xtest.info ())\n",
    "\n",
    "# Salvamos los datos.\n",
    "Xtrain.to_csv ('bank_train.csv', index = False)\n",
    "Xtest.to_csv ('bank_test.csv', index = False)\n"
   ]
  },
  {
   "cell_type": "markdown",
   "id": "cbc491dd-46fd-47ce-9cd1-76fef9e86c63",
   "metadata": {},
   "source": [
    "### 7.- Transformaciones de Datos."
   ]
  },
  {
   "cell_type": "markdown",
   "id": "281fab0a-e4d3-4f04-8142-420828d4ca33",
   "metadata": {},
   "source": [
    "En la etapa de EDA se comprueba que las características continuas no muestran distribuciones normales:\n",
    "\n",
    "\"balance\" muestra un fuerte sesgo y outliers, será winsorizada."
   ]
  },
  {
   "cell_type": "code",
   "execution_count": 47,
   "id": "801dfa6c-4f04-4cc1-9ff4-07f68e789956",
   "metadata": {},
   "outputs": [],
   "source": [
    "# Winsorizamos \"balance\".\n",
    "\n",
    "# Para los valores de entrenamiento.\n",
    "Xtrain ['balance'] = winsorize (Xtrain ['balance'], limits = [0.01, 0.1], inplace = True)\n",
    "\n",
    "# Para los valores de prueba.\n",
    "Xtest ['balance'] = winsorize (Xtest ['balance'], limits = [0.01, 0.1], inplace = True)\n",
    "\n",
    "# Salvamos los datos.\n",
    "Xtrain.to_csv ('bank_train.csv', index = False)\n",
    "Xtest.to_csv ('bank_test.csv', index = False)\n"
   ]
  },
  {
   "cell_type": "code",
   "execution_count": 48,
   "id": "54f3f597-6c09-4b96-a5d1-c06210440bc5",
   "metadata": {},
   "outputs": [
    {
     "data": {
      "text/plain": [
       "{'whiskers': [<matplotlib.lines.Line2D at 0x7ff52efcc980>,\n",
       "  <matplotlib.lines.Line2D at 0x7ff52efcdc40>],\n",
       " 'caps': [<matplotlib.lines.Line2D at 0x7ff52efce120>,\n",
       "  <matplotlib.lines.Line2D at 0x7ff52efcdd30>],\n",
       " 'boxes': [<matplotlib.lines.Line2D at 0x7ff52ef87b00>],\n",
       " 'medians': [<matplotlib.lines.Line2D at 0x7ff52efcde50>],\n",
       " 'fliers': [<matplotlib.lines.Line2D at 0x7ff52efcc710>],\n",
       " 'means': []}"
      ]
     },
     "execution_count": 48,
     "metadata": {},
     "output_type": "execute_result"
    },
    {
     "data": {
      "image/png": "[encoded data removed]",
      "text/plain": [
       "<Figure size 640x480 with 1 Axes>"
      ]
     },
     "metadata": {},
     "output_type": "display_data"
    }
   ],
   "source": [
    "plt.title (\"Train - balance\")\n",
    "plt.boxplot (Xtrain ['balance'])"
   ]
  },
  {
   "cell_type": "markdown",
   "id": "06002d01-ddaf-44f9-b71f-0a93fea7815b",
   "metadata": {},
   "source": [
    "# B.- Entrenamiento del modelo"
   ]
  },
  {
   "cell_type": "markdown",
   "id": "8b30fb8a-dc8f-47a6-a515-a5226172bb58",
   "metadata": {},
   "source": [
    "### 1.- Entrenamiento."
   ]
  },
  {
   "cell_type": "markdown",
   "id": "6a2fec29-ed4a-4d8b-bfe0-dad438b47edb",
   "metadata": {},
   "source": [
    "Deseamos predecir si un cliente contratará un depósito a plazo fijo. Así pues escogemos un modelo de clasificación, la regresión logística. Dicho modelo utiliza una función sigmoide para calcular la probabilidad que el cliente contrate el depósito. Para asignar a la variable objetivo 'diposit' su valor, se establece un umbral probabilidad de 0.5. Si el valor de la probabilidad es mayor o igual a 0.5, se asignará el valor 'yes', de lo contrario el valor 'no'."
   ]
  },
  {
   "cell_type": "markdown",
   "id": "57f7cd68-e2ae-4785-b700-51c2a82819c4",
   "metadata": {},
   "source": [
    "En el caso que nos ocupa, los falsos positivos, esto es las predicciones positivas que no han contratado el depósito, solo significarán realizar más llamadas. Por el contrario los falsos negativos, las predicciones negativas que sí han contratado el depósito, suponen una pérdida. Expresado de otro modo, los falsos negativos, supondrían una pérdida de contratos. Se minimizará el número de falsos negativos."
   ]
  },
  {
   "cell_type": "markdown",
   "id": "8a7a47d4-80b8-4f02-9c17-86aa380d6b66",
   "metadata": {},
   "source": [
    "Para evaluar nuestro modelo se utilizarán las métricas siguientes:\n",
    "\n",
    "1. Accuracy score.\n",
    "2. Precision score.\n",
    "3. Recall score.\n",
    "4. f1 score.\n",
    "5. Curva ROC.\n"
   ]
  },
  {
   "cell_type": "markdown",
   "id": "b626bcf8-ba78-4035-8ba0-ae13da02e667",
   "metadata": {},
   "source": [
    "#### 1.1.- Regresión logística y Análisis de sus Métricas."
   ]
  },
  {
   "cell_type": "code",
   "execution_count": 55,
   "id": "e3e53032-610f-4fdf-b7cc-672a3adafd50",
   "metadata": {},
   "outputs": [],
   "source": [
    "'''python\n",
    "Creación, ejecución y evaluación del modelo.\n",
    "'''\n",
    "\n",
    "# Para la regresión lgística.\n",
    "from sklearn.linear_model import LogisticRegression\n",
    "\n",
    "# Para la evaluación cruzada.\n",
    "from sklearn.model_selection import KFold\n",
    "from sklearn.model_selection import cross_val_score\n",
    "from sklearn.model_selection import GridSearchCV\n",
    "\n",
    "# Para los \"scores\".\n",
    "from sklearn.metrics import confusion_matrix, ConfusionMatrixDisplay\n",
    "from sklearn.metrics import accuracy_score\n",
    "from sklearn.metrics import precision_score\n",
    "from sklearn.metrics import average_precision_score\n",
    "from sklearn.metrics import recall_score\n",
    "from sklearn.metrics import f1_score\n",
    "from sklearn.metrics import make_scorer\n",
    "\n",
    "# Para la curva \"ROC\".\n",
    "from sklearn.metrics import roc_curve\n",
    "from sklearn.metrics import auc\n"
   ]
  },
  {
   "cell_type": "code",
   "execution_count": 56,
   "id": "d5546d87-147d-4304-a715-ffb76396773d",
   "metadata": {},
   "outputs": [
    {
     "name": "stdout",
     "output_type": "stream",
     "text": [
      "Accuracy score:    0.6876679605852494\n",
      "Precision score:   0.6831415030467163\n",
      "Recall score:      0.6357908002520479\n",
      "f1 score:          0.6586161879895561\n"
     ]
    },
    {
     "data": {
      "image/png": "[encoded data removed]",
      "text/plain": [
       "<Figure size 640x480 with 2 Axes>"
      ]
     },
     "metadata": {},
     "output_type": "display_data"
    }
   ],
   "source": [
    "\n",
    "# Cargamos los datos.\n",
    "Xtrain = pd.read_csv ('bank_train.csv')\n",
    "Xtest  = pd.read_csv ('bank_test.csv')\n",
    "ytrain = pd.read_csv ('bank_target_train.csv')\n",
    "ytest  = pd.read_csv ('bank_target_test.csv')\n",
    "\n",
    "# Elegimos el modelo, cargamos los datos y lo entrenamos.\n",
    "logr0 = LogisticRegression ()\n",
    "logr0.fit (Xtrain, ytrain.to_numpy ().ravel())\n",
    "\n",
    "# Realizamos nuestra predicción con los valores de prueba.\n",
    "ypred = logr0.predict (Xtest)\n",
    "\n",
    "# Mostramos diferentes 'scores'.\n",
    "print (\"Accuracy score:   \", accuracy_score   (ytest, ypred))\n",
    "print (\"Precision score:  \", precision_score  (ytest, ypred, pos_label = 'yes'))\n",
    "print (\"Recall score:     \", recall_score     (ytest, ypred, pos_label = 'yes'))\n",
    "print (\"f1 score:         \", f1_score         (ytest, ypred, pos_label = 'yes'))\n",
    "\n",
    "# Mostramos la matriz de confusión.\n",
    "cm = confusion_matrix (ytest, ypred)\n",
    "disp = ConfusionMatrixDisplay (confusion_matrix = cm, display_labels = ['no','yes'])\n",
    "disp.plot()\n",
    "plt.show()"
   ]
  },
  {
   "cell_type": "markdown",
   "id": "5a32465f-384a-4f5d-98e9-f94264575784",
   "metadata": {},
   "source": [
    "1. **Accuracy**:\n",
    "\n",
    "Esta métrica nos da el porcentage de aciertos. Se cuentan tanto verdaderos positivos como verdaderos negativos.\n",
    "\n",
    "En nuestro caso,\n",
    "\n",
    "Accuracy = (TP + TN) / N = (1009 + 1294) / 3349 = 0.688 x 100 = 68.8%,\n",
    "\n",
    "con N = TP + FP + FN + TN = 1161 + 601 + 508 + 1079 = 3349.\n",
    "\n",
    "Por tanto, el 69% de los clientes será clasicado correctamente, tanto si son positivos como negativos.\n",
    "\n",
    "El valor es razonable, si bien deja un margen de mejora. Más abajo se relacionan las pruebas realizadas para mejorar las métricas.\n",
    "\n",
    "2. **Precision**:\n",
    "\n",
    "Nos ofrece la relación entre auténticos positivos y el total de positivos.\n",
    "\n",
    "En nuestro caso,\n",
    "\n",
    "Precison = TP / (TP + FP) = 1009 / (1009 + 468) = 0.683 = 68.3%\n",
    "\n",
    "Esto es, el 64% de los clientes predichos como positivos han aceptado el contrato.\n",
    "\n",
    "3. **Recall**:\n",
    "\n",
    "Esta métrica es particularmente interesante para nuestros propósitos, puesto que es sensible a los falsos negativos.\n",
    "\n",
    "Se define como el total de verdaderos positivos (TP) dividido entre verdaderos positivos (TP) más falsos negativos (FN).\n",
    "\n",
    "En nuestro caso:\n",
    "\n",
    "Recall = TP / (TP + FN) = 1009 / (1009 + 578) = 0.636 = 63.6%\n",
    "\n",
    "Esto es, nuestra predicción detectará el 64% de todos los positivos reales. Los positivos reales son aquellos que, en efecto, ya han contratado el depósito en el momento de verificar nuestro modelo y que, por tanto, forman parte del conjunto de pruebas.\n",
    "\n",
    "Como se ha comentado en la introdución, las predicciones negativas que sí han contratado el depósito, suponen una pérdida. Expresado de otro modo, los falsos negativos, supondrían una pérdida de contratos. Se minimizará el número de falsos negativos.\n",
    "\n",
    "Por tanto optimizando este parámetro disminuiremos el número de falsos negativos. Esto es, evitaremos descartar llamadas a clientes con posibilidades reales de contratar el depósito.\n",
    "\n",
    "4. **F1**:\n",
    "\n",
    "Esta métrica es también relevante para nuestro caso, combina las dos métricas anteriores,'precision' y 'recall' para obtener una sola ratio. Se define como:\n",
    "\n",
    "F = 2·P·R / (P + R)\n",
    "\n",
    "donde, P es 'precision' y R es 'recall'.\n",
    "\n",
    "Decimos que es relevante porque en nuestro modelo, al elevar 'recall' disminuyendo el número de falsos negativos, disminuye 'precision'. 'F1 score' nos facilita una ponderación entre ambas métricas."
   ]
  },
  {
   "cell_type": "code",
   "execution_count": 58,
   "id": "0a9f671e-75f4-4fc6-b313-7d77d4478f63",
   "metadata": {},
   "outputs": [
    {
     "name": "stdout",
     "output_type": "stream",
     "text": [
      "<class 'numpy.ndarray'>\n",
      "[[0.80337948 0.19662052]\n",
      " [0.44659581 0.55340419]\n",
      " [0.1320338  0.8679662 ]\n",
      " ...\n",
      " [0.42554389 0.57445611]\n",
      " [0.13035781 0.86964219]\n",
      " [0.51424954 0.48575046]]\n",
      "Thresholds:  [       inf 0.95689744 0.93816053 ... 0.08603027 0.08517315 0.01170378]\n"
     ]
    },
    {
     "data": {
      "image/png": "[encoded data removed]",
      "text/plain": [
       "<Figure size 640x480 with 1 Axes>"
      ]
     },
     "metadata": {},
     "output_type": "display_data"
    }
   ],
   "source": [
    "# Dibujamos la curva ROC.\n",
    "\n",
    "# \"logr0\" ya está definida.\n",
    "yproba = logr0.predict_proba (Xtest)\n",
    "\n",
    "print (type (yproba))\n",
    "print (yproba)\n",
    "\n",
    "# Cálculo de la curva.\n",
    "fpr, tpr, thresholds = roc_curve (ytest, yproba[:, 1], pos_label = 'yes') \n",
    "roc_auc = auc (fpr, tpr)\n",
    "\n",
    "print (\"Thresholds: \", thresholds)\n",
    "\n",
    "# Dibujamos la curva.\n",
    "plt.figure ()  \n",
    "plt.plot (fpr, tpr, label='Curva ROC (área = %0.2f)' % roc_auc)\n",
    "plt.plot ([0, 1], [0, 1], 'k--', label='No Skill')\n",
    "plt.xlim ([0.0, 1.0])\n",
    "plt.ylim ([0.0, 1.0])\n",
    "plt.xlabel ('False Positive Rate')\n",
    "plt.ylabel ('True Positive Rate')\n",
    "plt.title ('Curva ROC')\n",
    "plt.legend ()\n",
    "plt.show ()"
   ]
  },
  {
   "cell_type": "markdown",
   "id": "033c2ca9-d434-4f67-9867-81b9eafbe537",
   "metadata": {},
   "source": [
    "Para todas las métricas anteriores, tanto más cercanas a 1.0, mejor serán."
   ]
  },
  {
   "cell_type": "markdown",
   "id": "5eae8803-ae6a-43c1-9023-5e6c6c758880",
   "metadata": {},
   "source": [
    "Para mejorar las métricas se han realizado las pruebas siguientes:\n",
    "\n",
    "1. Selección de columnas.\n",
    "2. Cambio en el número de registros de entrenamiento/prueba.\n",
    "3. Optimización de hiperparámetros.\n",
    "4. Validación cruzada.\n",
    "5. Cambio en el umbral de probabilidad del modelo.\n",
    "6. Comprobación de diferentes tipos de modelos.\n",
    "\n",
    "La curva 'ROC' nos servirá para comparar la capacidad de predicción del modelo antes y después de aplicar los cambios.\n"
   ]
  },
  {
   "cell_type": "markdown",
   "id": "6730e754-5a56-42d5-8057-13dcb0fa78a7",
   "metadata": {},
   "source": [
    "##### 1.1.1.- **Selección de Columnas.**"
   ]
  },
  {
   "cell_type": "code",
   "execution_count": 62,
   "id": "df700889-01b6-4806-9f4a-9ac1b9442adf",
   "metadata": {},
   "outputs": [
    {
     "name": "stdout",
     "output_type": "stream",
     "text": [
      "Index(['age', 'balance', 'campaign', 'pdays', 'contact', 'default', 'housing',\n",
      "       'loan', 'poutcome', 'job_non-qualified', 'job_qualified',\n",
      "       'job_semi-qualified', 'job_freelance', 'job_other', 'education_primary',\n",
      "       'education_secondary', 'education_tertiary', 'education_unknown'],\n",
      "      dtype='object')\n",
      "Accuracy score:    0.6876679605852494\n",
      "Precision score:   0.6831415030467163\n",
      "Recall score:      0.6357908002520479\n",
      "f1 score:          0.6586161879895561\n"
     ]
    },
    {
     "data": {
      "image/png": "[encoded data removed]",
      "text/plain": [
       "<Figure size 640x480 with 2 Axes>"
      ]
     },
     "metadata": {},
     "output_type": "display_data"
    }
   ],
   "source": [
    "\n",
    "# Cargamos los datos.\n",
    "Xtrain = pd.read_csv ('bank_train.csv')\n",
    "Xtest  = pd.read_csv ('bank_test.csv')\n",
    "ytrain = pd.read_csv ('bank_target_train.csv')\n",
    "ytest  = pd.read_csv ('bank_target_test.csv')\n",
    "\n",
    "# Elegimos las columnas que mejoran la predicción del modelo.\n",
    "# Nótese que si comentamos lineas de código del tipo \"cols.extend (['age'])\", añadiendo \"#\" al\n",
    "# principio de la linea, podemos elegir las características a entrenar.\n",
    "\n",
    "# El mejor resultado se obtiene eligiendo todas las columnas relevantes seleccionadas en la sección 6.\n",
    "\n",
    "# Columnas continuas.\n",
    "cols = []\n",
    "cols.extend (['age'])\n",
    "cols.extend (['balance'])\n",
    "cols.extend (['campaign'])\n",
    "cols.extend (['pdays'])\n",
    "\n",
    "# Columnas categóricas.\n",
    "cols.extend (['contact'])\n",
    "cols.extend (['default'])\n",
    "cols.extend (['housing'])\n",
    "cols.extend (['loan'])\n",
    "cols.extend (['poutcome'])\n",
    "cols.extend (['job_non-qualified', 'job_qualified', 'job_semi-qualified', 'job_freelance', 'job_other'])\n",
    "cols.extend (['education_primary', 'education_secondary', 'education_tertiary', 'education_unknown'])\n",
    "\n",
    "Xtrain = Xtrain [cols]\n",
    "Xtest  = Xtest  [cols]\n",
    "\n",
    "print (Xtrain.columns)\n",
    "\n",
    "# Elegimos el modelo, cargamos los datos y lo entrenamos.\n",
    "logr = LogisticRegression ()\n",
    "logr.fit (Xtrain, ytrain.to_numpy ().ravel())\n",
    "\n",
    "# Realizamos nuestra predicción con los valores de prueba.\n",
    "ypred = logr.predict (Xtest)\n",
    "\n",
    "# Mostramos diferentes 'scores'.\n",
    "print (\"Accuracy score:   \", accuracy_score   (ytest, ypred))\n",
    "print (\"Precision score:  \", precision_score  (ytest, ypred, pos_label = 'yes'))\n",
    "print (\"Recall score:     \", recall_score     (ytest, ypred, pos_label = 'yes'))\n",
    "print (\"f1 score:         \", f1_score         (ytest, ypred, pos_label = 'yes'))\n",
    "\n",
    "# Mostramos la matriz de confusión.\n",
    "cm = confusion_matrix (ytest, ypred)\n",
    "disp = ConfusionMatrixDisplay (confusion_matrix = cm, display_labels = ['no','yes'])\n",
    "disp.plot()\n",
    "plt.show()"
   ]
  },
  {
   "cell_type": "markdown",
   "id": "1f6523a0-0204-4f3e-99d7-36c006f1256e",
   "metadata": {},
   "source": [
    "El mejor resultado se obtiene eligiendo todas las columnas relevantes seleccionadas en la sección 6."
   ]
  },
  {
   "cell_type": "markdown",
   "id": "93c829d2-92e9-4447-9a8f-431e353bb446",
   "metadata": {},
   "source": [
    "1.1.2.- **Optimización de Hiperparámetros.**"
   ]
  },
  {
   "cell_type": "code",
   "execution_count": null,
   "id": "91824100-c647-48c6-9b1b-0628cd8c1508",
   "metadata": {},
   "outputs": [],
   "source": [
    "# Optimizamos los hiperparámetros mediante 'grid search'.\n",
    "\n",
    "# Añadimos 'max_iter', 'solver' y 'class_weight'\n",
    "param_grid_lr = {\n",
    "    'max_iter': [100, 200, 500, 1000],                      \n",
    "    'solver': ['newton-cg', 'lbfgs', 'liblinear'],   \n",
    "    'class_weight': ['balanced']                                    \n",
    "}\n",
    "\n",
    "# Configuramos nuestro 'grid search' para una valoración cruzada con 10 'folds'.\n",
    "lr_grid = GridSearchCV (estimator = LogisticRegression (random_state = 10),\n",
    "                        param_grid = param_grid_lr,\n",
    "                        verbose = 2, cv = 10, n_jobs = -1)\n",
    "lr_grid.fit (Xtrain, ytrain.to_numpy ().ravel())\n",
    "\n",
    "# Obtenemos una predicción.\n",
    "ypred = lr_grid.predict (Xtest)\n",
    "\n",
    "print (type (ypred))\n",
    "print (ypred)\n",
    "\n",
    "# Mostramos los parámetros óptimos.\n",
    "print (\"Parámetros óptimos: \", lr_grid.best_estimator_)\n",
    "\n",
    "# Mostramos diferentes 'scores'.\n",
    "print (\"Accuracy score:   \", accuracy_score   (ytest, ypred))\n",
    "print (\"Precision score:  \", precision_score  (ytest, ypred, pos_label = 'yes'))\n",
    "print (\"Recall score:     \", recall_score     (ytest, ypred, pos_label = 'yes'))\n",
    "print (\"f1 score:         \", f1_score         (ytest, ypred, pos_label = 'yes'))\n",
    "\n",
    "# Mostramos la matriz de confusión.\n",
    "cm = confusion_matrix (ytest, ypred)\n",
    "disp = ConfusionMatrixDisplay (confusion_matrix = cm, display_labels = ['no','yes'])\n",
    "disp.plot()\n",
    "plt.show()"
   ]
  },
  {
   "cell_type": "markdown",
   "id": "b103a23d-7a6e-4e85-850f-f5ea2fa9e116",
   "metadata": {},
   "source": [
    "Mediante 'grid search' el número de falsos negativos se ha reducido de 578 a 509. 'recall' ha mejorado mientras que los demás 'scores' se mantienen.\n",
    "\n",
    "Los parámetros sugeridos son:\n",
    "\n",
    "LogisticRegression(class_weight='balanced', random_state=10)"
   ]
  },
  {
   "cell_type": "markdown",
   "id": "8a656db5-89f5-48c2-b704-459e588068ba",
   "metadata": {},
   "source": [
    "1.1.3.- **Validación Cruzada.**"
   ]
  },
  {
   "cell_type": "code",
   "execution_count": null,
   "id": "68124c7f-f8c6-4ec0-bef7-5756e7106992",
   "metadata": {},
   "outputs": [],
   "source": [
    "\n",
    "# Definimos nuestros k-folds, con k = 10, y activamos la mezcla ('shuffle') de los datos.\n",
    "cv = KFold (n_splits = 10, random_state = 1, shuffle = True)\n",
    "\n",
    "# Creamos el modelo.\n",
    "lr_K = LogisticRegression (class_weight = 'balanced', random_state = 10, solver = 'newton-cg')\n",
    "\n",
    "# Para que acepten las categorías '['no', 'yes']', redefinimos los 'scores'.\n",
    "precision_sc = make_scorer (precision_score, pos_label = 'yes')\n",
    "recall_sc    = make_scorer (recall_score, pos_label = 'yes')\n",
    "f1_sc        = make_scorer (f1_score, pos_label = 'yes')\n",
    "\n",
    "# Obtenemos los diferentes 'scores'.\n",
    "accuracy  = cross_val_score (lr_K, Xtrain, ytrain.to_numpy ().ravel(), scoring = 'accuracy', cv = cv, n_jobs = -1)\n",
    "precision = cross_val_score (lr_K, Xtrain, ytrain.to_numpy ().ravel(), scoring = precision_sc, cv = cv, n_jobs = -1)\n",
    "recall    = cross_val_score (lr_K, Xtrain, ytrain.to_numpy ().ravel(), scoring = recall_sc, cv = cv, n_jobs = -1)\n",
    "f1        = cross_val_score (lr_K, Xtrain, ytrain.to_numpy ().ravel(), scoring = f1_sc, cv = cv, n_jobs = -1)\n",
    "\n",
    "# Mostramos los 'scores'.\n",
    "print (\"Accuracy:\\n\", accuracy)\n",
    "print ('Mean (std. dev.):  %.3f (%.3f)' % (np.mean (accuracy),  np.std (accuracy)))\n",
    "\n",
    "print (\"\\nPrecision:\\n\", precision)\n",
    "print ('Mean (std. dev.): %.3f (%.3f)' % (np.mean (precision), np.std (precision)))\n",
    "\n",
    "print (\"\\nRecall:\\n\", recall)\n",
    "print ('Mean (std. dev.): %.3f (%.3f)' % (np.mean (recall),    np.std (recall)))\n",
    "\n",
    "print(\"\\nF1:\\n\", f1)\n",
    "print('Mean (std. dev.): %.3f (%.3f)' % (np.mean (f1),        np.std (f1)))\n"
   ]
  },
  {
   "cell_type": "markdown",
   "id": "e8eacd23-a37f-46a1-b6ae-db8d5ff00a8a",
   "metadata": {},
   "source": [
    "Las medias se mantienen cercanas a los valores obtenidos mediante la separación en un solo conjunto de entrenamiento. La dispersión de los 'scores' es pequeña."
   ]
  },
  {
   "cell_type": "markdown",
   "id": "154fa736-6e45-4c35-98b7-da11254eaad1",
   "metadata": {},
   "source": [
    "1.1.4.- **Cambio del Umbral de Probabilidad.**"
   ]
  },
  {
   "cell_type": "code",
   "execution_count": null,
   "id": "e9445b8d-ddf6-4bf1-abed-bf3fad14023d",
   "metadata": {},
   "outputs": [],
   "source": [
    "# Cambiamos el umbral de probabilidad a 0.4, como aceptada, para disminuir el número de falsos negativos.\n",
    "\n",
    "# Elegimos el modelo, cargamos los datos y lo entrenamos.\n",
    "logr = LogisticRegression (class_weight = 'balanced', random_state = 10, solver = 'liblinear')\n",
    "\n",
    "logr.fit (Xtrain, ytrain.to_numpy ().ravel())\n",
    "\n",
    "# Obtenemos un predicción.\n",
    "# ypred = logr.predict (Xtest)\n",
    "\n",
    "# Ajustamos la predicción para fijar el 'threshold' a '0.4'.\n",
    "ypred_th = (logr.predict_proba (Xtest)[:, 1] >= 0.40)\n",
    "ypred_th = np.where (ypred_th, 'yes', 'no')\n",
    "\n",
    "print (Xtrain.info ())\n",
    "\n",
    "# Mostramos diferentes 'scores'.\n",
    "print (\"Accuracy score:   \",   accuracy_score  (ytest, ypred_th))\n",
    "print (\"Precision score:  \",   precision_score (ytest, ypred_th, pos_label = 'yes'))\n",
    "print (\"Recall score:     \",   recall_score    (ytest, ypred_th, pos_label = 'yes'))\n",
    "print (\"f1 score:         \",   f1_score        (ytest, ypred_th, pos_label = 'yes'))\n",
    "\n",
    "# Mostramos la matriz de confusión.\n",
    "cm = confusion_matrix (ytest, ypred_th)\n",
    "disp = ConfusionMatrixDisplay (confusion_matrix = cm, display_labels = ['no','yes'])\n",
    "disp.plot()\n",
    "plt.show()"
   ]
  },
  {
   "cell_type": "markdown",
   "id": "e748bfb6-dac8-4a05-abbb-c14fa4ef96eb",
   "metadata": {},
   "source": [
    "Al reducir el umbral de probabilidad de 0.5 a 0.4, el número de falsos negativos vuelve a reducirse. 'recall' mejora algo, 'precision' disminuye, pero 'f1' se mantiene."
   ]
  },
  {
   "cell_type": "code",
   "execution_count": null,
   "id": "fc73ae45-5b06-4752-b9ad-b759dec608b8",
   "metadata": {},
   "outputs": [],
   "source": [
    "# Dibujamos la curva ROC.\n",
    "\n",
    "# \"logr\" ya tiene sus hiperparámetros configurados.\n",
    "logr.fit (Xtrain, ytrain.to_numpy ().ravel())\n",
    "yproba = logr.predict_proba (Xtest)\n",
    "\n",
    "# Cálculo de la curva.\n",
    "fpr, tpr, thresholds = roc_curve (ytest, yproba[:, 1], pos_label = 'yes') \n",
    "roc_auc = auc (fpr, tpr)\n",
    "\n",
    "print (\"Thresholds: \", thresholds)\n",
    "\n",
    "# Dibujamos la curva.\n",
    "plt.figure ()  \n",
    "plt.plot (fpr, tpr, label='Curva ROC (área = %0.2f)' % roc_auc)\n",
    "plt.plot ([0, 1], [0, 1], 'k--', label='No Skill')\n",
    "plt.xlim ([0.0, 1.0])\n",
    "plt.ylim ([0.0, 1.0])\n",
    "plt.xlabel ('False Positive Rate')\n",
    "plt.ylabel ('True Positive Rate')\n",
    "plt.title ('Curva ROC')\n",
    "plt.legend ()\n",
    "plt.show ()"
   ]
  },
  {
   "cell_type": "markdown",
   "id": "6a75a699-fbdd-4746-bd30-56dd23ab4ae1",
   "metadata": {},
   "source": [
    "Si se comparan las curvas 'ROC' de las secciones 1.1 y 1.1.3 se comprueba que el area bajo la curva, 0.75 no ha cambiado. Esto significa, que los cambios realizados no cambian la capacidad de predicción del modelo. Sin embargo se ha dismimuido el número de falsos negativos."
   ]
  },
  {
   "cell_type": "markdown",
   "id": "3998f599-ddef-40ab-8e57-84bde229c7d2",
   "metadata": {},
   "source": [
    "1.1.5.- **Mejoras Aplicadas.**"
   ]
  },
  {
   "cell_type": "markdown",
   "id": "78a158d0-0f80-4983-9589-bd04a98a746c",
   "metadata": {},
   "source": [
    "Para mejorar las métricas hemos realizado las pruebas siguientes:\n",
    "\n",
    "1. Selección de columnas.\n",
    "\n",
    "Despues de combinar diferentes características, la mejor combinación se obtiene alimentando el modelo con todas las columnas seleccionadas en la sección 6.\n",
    "\n",
    "2. Cambio en el número de registros de entrenamiento/prueba.\n",
    "\n",
    "Después de probar diferenctes relaciones entre datos de entrenamiento y datos de prueba la mejor relación está en 70%/30%. Nótese que dicha relación se puede cambiar actualizando el parámetro 'test_size' de la función 'train_test_split' a 0.2, 0.3, 0.4, ...\n",
    "\n",
    "Dicha función se encuentra en la sección 1 al principo del notebook.\n",
    "\n",
    "3. Optimización de hiperparámetros.\n",
    "\n",
    "La función 'GridSearchCV' devuelve los siguientes hiperparámetros como óptimos:\n",
    "\n",
    "\"LogisticRegression(class_weight='balanced', random_state=10)\"\n",
    "\n",
    "Dichos hiperparámetros nos disminuyen los falsos negativos, pasando de 578 a 509. Esto es, descartaremos menos llamadas con posibilidades de aceptar el contrato.\n",
    "\n",
    "4. Validación cruzada.\n",
    "\n",
    "Una validación cruzada con 10 'folds' muestra unas medias parecidas al caso de la validación con un conjunto de entrenamiento/puebas único. Asímismo la desviación estándar de los escores es relativamente pequeña.\n",
    "\n",
    "5. Cambio en el umbral de probabilidad del modelo.\n",
    "\n",
    "Recordemos que umbral de probabilidad es aquel valor de probabilidad del modelo a partir del cual predecimos un valor positivo. Esto es, con una probabilidad igual o superior a (p.e.) 0.4 predecimos que el cliente aceptará el contrato.\n",
    "\n",
    "Si cambiamos el umbral de probabilidad de 0.5 a 0.4 'recall score' mejora apreciablemente (hasta 0.84), a costa de reducir 'precision score', como se anticipaba. Ello significa que los falsos negativos han disminuido. Por tanto, descartaremos menos llamadas a clientes con probabilidades reales de aceptar el contrato.\n",
    "\n",
    "6. Comprobación de diferentes tipos de modelos.\n",
    "\n",
    "A título de ejemplo se muestran en el apartado '1.4.- Anexo. Pruebas con Diferentes Dodelos' diferentes tipos de modelos de clasificación y sus 'scores'. Algunos de dichos modelos mejoran en algo dichos 'scores'. Sin embargo, se escoge la regresión logística por que el número de falsos negativos es sensiblemente inferior.\n"
   ]
  },
  {
   "cell_type": "markdown",
   "id": "e0a1a24c-56d1-43e4-91b5-b5b072bfb0d2",
   "metadata": {},
   "source": [
    "#### 1.2.- Conclusiones."
   ]
  },
  {
   "cell_type": "markdown",
   "id": "c98ef999-243e-45a3-9e69-4734171d12a2",
   "metadata": {},
   "source": [
    "En la sección 1.1.1 se han definido y aplicado a nuestro caso las métricas 'accuracy', 'precision', 'recall' y 'F1'. Durante diferentes pruebas se ha visto como dichas métricas podían mejorar, especialmente 'recall', que considera los falsos negativos. Las métricas finalmente obtenidas se resumen aquí:\n",
    "\n",
    "- Accuracy score:    0.626\n",
    "- Precision score:   0.570\n",
    "- Recall score:      0.854\n",
    "- f1 score:          0.683\n",
    "\n",
    "Como anticipábamos al mejorar 'recall' (de 0.678 a 0.852), 'precision' ha disminuido algo (de 0.647 a 0.572). 'F1' sin embargo mantiene su valor. Ello significa que las medidas adoptadas reducen los falsos negativos, a la vez que el modelo en su conjunto conserva su capacidad de predicción. Esto es, se reduce el número de llamadas que se predicen negativas aunque tales clientes tuvieran probabilidades de aceptar el contrato, ello supone una ganancia. El número de positivos correctamente predichos de mantiene en un 63%. Las curvas 'ROC' trazadas confirman dicho resultado.\n",
    "\n",
    "De las diferentes pruebas realizadas en la evaluación del modelo se destacan los siguientes puntos:\n",
    "\n",
    "1. Se conservan todas las características seleccionadas en la sección 6.\n",
    "2. La relación datos de entrenamiento/prueba se fija en el 70%/30%\n",
    "3. La optimización de hiperparámetros nos ha reducido el número de falsos negativos.\n",
    "4. La validación cruzada nos confirma nuestros resultados.\n",
    "5. Reducir el umbral de probabilidad a 0.4 reduce los falsos negativos.\n",
    "\n",
    "Por último debe notarse la presencia de valores 'unknown' en las variables categóricas como 'job', 'education' y, sobre todo, 'contact'. La asignación de dichos valores durante la recolección de los datos, mejorará las diferentes métricas del modelo. La recolección de los datos, recordemos, se realiza durante las propias llamadas en las diferentes campañas de márqueting.\n"
   ]
  },
  {
   "cell_type": "markdown",
   "id": "7d8a33b4-b955-458a-bed2-477cfdbd02c4",
   "metadata": {},
   "source": [
    "#### 1.3.- Annexo. Creación de los Archivos para el Despliegue."
   ]
  },
  {
   "cell_type": "code",
   "execution_count": null,
   "id": "fc67c353-5db8-4fe1-a478-5b10dce59d8f",
   "metadata": {},
   "outputs": [],
   "source": [
    "import pickle\n",
    "\n",
    "# Guardar el modelo.\n",
    "with open ('bank_model.pkl', 'wb') as model_file:\n",
    "    pickle.dump (logr, model_file)\n",
    "\n",
    "# Guardar el escalador.\n",
    "with open ('bank_scaler.pkl', 'wb') as scaler_file:\n",
    "    pickle.dump (scaler, scaler_file)\n"
   ]
  },
  {
   "cell_type": "markdown",
   "id": "e095752c-b04e-4eff-b7df-0fb84001209a",
   "metadata": {},
   "source": [
    "#### 1.4.- Annexo. Pruebas con Diferentes Modelos."
   ]
  },
  {
   "cell_type": "markdown",
   "id": "49450f02-dae6-4862-81d1-671bb73962a5",
   "metadata": {},
   "source": [
    "##### 1.4.1.- Gradient Boosting."
   ]
  },
  {
   "cell_type": "code",
   "execution_count": null,
   "id": "c0745895-54b6-436b-b8d3-b8c22e9e030c",
   "metadata": {},
   "outputs": [],
   "source": [
    "from sklearn.ensemble import GradientBoostingClassifier\n",
    "\n",
    "gb = GradientBoostingClassifier(n_estimators=100, learning_rate=1.0, max_depth=1, random_state=42)\n",
    "\n",
    "gb.fit(Xtrain, ytrain.to_numpy ().ravel())\n",
    "\n",
    "ypred = gb.predict(Xtest)\n",
    "\n",
    "# print(classification_report(ytest, ypred))\n",
    "\n",
    "# Mostramos diferentes 'scores'.\n",
    "print (\"Accuracy score:   \",   accuracy_score   (ytest, ypred))\n",
    "print (\"Precision score:  \",   precision_score  (ytest, ypred, pos_label = 'yes'))\n",
    "print (\"Recall score:     \",   recall_score     (ytest, ypred, pos_label = 'yes'))\n",
    "print (\"f1 score:         \",   f1_score         (ytest, ypred, pos_label = 'yes'))\n",
    "\n",
    "cm = confusion_matrix (ytest, ypred)\n",
    "disp = ConfusionMatrixDisplay (confusion_matrix = cm, display_labels = ['no','yes'])\n",
    "disp.plot()\n",
    "plt.show()"
   ]
  },
  {
   "cell_type": "code",
   "execution_count": null,
   "id": "dbf43814-3adc-4306-8e26-35f4ea233393",
   "metadata": {},
   "outputs": [],
   "source": [
    "# Dibujamos la curva ROC.\n",
    "\n",
    "yproba = gb.predict_proba (Xtest)\n",
    "\n",
    "# Cálculo de la curva.\n",
    "fpr, tpr, thresholds = roc_curve (ytest, yproba[:, 1], pos_label = 'yes') \n",
    "roc_auc = auc(fpr, tpr)\n",
    "\n",
    "# Dibujamos la curva.\n",
    "plt.figure ()  \n",
    "plt.plot (fpr, tpr, label='Curva ROC (área = %0.2f)' % roc_auc)\n",
    "plt.plot ([0, 1], [0, 1], 'k--', label='No Skill')\n",
    "plt.xlim ([0.0, 1.0])\n",
    "plt.ylim ([0.0, 1.0])\n",
    "plt.xlabel ('False Positive Rate')\n",
    "plt.ylabel ('True Positive Rate')\n",
    "plt.title ('Curva ROC')\n",
    "plt.legend ()\n",
    "plt.show ()\n"
   ]
  },
  {
   "cell_type": "markdown",
   "id": "340025f6-9031-4fac-b559-4eb46589ab67",
   "metadata": {},
   "source": [
    "##### 1.4.2.- K-Nearest Neighbors (KNN)"
   ]
  },
  {
   "cell_type": "code",
   "execution_count": null,
   "id": "666105f5-632d-4c69-a3d8-2a5fb0f5d29f",
   "metadata": {},
   "outputs": [],
   "source": [
    "from sklearn.neighbors import KNeighborsClassifier\n",
    "\n",
    "# Escogemos el modelo.\n",
    "knn = KNeighborsClassifier (n_neighbors = 3)\n",
    "\n",
    "knn.fit (Xtrain, ytrain.to_numpy ().ravel())\n",
    "\n",
    "# Obtenemos nuestra predicción.\n",
    "ypred = knn.predict (Xtest)\n",
    "\n",
    "# Mostramos los 'scores'.\n",
    "print (\"Accuracy score:   \",   accuracy_score   (ytest, ypred))\n",
    "print (\"Precision score:  \",   precision_score  (ytest, ypred, pos_label = 'yes'))\n",
    "print (\"Recall score:     \",   recall_score     (ytest, ypred, pos_label = 'yes'))\n",
    "print (\"f1 score:         \",   f1_score         (ytest, ypred, pos_label = 'yes'))\n",
    "\n",
    "# Mostramos la matriz de confusión.\n",
    "cm = confusion_matrix (ytest, ypred)\n",
    "disp = ConfusionMatrixDisplay (confusion_matrix = cm, display_labels = ['no','yes'])\n",
    "disp.plot()\n",
    "plt.show()\n"
   ]
  },
  {
   "cell_type": "markdown",
   "id": "cf0c1425-2fcf-4647-ab1e-f5640939a376",
   "metadata": {},
   "source": [
    "##### 1.4.3.- Support Vector Machines (SVM)"
   ]
  },
  {
   "cell_type": "code",
   "execution_count": null,
   "id": "c99fd852-8605-47ac-962b-de3b2f670d5a",
   "metadata": {},
   "outputs": [],
   "source": [
    "from sklearn.svm import SVC\n",
    "\n",
    "# Escogemos el modelo.\n",
    "svm = SVC (kernel = 'linear')\n",
    "\n",
    "svm.fit (Xtrain, ytrain.to_numpy ().ravel())\n",
    "\n",
    "# Obtenemos nuestra predicción.\n",
    "ypred = svm.predict (Xtest)\n",
    "\n",
    "# Mostramos los 'scores'.\n",
    "print (\"Accuracy score:   \",   accuracy_score   (ytest, ypred))\n",
    "print (\"Precision score:  \",   precision_score  (ytest, ypred, pos_label = 'yes'))\n",
    "print (\"Recall score:     \",   recall_score     (ytest, ypred, pos_label = 'yes'))\n",
    "print (\"f1 score:         \",   f1_score         (ytest, ypred, pos_label = 'yes'))\n",
    "\n",
    "# Mostramos la matriz de confusión.\n",
    "cm = confusion_matrix (ytest, ypred)\n",
    "disp = ConfusionMatrixDisplay (confusion_matrix = cm, display_labels = ['no','yes'])\n",
    "disp.plot()\n",
    "plt.show()\n"
   ]
  },
  {
   "cell_type": "markdown",
   "id": "e0a39372-1ba6-418b-ae34-198d895ed246",
   "metadata": {},
   "source": [
    "##### 1.4.3. Decision Tree."
   ]
  },
  {
   "cell_type": "code",
   "execution_count": null,
   "id": "18bfd04d-55e4-4f37-b957-cfedc9af1f94",
   "metadata": {},
   "outputs": [],
   "source": [
    "from sklearn.ensemble import RandomForestClassifier\n",
    "\n",
    "# Escogemos el modelo.\n",
    "forest = RandomForestClassifier (n_estimators = 100, max_depth = 5, random_state = 42)\n",
    "forest.fit (Xtrain, ytrain.to_numpy ().ravel())\n",
    "\n",
    "# Obtenemos nuestra predicción.\n",
    "ypred = forest.predict (Xtest)\n",
    "\n",
    "# Mostramos los 'scores'.\n",
    "print (\"Accuracy score:   \",   accuracy_score   (ytest, ypred))\n",
    "print (\"Precision score:  \",   precision_score  (ytest, ypred, pos_label = 'yes'))\n",
    "print (\"Recall score:     \",   recall_score     (ytest, ypred, pos_label = 'yes'))\n",
    "print (\"f1 score:         \",   f1_score         (ytest, ypred, pos_label = 'yes'))\n",
    "\n",
    "# Mostramos la matriz de confusión.\n",
    "cm = confusion_matrix (ytest, ypred)\n",
    "disp = ConfusionMatrixDisplay (confusion_matrix = cm, display_labels = ['no','yes'])\n",
    "disp.plot()\n",
    "plt.show()\n"
   ]
  },
  {
   "cell_type": "markdown",
   "id": "28b9a7ed-79a9-4708-8b41-ce2dbf9cd4e7",
   "metadata": {},
   "source": [
    "##### 1.4.4. Random Forest."
   ]
  },
  {
   "cell_type": "code",
   "execution_count": null,
   "id": "2ca79690-9b84-40f9-a396-e706b7e8a8b3",
   "metadata": {},
   "outputs": [],
   "source": [
    "from sklearn.ensemble import RandomForestClassifier\n",
    "\n",
    "# Escogemos el modelo.\n",
    "forest = RandomForestClassifier(n_estimators=100, max_depth=5, random_state=42)\n",
    "\n",
    "forest.fit (Xtrain, ytrain.to_numpy ().ravel())\n",
    "\n",
    "# Obtenemos nuestra predicción.\n",
    "ypred = forest.predict (Xtest)\n",
    "\n",
    "# Mostramos los 'scores'.\n",
    "print (\"Accuracy score:   \",   accuracy_score   (ytest, ypred))\n",
    "print (\"Precision score:  \",   precision_score  (ytest, ypred, pos_label = 'yes'))\n",
    "print (\"Recall score:     \",   recall_score     (ytest, ypred, pos_label = 'yes'))\n",
    "print (\"f1 score:         \",   f1_score         (ytest, ypred, pos_label = 'yes'))\n",
    "\n",
    "# Mostramos la matriz de confusión.\n",
    "cm = confusion_matrix (ytest, ypred)\n",
    "disp = ConfusionMatrixDisplay (confusion_matrix = cm, display_labels = ['no','yes'])\n",
    "disp.plot()\n",
    "plt.show()"
   ]
  },
  {
   "cell_type": "code",
   "execution_count": null,
   "id": "cbb4438d-87a4-4ae0-bb9f-d659afa3c3c5",
   "metadata": {},
   "outputs": [],
   "source": [
    "# Dibujamos la curva ROC.\n",
    "\n",
    "yproba = forest.predict_proba (Xtest)\n",
    "\n",
    "# Cálculo de la curva.\n",
    "fpr, tpr, thresholds = roc_curve (ytest, yproba[:, 1], pos_label = 'yes') \n",
    "roc_auc = auc(fpr, tpr)\n",
    "\n",
    "# Dibujamos la curva.\n",
    "plt.figure ()  \n",
    "plt.plot (fpr, tpr, label='Curva ROC (área = %0.2f)' % roc_auc)\n",
    "plt.plot ([0, 1], [0, 1], 'k--', label='No Skill')\n",
    "plt.xlim ([0.0, 1.0])\n",
    "plt.ylim ([0.0, 1.0])\n",
    "plt.xlabel ('False Positive Rate')\n",
    "plt.ylabel ('True Positive Rate')\n",
    "plt.title ('Curva ROC')\n",
    "plt.legend ()\n",
    "plt.show ()\n"
   ]
  },
  {
   "cell_type": "code",
   "execution_count": null,
   "id": "1c0d508b-acb4-42af-9612-615a074ec336",
   "metadata": {},
   "outputs": [],
   "source": []
  }
 ],
 "metadata": {
  "kernelspec": {
   "display_name": "Python 3 (ipykernel)",
   "language": "python",
   "name": "python3"
  },
  "language_info": {
   "codemirror_mode": {
    "name": "ipython",
    "version": 3
   },
   "file_extension": ".py",
   "mimetype": "text/x-python",
   "name": "python",
   "nbconvert_exporter": "python",
   "pygments_lexer": "ipython3",
   "version": "3.12.4"
  }
 },
 "nbformat": 4,
 "nbformat_minor": 5
}
