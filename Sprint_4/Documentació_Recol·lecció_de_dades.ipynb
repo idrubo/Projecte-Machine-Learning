{
 "cells": [
  {
   "cell_type": "markdown",
   "id": "0f05a515-03ba-4ff8-be0d-a4d5f4792f68",
   "metadata": {},
   "source": [
    "# Documentación del Proceso de Recolección de Datos para el Proyecto de Predicción de los Contratos Bancarios de Depósito a Plazo Fijo."
   ]
  },
  {
   "cell_type": "markdown",
   "id": "acf6b7ae-792f-4e75-b53d-1d3e7f211167",
   "metadata": {},
   "source": [
    "### \t1. Fuentes"
   ]
  },
  {
   "cell_type": "markdown",
   "id": "5223f122-dd69-45ca-80ac-5b4bdf995b36",
   "metadata": {},
   "source": [
    "**Identificación de las Fuentes:**"
   ]
  },
  {
   "cell_type": "markdown",
   "id": "02c35c3f-c580-430e-976d-fbe681b1972c",
   "metadata": {},
   "source": [
    "Base de datos del Banco."
   ]
  },
  {
   "cell_type": "markdown",
   "id": "27a40d35-1486-440e-a916-2ab8645352e0",
   "metadata": {},
   "source": [
    "**Descripción de las Fuentes:**"
   ]
  },
  {
   "cell_type": "markdown",
   "id": "69b4fffc-b951-48e8-bc2a-22a9ba2a7cae",
   "metadata": {},
   "source": [
    "Los datos se obtienen en sucesivas campañas de telemárketing. Un aplicativo interno del banco contiene el nombre del cliente, la hora de las diferentes llamadas y los datos bancarios del cliente."
   ]
  },
  {
   "cell_type": "markdown",
   "id": "f45851c2-68bc-463f-b1a1-33fbe56d864d",
   "metadata": {},
   "source": [
    "### 2. Métodos de recolección de datos"
   ]
  },
  {
   "cell_type": "markdown",
   "id": "800e2dea-82bf-4ff0-ab2f-829fcc629816",
   "metadata": {},
   "source": [
    "Los datos se obtienen en sucesivas campañas de telemárketing. Se realizan llamadas de teléfono por los agentes del centro de llamadas a una lista de clientes. Si, por alguna razón es el cliente quien realiza la llamada al centro de llamadas, es preguntado por su interés en un depósito a plazo fijo. Los agentes toman nota del cliente en un aplicativo de sofware. Éste es capaz de coleccionar los datos bancarios del cliente mediante la base de datos del banco, además de tomar nota de la fecha y hora de cada llamada. Naturalmente, también se toma nota del resultado, esto es, si el cliente ha contrado el depósito a plazo."
   ]
  },
  {
   "cell_type": "markdown",
   "id": "1dafe330-ea4d-4e41-8436-0f03d3331401",
   "metadata": {},
   "source": [
    "**Procedimientos y Herramientas:**"
   ]
  },
  {
   "cell_type": "markdown",
   "id": "e4b120db-bb1f-42d7-8965-fc02a1b01432",
   "metadata": {},
   "source": [
    "Se introducen los datos en la base de datos del propio banco durante la llamada. El propio operador del centro de llamadas realiza dicha entrada. Los datos resutantes pueden consultarse en cualquier momento mediante consultas SQL."
   ]
  },
  {
   "cell_type": "markdown",
   "id": "7b1bdf64-b8f2-4d34-93f2-b22739858554",
   "metadata": {},
   "source": [
    "**Frecuencia de Recolección:**"
   ]
  },
  {
   "cell_type": "markdown",
   "id": "a1a7cfc8-b18e-4f0e-afd6-b3a051cf7514",
   "metadata": {},
   "source": [
    "Los datos se introducen durante cada llamada y se descargan a un archivo .csv diáriamente."
   ]
  },
  {
   "cell_type": "markdown",
   "id": "4fad8115-9244-46f1-ab8a-31708728589b",
   "metadata": {},
   "source": [
    "**Programa de Descarga:**"
   ]
  },
  {
   "cell_type": "markdown",
   "id": "16b34637-7aaa-4d79-8194-cfdd5a89678f",
   "metadata": {},
   "source": [
    "El aplicativo del banco toma los datos mediante consultas SQL y la convierte a un formato .csv."
   ]
  },
  {
   "cell_type": "markdown",
   "id": "6c17fd8e-9c9b-4a75-b08d-a89cb8245fc8",
   "metadata": {},
   "source": [
    "### 3. Formato y Estructura de los Datos"
   ]
  },
  {
   "cell_type": "markdown",
   "id": "73b642b7-7508-42aa-8a08-b2599363c9e2",
   "metadata": {},
   "source": [
    "La siguiente tabla detalla los campos y sus tipos:"
   ]
  },
  {
   "cell_type": "markdown",
   "id": "53496367-54ee-4fc9-81ce-e481e40c6f3a",
   "metadata": {},
   "source": [
    "|Variable Name|Type       |Demographic|Description                               |Units|Missing values|\n",
    "|-------------|-----------|-----------|------------------------------------------|-----|--------------|\n",
    "|Age|Categorical|Age| | |No|\n",
    "|Job|Categorical|Occupation|type of job,(categorical: 'admin.','blue-collar','entrepreneur','housemaid','management','retired','self-employed','services','student','technician','unemployed','unknown')| | |No|\n",
    "|Marital|Categorical|Marital Status|marital status (categorical: 'divorced','married','single','unknown';Note: 'divorced' means divorced or widowed)| |No|\n",
    "|Education|Categorical|Education Level|(categorical: 'basic.4y','basic.6y','basic.9y','high.school','illiterate','professional.course','university.degree','unknown')| |No|\n",
    "|Default|Binary| |Has credit in default ?| |No|\n",
    "|Balance|Integer| |Average yearly balance|Euros|No|\n",
    "|Housing|Binary| |Has housing loan ?| |No|\n",
    "|Loan|Binary| |Has personal loan ?| |No|\n",
    "|Contact|Categorical| |contact communication type (categorical: 'cellular','telephone')| |Yes|\n",
    "|Day|Date| |Last contact day of the week| |No|\n",
    "|Month|Date| |Last contact month of year (categorical: 'jan', 'feb', 'mar', ..., 'nov', 'dec')| |No|\n",
    "|Duration|Integer| |Last contact duration, in seconds (numeric). Important note: this attribute highly affects the output target  e.g., if duration=0 then y='no'). Yet, the duration is not known before a call is performed. Also, after the end of the call y is obviously known. Thus, this input should only be included for benchmark purposes and should be discarded if the intention is to have a realistic predictive model.|Seconds|No|\n",
    "|Campaign|Integer| |Number of contacts performed during this campaign and for this client (numeric, includes last contact)| |No|\n",
    "|pdays|Integer| |Number of days that passed by after the client was last contacted from a previous campaign (numeric; -1 means client was not previously contacted)| |Yes|\n",
    "|Previous|Integer| |Number of contacts performed before this campaign and for this client| |No|\n",
    "|Outcome|Categorical| |outcome of the previous marketing campaign (categorical: 'failure','nonexistent','success')| |Yes|\n",
    "|Deposit|Binary| |has the client subscribed a term deposit?| |No|\n"
   ]
  },
  {
   "cell_type": "markdown",
   "id": "a26a4a4c-956d-4e4b-a79c-4e1cab780010",
   "metadata": {},
   "source": [
    "Todas las variables son características, excepto la última, que es nuestra predicción, nuestro objetivo. Dado que el origen de los datos se lee en inglés, se no se traducen los diferentes campos para reconocerlos fácilmente."
   ]
  },
  {
   "cell_type": "markdown",
   "id": "6913ecdc-c0d2-4d08-8b8f-9e8cd43edd23",
   "metadata": {},
   "source": [
    "**Formato de Almacenaje:**"
   ]
  },
  {
   "cell_type": "markdown",
   "id": "7e150f0d-b775-4fe6-a45d-e96fcffc9ab2",
   "metadata": {},
   "source": [
    "Datos tabulares almacenados en un archivo csv."
   ]
  },
  {
   "cell_type": "markdown",
   "id": "216ca4e7-096f-4fc7-b5a9-65e6a84563e1",
   "metadata": {},
   "source": [
    "### 4. Limitaciones de los datos"
   ]
  },
  {
   "cell_type": "markdown",
   "id": "0401a205-4e63-4ab3-a776-1acd1d3542cc",
   "metadata": {},
   "source": [
    "Aunque el campo \"duration\" puede afectar al resultado, éste no se conoce antes de la llamada. Luego este dato solo puede entrarse a título estadístico, si se desea que un modelo de predicción realista. "
   ]
  },
  {
   "cell_type": "markdown",
   "id": "e3c20c67-40cb-4052-b250-ec5731f03409",
   "metadata": {},
   "source": [
    "### 5. Consideracions sobre Datos Sensibles"
   ]
  },
  {
   "cell_type": "markdown",
   "id": "f07adb0c-8ba9-42ba-8440-73edfdb069bd",
   "metadata": {},
   "source": [
    "**Tipos de Datos Sensibles:**"
   ]
  },
  {
   "cell_type": "markdown",
   "id": "97e2471d-f237-49c9-b3e3-5328ded35421",
   "metadata": {},
   "source": [
    "Nótese que el único dato identificable sería \"Contact\". Pero éste ha sido sustituido por un tipo categórico que solo informa si la llamada ha sido por móvil o teléfono."
   ]
  },
  {
   "cell_type": "markdown",
   "id": "14a137d7-eb75-4a15-ba78-9e70d9a8e7ee",
   "metadata": {},
   "source": [
    "1. Información Personal Identificable (PII): N/A\n",
    "2. Información Financiera Sensible: \"Default\", \"Balance\", \"Housing\", \"Loan\", \"Outcome\" y \"Deposit\""
   ]
  },
  {
   "cell_type": "markdown",
   "id": "04ef942c-6160-4ab8-a12a-686f5869a08a",
   "metadata": {},
   "source": [
    "**Medidas de Protección:**"
   ]
  },
  {
   "cell_type": "markdown",
   "id": "aa3cc2c8-68c9-4947-8be3-2a0a3a02a30a",
   "metadata": {},
   "source": [
    "_Anonimización y Pseudoanonimización:_"
   ]
  },
  {
   "cell_type": "markdown",
   "id": "b45741c7-9a82-4369-8edd-1c1ee9306552",
   "metadata": {},
   "source": [
    "No aparecerán datos de idenficación personal. El único indispensable para la campaña, el teléfono, ha sido sustituido por un campo categórico a efectos de este estudio."
   ]
  },
  {
   "cell_type": "markdown",
   "id": "e1eba33a-d260-4ea8-9607-c15b8c19c1d3",
   "metadata": {},
   "source": [
    "_Acceso Restringido:_"
   ]
  },
  {
   "cell_type": "markdown",
   "id": "57a1ef42-b6b3-4adc-bd64-9c4ac9a7f982",
   "metadata": {},
   "source": [
    "El acceso a los datos sensibles será restringido a personal autoritzado que necesite conocer los datos para fines específicos del proyecto."
   ]
  },
  {
   "cell_type": "markdown",
   "id": "e47cc176-973c-4280-a2a5-bfb7dd02949b",
   "metadata": {},
   "source": [
    "_Complimiento Normativo:_"
   ]
  },
  {
   "cell_type": "markdown",
   "id": "d8842dab-1be3-4d10-abc2-3afd1212490c",
   "metadata": {},
   "source": [
    "Cumplimiento de la GDRP de la EU."
   ]
  },
  {
   "cell_type": "code",
   "execution_count": null,
   "id": "6ee2d597-6422-4132-88ae-ce17899896ac",
   "metadata": {},
   "outputs": [],
   "source": []
  }
 ],
 "metadata": {
  "kernelspec": {
   "display_name": "Python 3 (ipykernel)",
   "language": "python",
   "name": "python3"
  },
  "language_info": {
   "codemirror_mode": {
    "name": "ipython",
    "version": 3
   },
   "file_extension": ".py",
   "mimetype": "text/x-python",
   "name": "python",
   "nbconvert_exporter": "python",
   "pygments_lexer": "ipython3",
   "version": "3.12.4"
  }
 },
 "nbformat": 4,
 "nbformat_minor": 5
}
