{
 "cells": [
  {
   "cell_type": "markdown",
   "id": "0fb67055-0ea2-462a-a5aa-b974dacb6831",
   "metadata": {},
   "source": [
    "# Ejercicio 1 - Consumir una API."
   ]
  },
  {
   "cell_type": "markdown",
   "id": "e28ae6ba-0f32-4867-b43e-4438261a3210",
   "metadata": {},
   "source": [
    "Se extraerán los datos de la página _[https://www.alphavantage.co/](https://www.alphavantage.co/)_"
   ]
  },
  {
   "cell_type": "markdown",
   "id": "9a60c5eb-28f9-4ed8-9820-3fa9497ab330",
   "metadata": {},
   "source": [
    "Dicha página ofrece información y cotizaciones sobre la bolsa.\n",
    "Posee una API documentada en [https://www.alphavantage.co/documentation/](https://www.alphavantage.co/documentation/)\n",
    "La API de \"Alpha Vantage\" permite llamar a algunas de sus funciones mediante una clave llamada \"demo\". Para levantar\n",
    "las limitaciones deberemos registrarnos y obtener una clave nueva. La clave puede obtenerse fácilmente desde [https://www.alphavantage.co/support/#api-key](https://www.alphavantage.co/support/#api-key).\n",
    "En el ejercicio obtendremos el precio de la cotización\n",
    "de dos empresas distintas una con la clave \"demo\" y otra con la clave facilitada por \"Alpha Vantage\"."
   ]
  },
  {
   "cell_type": "markdown",
   "id": "bd2eec2f-404d-405e-957d-b2d5ef275e71",
   "metadata": {},
   "source": [
    "La solicitud elegida es: <https://www.alphavantage.co/query?function=TIME_SERIES_INTRADAY&symbol=IBM&interval=5min&outputsize=full&apikey=demo>"
   ]
  },
  {
   "cell_type": "markdown",
   "id": "6ff0fa96-bcc1-457e-9918-4a568ebc51e4",
   "metadata": {},
   "source": [
    "Describimos los parámetros:"
   ]
  },
  {
   "cell_type": "markdown",
   "id": "f4c3b725-70c2-40cb-b625-3f8560760c18",
   "metadata": {},
   "source": [
    "function=TIME_SERIES_INTRADAY -> Remite, en formato JSON, una serie temporal con los precios de cotización de la empresa especificada."
   ]
  },
  {
   "cell_type": "markdown",
   "id": "b809e50a-92b9-4d39-8b87-0cb1e2954780",
   "metadata": {},
   "source": [
    "symbol=IBM -> Se selecciona la empresa deseada."
   ]
  },
  {
   "cell_type": "markdown",
   "id": "f3417906-393f-48e0-b573-d80678bbdb28",
   "metadata": {},
   "source": [
    "interval=5min                 -> Los valores se muestran en el intervalo seleccionado: 1min, 5min, 15min, 30min, 60min."
   ]
  },
  {
   "cell_type": "markdown",
   "id": "d922fbaf-eebc-4521-8898-6d19e4fc86bf",
   "metadata": {},
   "source": [
    "outputsize=full  ->  La opción \"compact\" envía 100 registros. \"full\" envía 30 días."
   ]
  },
  {
   "cell_type": "markdown",
   "id": "51f1b9fc-68a7-4016-a744-3ca1c40f5a8c",
   "metadata": {},
   "source": [
    "apikey=demo -> Clave que permite el acceso."
   ]
  },
  {
   "cell_type": "markdown",
   "id": "01ea4ec6-d742-4cfb-a986-6c061d2d336b",
   "metadata": {},
   "source": [
    "#### A continuación el código."
   ]
  },
  {
   "cell_type": "markdown",
   "id": "3239ab4a-276f-4a6e-9864-7ec14694707c",
   "metadata": {},
   "source": [
    "Primero importamos las librerías necesarias y definimos las claves como variables globales:"
   ]
  },
  {
   "cell_type": "code",
   "execution_count": 13,
   "id": "02573abe-b764-440f-8aa3-4ab0f7a87e75",
   "metadata": {},
   "outputs": [],
   "source": [
    "# El script accede a la API de \"https://www.alphavantage.co/\".\n",
    "# Nótese que el dominio no es \".com\" si no \".co\"\n",
    "\n",
    "# Importamos la librerías necesarias.\n",
    "import requests # Para la solicitud http.\n",
    "import json     # La respuesta se da en formato JSON.\n",
    "\n",
    "# La clave \"demo\" nos permite tipos limitados de consultas.\n",
    "API_KEY_DEMO = f\"demo\"\n",
    "\n",
    "# El registro a \"https://www.alphavantage.co/\" permite mejor acceso mediante la siguiente clave:\n",
    "API_KEY = f\"G0JZT4C79E2OKFRE\""
   ]
  },
  {
   "cell_type": "markdown",
   "id": "8724b83f-2bac-4a32-b526-3d8cd26e971b",
   "metadata": {},
   "source": [
    "La siguiente función construye la URL, envía la solicitud y devuelve el precio de la cotización a la obertura:"
   ]
  },
  {
   "cell_type": "code",
   "execution_count": 15,
   "id": "835fe664-bf7e-4a33-88ce-ed41cc1014b6",
   "metadata": {},
   "outputs": [],
   "source": [
    "# Función para obtener datos de cotizaciones.\n",
    "def get_price (symbol, interval, outputsize):\n",
    "\n",
    "    # Construimos la llamada \"GET\".\n",
    "    url = f\"https://www.alphavantage.co/query?function=TIME_SERIES_INTRADAY&symbol=\" + symbol\n",
    "    url = url + f\"&interval=\" + interval\n",
    "    url = url + f\"&outputsize=\" + outputsize\n",
    "    url = url + f\"&apikey=\" + KEY\n",
    "\n",
    "    # Imprimimos la URL.\n",
    "    print (\"url: \" + url)\n",
    "\n",
    "    # Mandamos la solicitud y almacenamos la respuesta.\n",
    "    response = requests.get(url)\n",
    "\n",
    "    # Comprobamos si la respuesta es un éxito.\n",
    "    if response.status_code == 200:\n",
    "\n",
    "        # Filtramos el dato deseado, el precio.\n",
    "        data = response.json()\n",
    "        last_refreshed = data[\"Meta Data\"][\"3. Last Refreshed\"]\n",
    "        ts = \"Time Series (\" + interval + \")\"\n",
    "        price = data[ts][last_refreshed][\"1. open\"]\n",
    "\n",
    "        return price\n",
    "    else:\n",
    "        return None"
   ]
  },
  {
   "cell_type": "markdown",
   "id": "2c9dd678-d272-4fa5-84b6-fc3816a97253",
   "metadata": {},
   "source": [
    "Obtenemos la cotización de la empresa \"IBM\" con la clave \"demo\", este código produce la salida deseada:"
   ]
  },
  {
   "cell_type": "code",
   "execution_count": 17,
   "id": "3a6cf396-7d0c-4b78-a54d-f98e53cea78b",
   "metadata": {},
   "outputs": [
    {
     "name": "stdout",
     "output_type": "stream",
     "text": [
      "url: https://www.alphavantage.co/query?function=TIME_SERIES_INTRADAY&symbol=IBM&interval=5min&outputsize=full&apikey=demo\n",
      "IBM: 220.5000\n"
     ]
    }
   ],
   "source": [
    "# Main\n",
    "\n",
    "# Con la clave de \"demo\" solo podemos consultar a \"IBM\" con las\n",
    "# opciones \"5min\" y \"full\".\n",
    "KEY = API_KEY_DEMO\n",
    "\n",
    "company=f\"IBM\"\n",
    "price = get_price (company, f\"5min\", f\"full\")\n",
    "\n",
    "if price is not None:\n",
    "    print(f\"{company}: {price}\")"
   ]
  },
  {
   "cell_type": "markdown",
   "id": "a23b0733-1518-4c3a-932b-1fb352d69d63",
   "metadata": {},
   "source": [
    "Finalmente obtenemos la cotización de \"ST Microelectronics\" con la clave obtenida durante el registro:"
   ]
  },
  {
   "cell_type": "code",
   "execution_count": 19,
   "id": "a94e440a-c8f3-435e-aa26-54e2b2c72e02",
   "metadata": {},
   "outputs": [
    {
     "name": "stdout",
     "output_type": "stream",
     "text": [
      "url: https://www.alphavantage.co/query?function=TIME_SERIES_INTRADAY&symbol=STM&interval=60min&outputsize=compact&apikey=G0JZT4C79E2OKFRE\n",
      "STM: 30.3600\n"
     ]
    }
   ],
   "source": [
    "# Después de habernos registrado podemos consultar los precios de cualquier\n",
    "# compañía y variar las opciones de la solicitud.\n",
    "KEY = API_KEY\n",
    "\n",
    "# Elegimos la compañía \"ST Microelectronics\"\n",
    "company=f\"STM\"\n",
    "price = get_price (company, f\"60min\", f\"compact\")\n",
    "\n",
    "if price is not None:\n",
    "     print(f\"{company}: {price}\")"
   ]
  },
  {
   "cell_type": "markdown",
   "id": "82bc88b8-2883-41ae-b6bc-03bb300fd154",
   "metadata": {},
   "source": [
    "# Ejercicio 2 - Obtener datos con WEB scraping."
   ]
  },
  {
   "cell_type": "markdown",
   "id": "3e8159d8-c6dc-445b-b694-9e28b03eed50",
   "metadata": {},
   "source": [
    "Para este ejercicio accederemos a [https://www.google.com/finance](https://www.google.com/finance) y obtendremos los datos de cotización en bolsa de la empresa \"IBM\". Para ello debemos acceder a la dirección [https://www.google.com/finance/quote/IBM:NYSE?hl=en](https://www.google.com/finance/quote/IBM:NYSE?hl=en)."
   ]
  },
  {
   "cell_type": "markdown",
   "id": "fe2a4d17-d766-47ff-9319-e663ab08ce7c",
   "metadata": {},
   "source": [
    "Comprobamos el archivo [https://www.google.com/robots.txt](https://www.google.com/robots.txt). En él encontramos la entrada\n",
    "\"Allow: /finance\".\n",
    "La página permite pues la extracción de sus datos."
   ]
  },
  {
   "cell_type": "markdown",
   "id": "8e2b356e-e5af-4b93-b106-bc8608291bb7",
   "metadata": {},
   "source": [
    "#### Paso 1 - Inspeccionar el código."
   ]
  },
  {
   "cell_type": "markdown",
   "id": "aa28e8bb-e3b2-43e3-a2a0-472781e2a8c2",
   "metadata": {},
   "source": [
    " Examinando la WEB comprobamos que hay una sección con un gráfico con las cotizaciones. A su derecha vemos una caja de texto con etiquetas \"PREVIOUS CLOSE\", \"DAY RANGE\", \"MARKET CAP\", \"AVG VOLUME\", etc. Son los datos de interes."
   ]
  },
  {
   "cell_type": "markdown",
   "id": "fe4aec68-7bd2-463e-90ab-ef3ea92b606b",
   "metadata": {},
   "source": [
    "Inspeccionando el código fuente de la página descubrimos que, en cada linea de la tabla, se encuentra en un elemento de la clase:"
   ]
  },
  {
   "cell_type": "markdown",
   "id": "7062b185-ef6b-4479-a390-788331f1bec4",
   "metadata": {},
   "source": [
    "\\<div class=\"gyFHrc\"\\>...\\</div\\>"
   ]
  },
  {
   "cell_type": "markdown",
   "id": "6e9710b7-da87-45a4-b2d5-8c3634c3becc",
   "metadata": {},
   "source": [
    "Dentro de dicho elemento encontramos los tags:"
   ]
  },
  {
   "cell_type": "markdown",
   "id": "1e941a26-3474-448e-92a1-71f032aa7e27",
   "metadata": {},
   "source": [
    "\\<div class=\"mfs7Fc\"\\>...\\</div\\>\n",
    "\\<div class=\"P6K39c\"\\>$223.43\\</div\\>"
   ]
  },
  {
   "cell_type": "markdown",
   "id": "169b466b-1942-489c-98f0-a9c73cceb420",
   "metadata": {},
   "source": [
    "que son los deseados. Tomamos nota de las clases de los tags para pasárselos al parser de HTML. Nótese que la tabla contiene varias filas, luego encontraremos varios tags de dichas clases."
   ]
  },
  {
   "cell_type": "markdown",
   "id": "5a3c03fd-0e11-4c70-9d77-9aae256ca2d6",
   "metadata": {},
   "source": [
    "#### Paso 2 - Scrape."
   ]
  },
  {
   "cell_type": "markdown",
   "id": "7f421bd6-a2de-490b-80ac-6086de50ae48",
   "metadata": {},
   "source": [
    "En este paso empezamos con el código."
   ]
  },
  {
   "cell_type": "markdown",
   "id": "e1b65ddd-f236-4bf6-a32a-a29b5c249a3c",
   "metadata": {},
   "source": [
    "En primer lugar importamos los módulos necesarios:"
   ]
  },
  {
   "cell_type": "code",
   "execution_count": 33,
   "id": "06b7544c-1c6d-4c0b-9fdc-9a2ff8602c0c",
   "metadata": {},
   "outputs": [],
   "source": [
    "import requests\n",
    "from bs4 import BeautifulSoup"
   ]
  },
  {
   "cell_type": "markdown",
   "id": "19e94f91-9a64-4495-91e4-af99f6a00460",
   "metadata": {},
   "source": [
    "La siguiente función nos facilita la construcción de la URL:"
   ]
  },
  {
   "cell_type": "code",
   "execution_count": 35,
   "id": "57e7c900-da02-47a3-b7da-11c0ce215917",
   "metadata": {},
   "outputs": [],
   "source": [
    "# Construimos la URL a inspeccionar:\n",
    "\n",
    "def set_URL (INDEX, SYMBOL):\n",
    "    BASE_URL = \"https://www.google.com/finance\"\n",
    "    LANGUAGE = \"en\"\n",
    "    return f\"{BASE_URL}/quote/{SYMBOL}:{INDEX}?hl={LANGUAGE}\""
   ]
  },
  {
   "cell_type": "markdown",
   "id": "4dcce5e0-bb4b-4ffb-bac8-d89fabf15225",
   "metadata": {},
   "source": [
    "Ahora se realiza el \"scrape\" propiamente dicho, también queda definido como una función:"
   ]
  },
  {
   "cell_type": "code",
   "execution_count": 37,
   "id": "2c3b48e0-42cc-4ef1-a5ed-7d2f23b3f344",
   "metadata": {},
   "outputs": [],
   "source": [
    "def scrape (page):\n",
    "    # Utilizamos un parser HTML para obtener el contenido\n",
    "    s = BeautifulSoup(page.content, \"html.parser\")\n",
    "    return s"
   ]
  },
  {
   "cell_type": "markdown",
   "id": "aa93326f-c62e-48a8-883b-8183abae34d6",
   "metadata": {},
   "source": [
    "#### Paso 3 - Parsing."
   ]
  },
  {
   "cell_type": "markdown",
   "id": "8772a59f-aab7-4ccb-b66d-d5219f7d45e3",
   "metadata": {},
   "source": [
    "En este paso obtenemos los elementos que hemos descubierto en la inspección de la WEB, mediante su función:"
   ]
  },
  {
   "cell_type": "code",
   "execution_count": 40,
   "id": "9fe7bbe0-e761-4c83-8e64-eaa618d4e346",
   "metadata": {},
   "outputs": [],
   "source": [
    "def parse (s):\n",
    "    # Después de inspeccionar la página descubrimos que los items que describen\n",
    "    # la cotización están en la clase \"gyFHrc\".\n",
    "    items = s.find_all(\"div\", {\"class\": \"gyFHrc\"})\n",
    "\n",
    "    # Creamos un diccionario para almacenar la descripción de la contización.\n",
    "    stock_description = {}\n",
    "\n",
    "    # Iteramos para cada uno de los elementos del diccionario.\n",
    "    for item in items:\n",
    "        item_description = item.find(\"div\", {\"class\": \"mfs7Fc\"}).text\n",
    "        item_value = item.find(\"div\", {\"class\": \"P6K39c\"}).text\n",
    "        stock_description[item_description] = item_value\n",
    "    return stock_description"
   ]
  },
  {
   "cell_type": "markdown",
   "id": "1404c9eb-33c9-4edd-b1ca-13bf54535c37",
   "metadata": {},
   "source": [
    "Llamamos a las funciones anteriores para recoger los datos en la rutina principal:"
   ]
  },
  {
   "cell_type": "markdown",
   "id": "2bfeb628-4f18-469d-b369-634c681dcade",
   "metadata": {},
   "source": [
    "Primero con la empresa \"IBM\". Debe indicarse también el índice, en nuestro caso \"NYSE\":"
   ]
  },
  {
   "cell_type": "code",
   "execution_count": 43,
   "id": "c36f207e-02c4-4a5a-aba5-da3f4a3a4630",
   "metadata": {},
   "outputs": [
    {
     "name": "stdout",
     "output_type": "stream",
     "text": [
      "url: https://www.google.com/finance/quote/IBM:NYSE?hl=en\n",
      "status: 200\n",
      "{'Previous close': '$223.43', 'Day range': '$220.77 - $224.15', 'Year range': '$135.87 - $224.15', 'Market cap': '203.43B USD', 'Avg Volume': '3.59M', 'P/E ratio': '24.34', 'Dividend yield': '3.02%', 'Primary exchange': 'NYSE', 'CEO': 'Arvind Krishna', 'Founded': 'Jun 16, 1911', 'Headquarters': 'Armonk, New YorkUnited States', 'Website': 'ibm.com', 'Employees': '282,200'}\n"
     ]
    }
   ],
   "source": [
    "# Main\n",
    "\n",
    "# Construimos y leemos la URL de la página WEB.\n",
    "url = set_URL (\"NYSE\", \"IBM\")\n",
    "page = requests.get(url)\n",
    "\n",
    "print (\"url: \" + url)\n",
    "print (\"status: %d\" % page.status_code)\n",
    "\n",
    "# Obtenemos los datos de cotización mediante \"scrape\".\n",
    "scr = scrape (page)\n",
    "stock = parse (scr)\n",
    "print(stock)"
   ]
  },
  {
   "cell_type": "markdown",
   "id": "3bad34e4-4801-4a58-b618-e7b711646d59",
   "metadata": {},
   "source": [
    "Luego la empresa \"ST Microelectronics\":"
   ]
  },
  {
   "cell_type": "code",
   "execution_count": 45,
   "id": "eb734f55-4eed-4b4b-9de2-46d00fd74bd7",
   "metadata": {},
   "outputs": [
    {
     "name": "stdout",
     "output_type": "stream",
     "text": [
      "url: https://www.google.com/finance/quote/STM:NYSE?hl=en\n",
      "status: 200\n",
      "{'Previous close': '$29.48', 'Day range': '$30.32 - $30.75', 'Year range': '$27.45 - $51.27', 'Market cap': '27.07B USD', 'Avg Volume': '4.69M', 'CEO': 'Jean-Marc Chery', 'Founded': '1987', 'Headquarters': 'Geneva, GenevaSwitzerland', 'Website': 'st.com', 'Employees': '51,323'}\n"
     ]
    }
   ],
   "source": [
    "# Construimos y leemos la URL de la página WEB.\n",
    "url = set_URL (\"NYSE\", \"STM\")\n",
    "page = requests.get (url)\n",
    "\n",
    "print (\"url: \" + url)\n",
    "print (\"status: %d\" % page.status_code)\n",
    "\n",
    "# Obtenemos los datos de cotización mediante \"scrape\".\n",
    "scr = scrape (page)\n",
    "stock = parse (scr)\n",
    "print(stock)"
   ]
  },
  {
   "cell_type": "code",
   "execution_count": null,
   "id": "c69c844e-c11c-4298-8325-9367744fb264",
   "metadata": {},
   "outputs": [],
   "source": []
  }
 ],
 "metadata": {
  "kernelspec": {
   "display_name": "Python 3 (ipykernel)",
   "language": "python",
   "name": "python3"
  },
  "language_info": {
   "codemirror_mode": {
    "name": "ipython",
    "version": 3
   },
   "file_extension": ".py",
   "mimetype": "text/x-python",
   "name": "python",
   "nbconvert_exporter": "python",
   "pygments_lexer": "ipython3",
   "version": "3.12.4"
  }
 },
 "nbformat": 4,
 "nbformat_minor": 5
}
