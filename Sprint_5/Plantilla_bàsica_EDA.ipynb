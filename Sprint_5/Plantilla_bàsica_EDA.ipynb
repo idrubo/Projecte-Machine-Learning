{
 "cells": [
  {
   "cell_type": "markdown",
   "id": "cfe3d208-f562-4a73-812a-15f3f983261a",
   "metadata": {},
   "source": []
  },
  {
   "cell_type": "markdown",
   "id": "ce6b5a2a-223b-422f-b12b-0c25c07a4903",
   "metadata": {},
   "source": [
    "# Análisis exploratorio de datos (EDA)"
   ]
  },
  {
   "cell_type": "markdown",
   "id": "0a860280-54d0-42c0-8d42-865cb02e0012",
   "metadata": {},
   "source": [
    "### 1. Importación de Bibliotecas"
   ]
  },
  {
   "cell_type": "code",
   "execution_count": 4,
   "id": "38cec478-8fdc-4100-98ed-c1227fda2c9a",
   "metadata": {},
   "outputs": [],
   "source": [
    "'''python\n",
    "Análisis exploratorio de datos.\n",
    "'''\n",
    "\n",
    "import pandas as pd\n",
    "import numpy as np\n",
    "import matplotlib.pyplot as plt\n",
    "import seaborn as sns\n",
    "# !pip install sweetviz\n",
    "import sweetviz as sv\n",
    "\n",
    "# Añadimos \"scipy\" para calcular Z-score\n",
    "from scipy.stats import zscore"
   ]
  },
  {
   "cell_type": "markdown",
   "id": "ac183828-859f-4ea6-802b-c2bb41dff750",
   "metadata": {},
   "source": [
    "### 2. Cargar el dataset"
   ]
  },
  {
   "cell_type": "code",
   "execution_count": 6,
   "id": "76d10100-b271-46eb-9da4-597cbe890ceb",
   "metadata": {},
   "outputs": [],
   "source": [
    "\n",
    "df = pd.read_csv('bank_dataset.csv')\n"
   ]
  },
  {
   "cell_type": "markdown",
   "id": "ab8241b1-c175-494b-a300-18fff5cae962",
   "metadata": {},
   "source": [
    "### 3.- Muestra las primeras filas del dataset"
   ]
  },
  {
   "cell_type": "code",
   "execution_count": 8,
   "id": "5a4a8c65-01af-4c57-8735-1f8df1b465ee",
   "metadata": {},
   "outputs": [
    {
     "data": {
      "text/html": [
       "<div>\n",
       "<style scoped>\n",
       "    .dataframe tbody tr th:only-of-type {\n",
       "        vertical-align: middle;\n",
       "    }\n",
       "\n",
       "    .dataframe tbody tr th {\n",
       "        vertical-align: top;\n",
       "    }\n",
       "\n",
       "    .dataframe thead th {\n",
       "        text-align: right;\n",
       "    }\n",
       "</style>\n",
       "<table border=\"1\" class=\"dataframe\">\n",
       "  <thead>\n",
       "    <tr style=\"text-align: right;\">\n",
       "      <th></th>\n",
       "      <th>age</th>\n",
       "      <th>job</th>\n",
       "      <th>marital</th>\n",
       "      <th>education</th>\n",
       "      <th>default</th>\n",
       "      <th>balance</th>\n",
       "      <th>housing</th>\n",
       "      <th>loan</th>\n",
       "      <th>contact</th>\n",
       "      <th>day</th>\n",
       "      <th>month</th>\n",
       "      <th>duration</th>\n",
       "      <th>campaign</th>\n",
       "      <th>pdays</th>\n",
       "      <th>previous</th>\n",
       "      <th>poutcome</th>\n",
       "      <th>deposit</th>\n",
       "    </tr>\n",
       "  </thead>\n",
       "  <tbody>\n",
       "    <tr>\n",
       "      <th>0</th>\n",
       "      <td>59.0</td>\n",
       "      <td>admin.</td>\n",
       "      <td>married</td>\n",
       "      <td>secondary</td>\n",
       "      <td>no</td>\n",
       "      <td>2343</td>\n",
       "      <td>yes</td>\n",
       "      <td>no</td>\n",
       "      <td>unknown</td>\n",
       "      <td>5</td>\n",
       "      <td>may</td>\n",
       "      <td>1042</td>\n",
       "      <td>1</td>\n",
       "      <td>-1</td>\n",
       "      <td>0</td>\n",
       "      <td>unknown</td>\n",
       "      <td>yes</td>\n",
       "    </tr>\n",
       "    <tr>\n",
       "      <th>1</th>\n",
       "      <td>56.0</td>\n",
       "      <td>admin.</td>\n",
       "      <td>married</td>\n",
       "      <td>secondary</td>\n",
       "      <td>no</td>\n",
       "      <td>45</td>\n",
       "      <td>no</td>\n",
       "      <td>no</td>\n",
       "      <td>unknown</td>\n",
       "      <td>5</td>\n",
       "      <td>may</td>\n",
       "      <td>1467</td>\n",
       "      <td>1</td>\n",
       "      <td>-1</td>\n",
       "      <td>0</td>\n",
       "      <td>unknown</td>\n",
       "      <td>yes</td>\n",
       "    </tr>\n",
       "    <tr>\n",
       "      <th>2</th>\n",
       "      <td>41.0</td>\n",
       "      <td>technician</td>\n",
       "      <td>married</td>\n",
       "      <td>secondary</td>\n",
       "      <td>no</td>\n",
       "      <td>1270</td>\n",
       "      <td>yes</td>\n",
       "      <td>no</td>\n",
       "      <td>unknown</td>\n",
       "      <td>5</td>\n",
       "      <td>may</td>\n",
       "      <td>1389</td>\n",
       "      <td>1</td>\n",
       "      <td>-1</td>\n",
       "      <td>0</td>\n",
       "      <td>unknown</td>\n",
       "      <td>yes</td>\n",
       "    </tr>\n",
       "    <tr>\n",
       "      <th>3</th>\n",
       "      <td>55.0</td>\n",
       "      <td>services</td>\n",
       "      <td>married</td>\n",
       "      <td>secondary</td>\n",
       "      <td>no</td>\n",
       "      <td>2476</td>\n",
       "      <td>yes</td>\n",
       "      <td>no</td>\n",
       "      <td>unknown</td>\n",
       "      <td>5</td>\n",
       "      <td>may</td>\n",
       "      <td>579</td>\n",
       "      <td>1</td>\n",
       "      <td>-1</td>\n",
       "      <td>0</td>\n",
       "      <td>unknown</td>\n",
       "      <td>yes</td>\n",
       "    </tr>\n",
       "    <tr>\n",
       "      <th>4</th>\n",
       "      <td>54.0</td>\n",
       "      <td>admin.</td>\n",
       "      <td>married</td>\n",
       "      <td>tertiary</td>\n",
       "      <td>no</td>\n",
       "      <td>184</td>\n",
       "      <td>no</td>\n",
       "      <td>no</td>\n",
       "      <td>unknown</td>\n",
       "      <td>5</td>\n",
       "      <td>may</td>\n",
       "      <td>673</td>\n",
       "      <td>2</td>\n",
       "      <td>-1</td>\n",
       "      <td>0</td>\n",
       "      <td>unknown</td>\n",
       "      <td>yes</td>\n",
       "    </tr>\n",
       "  </tbody>\n",
       "</table>\n",
       "</div>"
      ],
      "text/plain": [
       "    age         job  marital  education default  balance housing loan  \\\n",
       "0  59.0      admin.  married  secondary      no     2343     yes   no   \n",
       "1  56.0      admin.  married  secondary      no       45      no   no   \n",
       "2  41.0  technician  married  secondary      no     1270     yes   no   \n",
       "3  55.0    services  married  secondary      no     2476     yes   no   \n",
       "4  54.0      admin.  married   tertiary      no      184      no   no   \n",
       "\n",
       "   contact  day month  duration  campaign  pdays  previous poutcome deposit  \n",
       "0  unknown    5   may      1042         1     -1         0  unknown     yes  \n",
       "1  unknown    5   may      1467         1     -1         0  unknown     yes  \n",
       "2  unknown    5   may      1389         1     -1         0  unknown     yes  \n",
       "3  unknown    5   may       579         1     -1         0  unknown     yes  \n",
       "4  unknown    5   may       673         2     -1         0  unknown     yes  "
      ]
     },
     "execution_count": 8,
     "metadata": {},
     "output_type": "execute_result"
    }
   ],
   "source": [
    "\n",
    "df.head()\n"
   ]
  },
  {
   "cell_type": "markdown",
   "id": "f82240f2-2964-4080-8e87-a46d00410c78",
   "metadata": {},
   "source": [
    "### 4. Información general del dataset"
   ]
  },
  {
   "cell_type": "code",
   "execution_count": 10,
   "id": "5d49085a-b0e6-4c7e-9b09-4cd129d06f5d",
   "metadata": {},
   "outputs": [
    {
     "name": "stdout",
     "output_type": "stream",
     "text": [
      "<class 'pandas.core.frame.DataFrame'>\n",
      "RangeIndex: 11162 entries, 0 to 11161\n",
      "Data columns (total 17 columns):\n",
      " #   Column     Non-Null Count  Dtype  \n",
      "---  ------     --------------  -----  \n",
      " 0   age        11152 non-null  float64\n",
      " 1   job        11162 non-null  object \n",
      " 2   marital    11157 non-null  object \n",
      " 3   education  11155 non-null  object \n",
      " 4   default    11162 non-null  object \n",
      " 5   balance    11162 non-null  int64  \n",
      " 6   housing    11162 non-null  object \n",
      " 7   loan       11162 non-null  object \n",
      " 8   contact    11162 non-null  object \n",
      " 9   day        11162 non-null  int64  \n",
      " 10  month      11162 non-null  object \n",
      " 11  duration   11162 non-null  int64  \n",
      " 12  campaign   11162 non-null  int64  \n",
      " 13  pdays      11162 non-null  int64  \n",
      " 14  previous   11162 non-null  int64  \n",
      " 15  poutcome   11162 non-null  object \n",
      " 16  deposit    11162 non-null  object \n",
      "dtypes: float64(1), int64(6), object(10)\n",
      "memory usage: 1.4+ MB\n"
     ]
    }
   ],
   "source": [
    "\n",
    "df.info()\n"
   ]
  },
  {
   "cell_type": "markdown",
   "id": "3b414cd6-e540-4ac3-b893-2e61cd9cd736",
   "metadata": {},
   "source": [
    "Como se comprueba fácilmente se cuenta con 11.162 registros de datos. Claramente suficientes.\n",
    "De los campos listados arriba \"job\", \"marital\", \"education\", \"default\", \"housing\", \"loan\", \"contact\", \"month\" y \"poutcame\" son características discretas.\n",
    "\"age\", \"balance\", \"day\", \"duration\", \"campaign\", \"pdays\", \"previous\", son características continuas."
   ]
  },
  {
   "cell_type": "markdown",
   "id": "4574164a-ef91-46fe-a5ec-35f5dae319b0",
   "metadata": {},
   "source": [
    "Nuestro objetivo, nuestra predicción \"diposit\" es discreta."
   ]
  },
  {
   "cell_type": "markdown",
   "id": "cd2aa537-4db9-4def-84dc-cf36de64e084",
   "metadata": {},
   "source": [
    "### 5. Descripción estadística del dataset"
   ]
  },
  {
   "cell_type": "code",
   "execution_count": 14,
   "id": "c313b221-3c17-48c7-9f79-ba26938b11ed",
   "metadata": {},
   "outputs": [
    {
     "data": {
      "text/html": [
       "<div>\n",
       "<style scoped>\n",
       "    .dataframe tbody tr th:only-of-type {\n",
       "        vertical-align: middle;\n",
       "    }\n",
       "\n",
       "    .dataframe tbody tr th {\n",
       "        vertical-align: top;\n",
       "    }\n",
       "\n",
       "    .dataframe thead th {\n",
       "        text-align: right;\n",
       "    }\n",
       "</style>\n",
       "<table border=\"1\" class=\"dataframe\">\n",
       "  <thead>\n",
       "    <tr style=\"text-align: right;\">\n",
       "      <th></th>\n",
       "      <th>age</th>\n",
       "      <th>balance</th>\n",
       "      <th>day</th>\n",
       "      <th>duration</th>\n",
       "      <th>campaign</th>\n",
       "      <th>pdays</th>\n",
       "      <th>previous</th>\n",
       "    </tr>\n",
       "  </thead>\n",
       "  <tbody>\n",
       "    <tr>\n",
       "      <th>count</th>\n",
       "      <td>11152.000000</td>\n",
       "      <td>11162.000000</td>\n",
       "      <td>11162.000000</td>\n",
       "      <td>11162.000000</td>\n",
       "      <td>11162.000000</td>\n",
       "      <td>11162.000000</td>\n",
       "      <td>11162.000000</td>\n",
       "    </tr>\n",
       "    <tr>\n",
       "      <th>mean</th>\n",
       "      <td>41.235384</td>\n",
       "      <td>1528.538524</td>\n",
       "      <td>15.658036</td>\n",
       "      <td>371.993818</td>\n",
       "      <td>2.508421</td>\n",
       "      <td>51.330407</td>\n",
       "      <td>0.832557</td>\n",
       "    </tr>\n",
       "    <tr>\n",
       "      <th>std</th>\n",
       "      <td>11.914934</td>\n",
       "      <td>3225.413326</td>\n",
       "      <td>8.420740</td>\n",
       "      <td>347.128386</td>\n",
       "      <td>2.722077</td>\n",
       "      <td>108.758282</td>\n",
       "      <td>2.292007</td>\n",
       "    </tr>\n",
       "    <tr>\n",
       "      <th>min</th>\n",
       "      <td>18.000000</td>\n",
       "      <td>-6847.000000</td>\n",
       "      <td>1.000000</td>\n",
       "      <td>2.000000</td>\n",
       "      <td>1.000000</td>\n",
       "      <td>-1.000000</td>\n",
       "      <td>0.000000</td>\n",
       "    </tr>\n",
       "    <tr>\n",
       "      <th>25%</th>\n",
       "      <td>32.000000</td>\n",
       "      <td>122.000000</td>\n",
       "      <td>8.000000</td>\n",
       "      <td>138.000000</td>\n",
       "      <td>1.000000</td>\n",
       "      <td>-1.000000</td>\n",
       "      <td>0.000000</td>\n",
       "    </tr>\n",
       "    <tr>\n",
       "      <th>50%</th>\n",
       "      <td>39.000000</td>\n",
       "      <td>550.000000</td>\n",
       "      <td>15.000000</td>\n",
       "      <td>255.000000</td>\n",
       "      <td>2.000000</td>\n",
       "      <td>-1.000000</td>\n",
       "      <td>0.000000</td>\n",
       "    </tr>\n",
       "    <tr>\n",
       "      <th>75%</th>\n",
       "      <td>49.000000</td>\n",
       "      <td>1708.000000</td>\n",
       "      <td>22.000000</td>\n",
       "      <td>496.000000</td>\n",
       "      <td>3.000000</td>\n",
       "      <td>20.750000</td>\n",
       "      <td>1.000000</td>\n",
       "    </tr>\n",
       "    <tr>\n",
       "      <th>max</th>\n",
       "      <td>95.000000</td>\n",
       "      <td>81204.000000</td>\n",
       "      <td>31.000000</td>\n",
       "      <td>3881.000000</td>\n",
       "      <td>63.000000</td>\n",
       "      <td>854.000000</td>\n",
       "      <td>58.000000</td>\n",
       "    </tr>\n",
       "  </tbody>\n",
       "</table>\n",
       "</div>"
      ],
      "text/plain": [
       "                age       balance           day      duration      campaign  \\\n",
       "count  11152.000000  11162.000000  11162.000000  11162.000000  11162.000000   \n",
       "mean      41.235384   1528.538524     15.658036    371.993818      2.508421   \n",
       "std       11.914934   3225.413326      8.420740    347.128386      2.722077   \n",
       "min       18.000000  -6847.000000      1.000000      2.000000      1.000000   \n",
       "25%       32.000000    122.000000      8.000000    138.000000      1.000000   \n",
       "50%       39.000000    550.000000     15.000000    255.000000      2.000000   \n",
       "75%       49.000000   1708.000000     22.000000    496.000000      3.000000   \n",
       "max       95.000000  81204.000000     31.000000   3881.000000     63.000000   \n",
       "\n",
       "              pdays      previous  \n",
       "count  11162.000000  11162.000000  \n",
       "mean      51.330407      0.832557  \n",
       "std      108.758282      2.292007  \n",
       "min       -1.000000      0.000000  \n",
       "25%       -1.000000      0.000000  \n",
       "50%       -1.000000      0.000000  \n",
       "75%       20.750000      1.000000  \n",
       "max      854.000000     58.000000  "
      ]
     },
     "execution_count": 14,
     "metadata": {},
     "output_type": "execute_result"
    }
   ],
   "source": [
    "\n",
    "df.describe()\n"
   ]
  },
  {
   "cell_type": "markdown",
   "id": "1b1e9958-9028-4f91-aae6-3c86d818fa5b",
   "metadata": {},
   "source": [
    "### 6. Histograma de cada variable numérica"
   ]
  },
  {
   "cell_type": "code",
   "execution_count": 16,
   "id": "8b3f6c6c-59aa-436d-a1b0-8cd575aff035",
   "metadata": {},
   "outputs": [
    {
     "data": {
      "image/png": "[encoded data removed]",
      "text/plain": [
       "<Figure size 1500x1000 with 9 Axes>"
      ]
     },
     "metadata": {},
     "output_type": "display_data"
    }
   ],
   "source": [
    "\n",
    "df.hist(bins=30, figsize=(15, 10))\n",
    "plt.show()\n"
   ]
  },
  {
   "cell_type": "markdown",
   "id": "63ba5a34-cc86-4e05-8633-10a751647624",
   "metadata": {},
   "source": [
    "Se comprueba que las distribuciones de las características continuas (menos \"day\") son asimétricas."
   ]
  },
  {
   "cell_type": "markdown",
   "id": "3218ac36-0756-44b4-ac3f-c779c74fe950",
   "metadata": {},
   "source": [
    "### 7. Contage de los valores de cada variable categórica"
   ]
  },
  {
   "cell_type": "code",
   "execution_count": 19,
   "id": "e1508a41-1fa7-4161-8c13-0f7208c0f37b",
   "metadata": {},
   "outputs": [
    {
     "name": "stdout",
     "output_type": "stream",
     "text": [
      "job\n",
      "management       2566\n",
      "blue-collar      1944\n",
      "technician       1823\n",
      "admin.           1334\n",
      "services          923\n",
      "retired           778\n",
      "self-employed     405\n",
      "student           360\n",
      "unemployed        357\n",
      "entrepreneur      328\n",
      "housemaid         274\n",
      "unknown            70\n",
      "Name: count, dtype: int64\n",
      "marital\n",
      "married     6349\n",
      "single      3517\n",
      "divorced    1291\n",
      "Name: count, dtype: int64\n",
      "education\n",
      "secondary    5474\n",
      "tertiary     3685\n",
      "primary      1500\n",
      "unknown       496\n",
      "Name: count, dtype: int64\n",
      "default\n",
      "no     10994\n",
      "yes      168\n",
      "Name: count, dtype: int64\n",
      "housing\n",
      "no     5881\n",
      "yes    5281\n",
      "Name: count, dtype: int64\n",
      "loan\n",
      "no     9702\n",
      "yes    1460\n",
      "Name: count, dtype: int64\n",
      "contact\n",
      "cellular     8042\n",
      "unknown      2346\n",
      "telephone     774\n",
      "Name: count, dtype: int64\n",
      "month\n",
      "may    2824\n",
      "aug    1519\n",
      "jul    1514\n",
      "jun    1222\n",
      "nov     943\n",
      "apr     923\n",
      "feb     776\n",
      "oct     392\n",
      "jan     344\n",
      "sep     319\n",
      "mar     276\n",
      "dec     110\n",
      "Name: count, dtype: int64\n",
      "poutcome\n",
      "unknown    8326\n",
      "failure    1228\n",
      "success    1071\n",
      "other       537\n",
      "Name: count, dtype: int64\n",
      "deposit\n",
      "no     5873\n",
      "yes    5289\n",
      "Name: count, dtype: int64\n"
     ]
    }
   ],
   "source": [
    "\n",
    "for column in df.select_dtypes(include=['object']).columns:\n",
    "    print(df[column].value_counts())\n"
   ]
  },
  {
   "cell_type": "markdown",
   "id": "c21d1dad-6c52-4aed-a7f2-f29b0a52ae4e",
   "metadata": {},
   "source": [
    "### 8. Visualitzación de valores nulos"
   ]
  },
  {
   "cell_type": "code",
   "execution_count": 21,
   "id": "8be908b3-a881-485f-8548-dba65ab48db5",
   "metadata": {},
   "outputs": [
    {
     "data": {
      "image/png": "[encoded data removed]",
      "text/plain": [
       "<Figure size 1200x800 with 1 Axes>"
      ]
     },
     "metadata": {},
     "output_type": "display_data"
    }
   ],
   "source": [
    "\n",
    "plt.figure(figsize=(12, 8))\n",
    "sns.heatmap(df.isnull(), cbar=False, cmap='viridis')\n",
    "plt.show()\n"
   ]
  },
  {
   "cell_type": "markdown",
   "id": "4ac75a61-5f90-45d2-adc8-4747c48d94e5",
   "metadata": {},
   "source": [
    "Se encontrarán pocos valores nulos."
   ]
  },
  {
   "cell_type": "markdown",
   "id": "e19d1d8f-0d90-454b-a081-c2c6a6852d8d",
   "metadata": {},
   "source": [
    "### 8. Contar valores nulos por columna"
   ]
  },
  {
   "cell_type": "code",
   "execution_count": 24,
   "id": "ef89cade-c47f-4040-bb33-2c6d14af34fc",
   "metadata": {},
   "outputs": [
    {
     "data": {
      "text/plain": [
       "age          10\n",
       "job           0\n",
       "marital       5\n",
       "education     7\n",
       "default       0\n",
       "balance       0\n",
       "housing       0\n",
       "loan          0\n",
       "contact       0\n",
       "day           0\n",
       "month         0\n",
       "duration      0\n",
       "campaign      0\n",
       "pdays         0\n",
       "previous      0\n",
       "poutcome      0\n",
       "deposit       0\n",
       "dtype: int64"
      ]
     },
     "execution_count": 24,
     "metadata": {},
     "output_type": "execute_result"
    }
   ],
   "source": [
    "\n",
    "df.isnull().sum()\n"
   ]
  },
  {
   "cell_type": "markdown",
   "id": "8f1f219e-6684-49ac-8759-19fe77efc4b3",
   "metadata": {},
   "source": [
    "En efecto, el número de valores nulos se reduce a 10 en \"age\", 5 en \"marital\" y 7 en \"education\"."
   ]
  },
  {
   "cell_type": "markdown",
   "id": "472a18b1-18f0-4014-9444-653637eaa555",
   "metadata": {},
   "source": [
    "### 9. EDA automático con \"Sweetviz\""
   ]
  },
  {
   "cell_type": "code",
   "execution_count": 27,
   "id": "ccf69353-3f63-4803-add6-ff762d346839",
   "metadata": {},
   "outputs": [
    {
     "data": {
      "application/vnd.jupyter.widget-view+json": {
       "model_id": "6ddc71e90c9843feac6f76f59521bd98",
       "version_major": 2,
       "version_minor": 0
      },
      "text/plain": [
       "                                             |          | [  0%]   00:00 -> (? left)"
      ]
     },
     "metadata": {},
     "output_type": "display_data"
    },
    {
     "name": "stdout",
     "output_type": "stream",
     "text": [
      "Report EDA_report.html was generated! NOTEBOOK/COLAB USERS: the web browser MAY not pop up, regardless, the report IS saved in your notebook/colab files.\n"
     ]
    }
   ],
   "source": [
    "\n",
    "report = sv.analyze(df)\n",
    "report.show_html('EDA_report.html')\n"
   ]
  },
  {
   "cell_type": "markdown",
   "id": "666eca68-f53e-40c2-8896-824831c47610",
   "metadata": {},
   "source": [
    "Si ponemos atención al histograma \"poutcome\" vemos que el número de \"failure\" está muy próximo al número de \"success\", luego habrá poco desequilibrio de clases. Nótese que hay valores de \"poutcome\" marcados como \"other\", se considerarán como \"failure\""
   ]
  },
  {
   "cell_type": "markdown",
   "id": "32eecfda-16ae-41c6-9c79-59a41a5644dd",
   "metadata": {},
   "source": [
    "\"sweetviz\" construye para nosotros una matriz de correlación. Utiliza la correlación de Pearson para los datos continuos\n",
    "y el \"uncertainty coeficient\" para los datos discretos."
   ]
  },
  {
   "cell_type": "markdown",
   "id": "74715fbc-f5ce-48b3-9783-04cc7132a504",
   "metadata": {},
   "source": [
    "Claramente la variable más significativa es la duración de la llamada, \"duration\". Pero este dato no se conocerá \"a priori\". Esto es, no sabremos lo que durará la llamada sin haber realizado la propia llamada. Por tanto no servirá para hacer predicciones. Deberemos descartarlo."
   ]
  },
  {
   "cell_type": "markdown",
   "id": "dcfc215a-3c74-4d74-ae8a-f1acbb07f1db",
   "metadata": {},
   "source": [
    "Después de \"duration\" las características más relevantes son: \"pdays\", \"previous\", \"campaign\", \"balance\"."
   ]
  },
  {
   "cell_type": "markdown",
   "id": "e6437525-2ecc-48ec-a7e3-efd8bca30775",
   "metadata": {},
   "source": [
    "Despues de éstas tenemos otro grupo de menor relevancia: \"poutcome\", \"day\", contact y \"age\"."
   ]
  },
  {
   "cell_type": "markdown",
   "id": "2a8ed27f-396b-42c1-9654-c24203da072d",
   "metadata": {},
   "source": [
    "Introduciremos estas 8 características en nuestro modelo."
   ]
  },
  {
   "cell_type": "markdown",
   "id": "7ec96255-66f5-4fde-a2c3-996c6691c6b8",
   "metadata": {},
   "source": [
    "Todas las relaciones tomadas son débiles y positivas. Si la característica aumenta de valor, la probabilidad de éxito también."
   ]
  },
  {
   "cell_type": "markdown",
   "id": "742e8dcf-3dc4-4e63-87b7-9b011229110f",
   "metadata": {},
   "source": [
    "Los nulos en \"marital\" y \"education\" pueden descartarse, porque apenas afectan al resultado. Para el campo \"age\" se comprobará que su \"poutcome\" sea \"unknown\". Si lo es, pueden descartarse. En el annexo 11.1 se listan dichos registros. Solo habrá que considerar un registro.\n",
    "Dado que se trata de un único registro se anotará un valor igual a la media."
   ]
  },
  {
   "cell_type": "markdown",
   "id": "e733316c-503a-486a-87db-1f952bc22f25",
   "metadata": {},
   "source": [
    "Se tiene una seria de variables continuas no simétricas: \"pdays\", \"previous\", \"campaign\", \"balance\", \"age\".\n",
    "En el anexo 11.2 visualizaremos los outliers con el diagrama de caja. Conservamos los posibles outliers de \"age\" para evitar sesgos por edad."
   ]
  },
  {
   "cell_type": "markdown",
   "id": "c1cbc72c-fe1d-4860-b720-b4104cf4efef",
   "metadata": {},
   "source": [
    "\"pdays\", \"previous\", \"campaign\", \"balance\" son relevantes y se escogen para el modelo. Los outliers con valores altos no deberían descartarse puesto que aumentan la probabilidad de contratar de modo significativo. Eliminarlos podría producir un sesgo en el modelo. En el anexo 10.2 se muestran los diagramas de caja para el valor calculado de \"Z-score\" de dichos campos."
   ]
  },
  {
   "cell_type": "markdown",
   "id": "86d24dca-0297-43da-a686-37acb6e1f901",
   "metadata": {},
   "source": [
    "### 10. Conclusiones"
   ]
  },
  {
   "cell_type": "markdown",
   "id": "d3d0380d-53e1-4c20-a6b8-07e5f342383c",
   "metadata": {},
   "source": [
    "Podemos resumir la exploración de datos en los siguientes puntos:\n",
    "\n",
    "1. Las distribuciones de los valores continuos son no simétricas.\n",
    "2. Hay pocos valores nulos y la mayoría pueden descartarse.\n",
    "3. El campo \"duration\", aunque relevante, no puede utilizarse para hacer predicciones, puesto que no se dispondrá de dicho dato en el momento de hacer la predicción.\n",
    "4. Las características más relevantes son: \"pdays\", \"previous\", \"campaign\", \"balance\".\n",
    "5. Tenemos otro grupo de menor relevancia: \"poutcome\", \"day\", contact y \"age\".\n",
    "6. Las 8 anteriores serán las características escogidas en nuestro modelo.\n",
    "7. Todas las relaciones descubiertas son débiles y positivas.\n",
    "8. Conservamos los outliers de \"age\" para evitar sesgos en la edad.\n",
    "9. Los outliers de \"pdays\", \"previous\", \"campaign\" y \"balance\" se consideran significativos para el modelo y se mantienen."
   ]
  },
  {
   "cell_type": "markdown",
   "id": "1a586ace-7940-4361-a998-388df2c9b7d3",
   "metadata": {},
   "source": [
    "### 11. Anexo"
   ]
  },
  {
   "cell_type": "markdown",
   "id": "93a4ec07-25b2-4fc8-8a58-095af6f6778e",
   "metadata": {},
   "source": [
    "#### 11.1. Valores nulos para la edad"
   ]
  },
  {
   "cell_type": "code",
   "execution_count": 42,
   "id": "85bbd8a1-0ae3-4cb1-a9a9-1a8012389d38",
   "metadata": {},
   "outputs": [
    {
     "data": {
      "text/html": [
       "<div>\n",
       "<style scoped>\n",
       "    .dataframe tbody tr th:only-of-type {\n",
       "        vertical-align: middle;\n",
       "    }\n",
       "\n",
       "    .dataframe tbody tr th {\n",
       "        vertical-align: top;\n",
       "    }\n",
       "\n",
       "    .dataframe thead th {\n",
       "        text-align: right;\n",
       "    }\n",
       "</style>\n",
       "<table border=\"1\" class=\"dataframe\">\n",
       "  <thead>\n",
       "    <tr style=\"text-align: right;\">\n",
       "      <th></th>\n",
       "      <th>age</th>\n",
       "      <th>job</th>\n",
       "      <th>marital</th>\n",
       "      <th>education</th>\n",
       "      <th>default</th>\n",
       "      <th>balance</th>\n",
       "      <th>housing</th>\n",
       "      <th>loan</th>\n",
       "      <th>contact</th>\n",
       "      <th>day</th>\n",
       "      <th>month</th>\n",
       "      <th>duration</th>\n",
       "      <th>campaign</th>\n",
       "      <th>pdays</th>\n",
       "      <th>previous</th>\n",
       "      <th>poutcome</th>\n",
       "      <th>deposit</th>\n",
       "    </tr>\n",
       "  </thead>\n",
       "  <tbody>\n",
       "    <tr>\n",
       "      <th>1181</th>\n",
       "      <td>NaN</td>\n",
       "      <td>management</td>\n",
       "      <td>married</td>\n",
       "      <td>tertiary</td>\n",
       "      <td>no</td>\n",
       "      <td>309</td>\n",
       "      <td>yes</td>\n",
       "      <td>no</td>\n",
       "      <td>cellular</td>\n",
       "      <td>5</td>\n",
       "      <td>feb</td>\n",
       "      <td>676</td>\n",
       "      <td>1</td>\n",
       "      <td>-1</td>\n",
       "      <td>0</td>\n",
       "      <td>unknown</td>\n",
       "      <td>yes</td>\n",
       "    </tr>\n",
       "    <tr>\n",
       "      <th>1410</th>\n",
       "      <td>NaN</td>\n",
       "      <td>blue-collar</td>\n",
       "      <td>married</td>\n",
       "      <td>primary</td>\n",
       "      <td>no</td>\n",
       "      <td>4979</td>\n",
       "      <td>no</td>\n",
       "      <td>no</td>\n",
       "      <td>telephone</td>\n",
       "      <td>6</td>\n",
       "      <td>apr</td>\n",
       "      <td>180</td>\n",
       "      <td>1</td>\n",
       "      <td>-1</td>\n",
       "      <td>0</td>\n",
       "      <td>unknown</td>\n",
       "      <td>yes</td>\n",
       "    </tr>\n",
       "    <tr>\n",
       "      <th>4019</th>\n",
       "      <td>NaN</td>\n",
       "      <td>services</td>\n",
       "      <td>single</td>\n",
       "      <td>secondary</td>\n",
       "      <td>no</td>\n",
       "      <td>1934</td>\n",
       "      <td>no</td>\n",
       "      <td>no</td>\n",
       "      <td>cellular</td>\n",
       "      <td>29</td>\n",
       "      <td>sep</td>\n",
       "      <td>271</td>\n",
       "      <td>1</td>\n",
       "      <td>-1</td>\n",
       "      <td>0</td>\n",
       "      <td>unknown</td>\n",
       "      <td>yes</td>\n",
       "    </tr>\n",
       "    <tr>\n",
       "      <th>5680</th>\n",
       "      <td>NaN</td>\n",
       "      <td>technician</td>\n",
       "      <td>single</td>\n",
       "      <td>tertiary</td>\n",
       "      <td>no</td>\n",
       "      <td>720</td>\n",
       "      <td>no</td>\n",
       "      <td>no</td>\n",
       "      <td>cellular</td>\n",
       "      <td>12</td>\n",
       "      <td>aug</td>\n",
       "      <td>234</td>\n",
       "      <td>4</td>\n",
       "      <td>-1</td>\n",
       "      <td>0</td>\n",
       "      <td>unknown</td>\n",
       "      <td>no</td>\n",
       "    </tr>\n",
       "    <tr>\n",
       "      <th>6763</th>\n",
       "      <td>NaN</td>\n",
       "      <td>technician</td>\n",
       "      <td>single</td>\n",
       "      <td>tertiary</td>\n",
       "      <td>no</td>\n",
       "      <td>686</td>\n",
       "      <td>yes</td>\n",
       "      <td>no</td>\n",
       "      <td>unknown</td>\n",
       "      <td>30</td>\n",
       "      <td>may</td>\n",
       "      <td>98</td>\n",
       "      <td>2</td>\n",
       "      <td>-1</td>\n",
       "      <td>0</td>\n",
       "      <td>unknown</td>\n",
       "      <td>no</td>\n",
       "    </tr>\n",
       "    <tr>\n",
       "      <th>8419</th>\n",
       "      <td>NaN</td>\n",
       "      <td>blue-collar</td>\n",
       "      <td>married</td>\n",
       "      <td>secondary</td>\n",
       "      <td>no</td>\n",
       "      <td>1782</td>\n",
       "      <td>yes</td>\n",
       "      <td>no</td>\n",
       "      <td>unknown</td>\n",
       "      <td>19</td>\n",
       "      <td>jun</td>\n",
       "      <td>549</td>\n",
       "      <td>1</td>\n",
       "      <td>-1</td>\n",
       "      <td>0</td>\n",
       "      <td>unknown</td>\n",
       "      <td>no</td>\n",
       "    </tr>\n",
       "    <tr>\n",
       "      <th>9470</th>\n",
       "      <td>NaN</td>\n",
       "      <td>management</td>\n",
       "      <td>married</td>\n",
       "      <td>tertiary</td>\n",
       "      <td>no</td>\n",
       "      <td>552</td>\n",
       "      <td>no</td>\n",
       "      <td>no</td>\n",
       "      <td>cellular</td>\n",
       "      <td>28</td>\n",
       "      <td>jul</td>\n",
       "      <td>761</td>\n",
       "      <td>8</td>\n",
       "      <td>-1</td>\n",
       "      <td>0</td>\n",
       "      <td>unknown</td>\n",
       "      <td>no</td>\n",
       "    </tr>\n",
       "    <tr>\n",
       "      <th>9552</th>\n",
       "      <td>NaN</td>\n",
       "      <td>admin.</td>\n",
       "      <td>married</td>\n",
       "      <td>secondary</td>\n",
       "      <td>no</td>\n",
       "      <td>1648</td>\n",
       "      <td>yes</td>\n",
       "      <td>no</td>\n",
       "      <td>cellular</td>\n",
       "      <td>19</td>\n",
       "      <td>nov</td>\n",
       "      <td>172</td>\n",
       "      <td>3</td>\n",
       "      <td>-1</td>\n",
       "      <td>0</td>\n",
       "      <td>unknown</td>\n",
       "      <td>no</td>\n",
       "    </tr>\n",
       "    <tr>\n",
       "      <th>9751</th>\n",
       "      <td>NaN</td>\n",
       "      <td>services</td>\n",
       "      <td>married</td>\n",
       "      <td>primary</td>\n",
       "      <td>no</td>\n",
       "      <td>2567</td>\n",
       "      <td>yes</td>\n",
       "      <td>no</td>\n",
       "      <td>cellular</td>\n",
       "      <td>14</td>\n",
       "      <td>may</td>\n",
       "      <td>109</td>\n",
       "      <td>1</td>\n",
       "      <td>360</td>\n",
       "      <td>2</td>\n",
       "      <td>failure</td>\n",
       "      <td>no</td>\n",
       "    </tr>\n",
       "    <tr>\n",
       "      <th>10678</th>\n",
       "      <td>NaN</td>\n",
       "      <td>technician</td>\n",
       "      <td>divorced</td>\n",
       "      <td>tertiary</td>\n",
       "      <td>no</td>\n",
       "      <td>0</td>\n",
       "      <td>yes</td>\n",
       "      <td>no</td>\n",
       "      <td>cellular</td>\n",
       "      <td>2</td>\n",
       "      <td>jun</td>\n",
       "      <td>72</td>\n",
       "      <td>1</td>\n",
       "      <td>-1</td>\n",
       "      <td>0</td>\n",
       "      <td>unknown</td>\n",
       "      <td>no</td>\n",
       "    </tr>\n",
       "  </tbody>\n",
       "</table>\n",
       "</div>"
      ],
      "text/plain": [
       "       age          job   marital  education default  balance housing loan  \\\n",
       "1181   NaN   management   married   tertiary      no      309     yes   no   \n",
       "1410   NaN  blue-collar   married    primary      no     4979      no   no   \n",
       "4019   NaN     services    single  secondary      no     1934      no   no   \n",
       "5680   NaN   technician    single   tertiary      no      720      no   no   \n",
       "6763   NaN   technician    single   tertiary      no      686     yes   no   \n",
       "8419   NaN  blue-collar   married  secondary      no     1782     yes   no   \n",
       "9470   NaN   management   married   tertiary      no      552      no   no   \n",
       "9552   NaN       admin.   married  secondary      no     1648     yes   no   \n",
       "9751   NaN     services   married    primary      no     2567     yes   no   \n",
       "10678  NaN   technician  divorced   tertiary      no        0     yes   no   \n",
       "\n",
       "         contact  day month  duration  campaign  pdays  previous poutcome  \\\n",
       "1181    cellular    5   feb       676         1     -1         0  unknown   \n",
       "1410   telephone    6   apr       180         1     -1         0  unknown   \n",
       "4019    cellular   29   sep       271         1     -1         0  unknown   \n",
       "5680    cellular   12   aug       234         4     -1         0  unknown   \n",
       "6763     unknown   30   may        98         2     -1         0  unknown   \n",
       "8419     unknown   19   jun       549         1     -1         0  unknown   \n",
       "9470    cellular   28   jul       761         8     -1         0  unknown   \n",
       "9552    cellular   19   nov       172         3     -1         0  unknown   \n",
       "9751    cellular   14   may       109         1    360         2  failure   \n",
       "10678   cellular    2   jun        72         1     -1         0  unknown   \n",
       "\n",
       "      deposit  \n",
       "1181      yes  \n",
       "1410      yes  \n",
       "4019      yes  \n",
       "5680       no  \n",
       "6763       no  \n",
       "8419       no  \n",
       "9470       no  \n",
       "9552       no  \n",
       "9751       no  \n",
       "10678      no  "
      ]
     },
     "execution_count": 42,
     "metadata": {},
     "output_type": "execute_result"
    }
   ],
   "source": [
    "# \"age\" null values. \n",
    "null_age = df.loc[df['age'].isnull()]\n",
    "null_age"
   ]
  },
  {
   "cell_type": "markdown",
   "id": "5fd35f20-7f85-4553-9194-8af6a7c3f83b",
   "metadata": {},
   "source": [
    "Como se ve el único registro con un valor diferente de \"unknown\" es 9751. Pueden descartarse los demás."
   ]
  },
  {
   "cell_type": "markdown",
   "id": "688daf18-72e4-4323-b5b0-1d8290df1962",
   "metadata": {},
   "source": [
    "#### 11.2. Diagramas de caja para las características continuas"
   ]
  },
  {
   "cell_type": "code",
   "execution_count": 45,
   "id": "a84e53a6-3444-437b-99d4-655d292ad43a",
   "metadata": {},
   "outputs": [
    {
     "data": {
      "text/plain": [
       "{'whiskers': [<matplotlib.lines.Line2D at 0x7fad7b3bb320>,\n",
       "  <matplotlib.lines.Line2D at 0x7fad7027a7e0>],\n",
       " 'caps': [<matplotlib.lines.Line2D at 0x7fad702e0e60>,\n",
       "  <matplotlib.lines.Line2D at 0x7fad7061db50>],\n",
       " 'boxes': [<matplotlib.lines.Line2D at 0x7fad70212ab0>],\n",
       " 'medians': [<matplotlib.lines.Line2D at 0x7fad7010c290>],\n",
       " 'fliers': [<matplotlib.lines.Line2D at 0x7fad7010c440>],\n",
       " 'means': []}"
      ]
     },
     "execution_count": 45,
     "metadata": {},
     "output_type": "execute_result"
    },
    {
     "data": {
      "image/png": "[encoded data removed]",
      "text/plain": [
       "<Figure size 640x480 with 1 Axes>"
      ]
     },
     "metadata": {},
     "output_type": "display_data"
    }
   ],
   "source": [
    "\n",
    "zs_pdays    = zscore (df['pdays'])\n",
    "\n",
    "plt.title (\"Z-score - pdays\")\n",
    "plt.boxplot (zs_pdays)"
   ]
  },
  {
   "cell_type": "code",
   "execution_count": 46,
   "id": "2ed01818-0a19-46b1-bd8f-ede00d7b8f22",
   "metadata": {},
   "outputs": [
    {
     "data": {
      "text/plain": [
       "{'whiskers': [<matplotlib.lines.Line2D at 0x7fad70146ea0>,\n",
       "  <matplotlib.lines.Line2D at 0x7fad701470b0>],\n",
       " 'caps': [<matplotlib.lines.Line2D at 0x7fad70147380>,\n",
       "  <matplotlib.lines.Line2D at 0x7fad70147650>],\n",
       " 'boxes': [<matplotlib.lines.Line2D at 0x7fad7010fbc0>],\n",
       " 'medians': [<matplotlib.lines.Line2D at 0x7fad701478f0>],\n",
       " 'fliers': [<matplotlib.lines.Line2D at 0x7fad70147c20>],\n",
       " 'means': []}"
      ]
     },
     "execution_count": 46,
     "metadata": {},
     "output_type": "execute_result"
    },
    {
     "data": {
      "image/png": "[encoded data removed]",
      "text/plain": [
       "<Figure size 640x480 with 1 Axes>"
      ]
     },
     "metadata": {},
     "output_type": "display_data"
    }
   ],
   "source": [
    "zs_previous = zscore (df['previous'])\n",
    "plt.title (\"z-score - previous\")\n",
    "plt.boxplot (zs_previous)\n"
   ]
  },
  {
   "cell_type": "code",
   "execution_count": 47,
   "id": "d577bc9a-892b-48f6-8091-153edb2d71fe",
   "metadata": {},
   "outputs": [
    {
     "data": {
      "text/plain": [
       "{'whiskers': [<matplotlib.lines.Line2D at 0x7fad701e1f70>,\n",
       "  <matplotlib.lines.Line2D at 0x7fad701e21b0>],\n",
       " 'caps': [<matplotlib.lines.Line2D at 0x7fad701e2420>,\n",
       "  <matplotlib.lines.Line2D at 0x7fad701e2630>],\n",
       " 'boxes': [<matplotlib.lines.Line2D at 0x7fad701bdac0>],\n",
       " 'medians': [<matplotlib.lines.Line2D at 0x7fad701e2960>],\n",
       " 'fliers': [<matplotlib.lines.Line2D at 0x7fad701e2c90>],\n",
       " 'means': []}"
      ]
     },
     "execution_count": 47,
     "metadata": {},
     "output_type": "execute_result"
    },
    {
     "data": {
      "image/png": "[encoded data removed]",
      "text/plain": [
       "<Figure size 640x480 with 1 Axes>"
      ]
     },
     "metadata": {},
     "output_type": "display_data"
    }
   ],
   "source": [
    "\n",
    "zs_campaign = zscore (df['campaign'])\n",
    "plt.title (\"z-score - campaign\")\n",
    "plt.boxplot (zs_campaign)\n"
   ]
  },
  {
   "cell_type": "code",
   "execution_count": 48,
   "id": "d2ee76c1-f632-4996-a882-f00e6808160a",
   "metadata": {},
   "outputs": [
    {
     "data": {
      "text/plain": [
       "{'whiskers': [<matplotlib.lines.Line2D at 0x7fad5b72bcb0>,\n",
       "  <matplotlib.lines.Line2D at 0x7fad5b72bf20>],\n",
       " 'caps': [<matplotlib.lines.Line2D at 0x7fad5b75c230>,\n",
       "  <matplotlib.lines.Line2D at 0x7fad5b75c500>],\n",
       " 'boxes': [<matplotlib.lines.Line2D at 0x7fad5b72ba10>],\n",
       " 'medians': [<matplotlib.lines.Line2D at 0x7fad5b75c7a0>],\n",
       " 'fliers': [<matplotlib.lines.Line2D at 0x7fad5b75c9e0>],\n",
       " 'means': []}"
      ]
     },
     "execution_count": 48,
     "metadata": {},
     "output_type": "execute_result"
    },
    {
     "data": {
      "image/png": "[encoded data removed]",
      "text/plain": [
       "<Figure size 640x480 with 1 Axes>"
      ]
     },
     "metadata": {},
     "output_type": "display_data"
    }
   ],
   "source": [
    "\n",
    "zs_balance  = zscore (df['balance'])\n",
    "plt.title (\"z-score - balance\")\n",
    "plt.boxplot (zs_balance)"
   ]
  },
  {
   "cell_type": "code",
   "execution_count": null,
   "id": "14f195d1-96f2-4b1e-9150-fe18ce76ad0b",
   "metadata": {},
   "outputs": [],
   "source": []
  }
 ],
 "metadata": {
  "kernelspec": {
   "display_name": "Python 3 (ipykernel)",
   "language": "python",
   "name": "python3"
  },
  "language_info": {
   "codemirror_mode": {
    "name": "ipython",
    "version": 3
   },
   "file_extension": ".py",
   "mimetype": "text/x-python",
   "name": "python",
   "nbconvert_exporter": "python",
   "pygments_lexer": "ipython3",
   "version": "3.12.4"
  }
 },
 "nbformat": 4,
 "nbformat_minor": 5
}
