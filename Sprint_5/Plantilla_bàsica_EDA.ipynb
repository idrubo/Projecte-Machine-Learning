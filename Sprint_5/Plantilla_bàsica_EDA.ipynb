{
 "cells": [
  {
   "cell_type": "markdown",
   "id": "cfe3d208-f562-4a73-812a-15f3f983261a",
   "metadata": {},
   "source": []
  },
  {
   "cell_type": "markdown",
   "id": "ce6b5a2a-223b-422f-b12b-0c25c07a4903",
   "metadata": {},
   "source": [
    "# Análisis exploratorio de datos (EDA)"
   ]
  },
  {
   "cell_type": "markdown",
   "id": "0a860280-54d0-42c0-8d42-865cb02e0012",
   "metadata": {},
   "source": [
    "### 1. Importación de Bibliotecas"
   ]
  },
  {
   "cell_type": "code",
   "execution_count": 4,
   "id": "38cec478-8fdc-4100-98ed-c1227fda2c9a",
   "metadata": {},
   "outputs": [],
   "source": [
    "'''python\n",
    "Análisis exploratorio de datos.\n",
    "'''\n",
    "\n",
    "import pandas as pd\n",
    "import numpy as np\n",
    "import matplotlib.pyplot as plt\n",
    "import seaborn as sns\n",
    "# !pip install sweetviz\n",
    "import sweetviz as sv\n",
    "\n",
    "# Añadimos \"scipy\" para calcular Z-score, yeojhonson y winsorize\n",
    "from scipy.stats import zscore\n",
    "from scipy.stats import yeojohnson\n",
    "from scipy.stats.mstats import winsorize\n",
    "\n",
    "# Para la selección de características\n",
    "from sklearn.preprocessing import LabelEncoder\n",
    "\n",
    "from sklearn.feature_selection import SelectKBest\n",
    "from sklearn.feature_selection import f_classif\n",
    "from sklearn.feature_selection import chi2"
   ]
  },
  {
   "cell_type": "markdown",
   "id": "ac183828-859f-4ea6-802b-c2bb41dff750",
   "metadata": {},
   "source": [
    "### 2. Cargar el dataset"
   ]
  },
  {
   "cell_type": "code",
   "execution_count": 6,
   "id": "76d10100-b271-46eb-9da4-597cbe890ceb",
   "metadata": {},
   "outputs": [],
   "source": [
    "\n",
    "df = pd.read_csv('bank_dataset.csv')\n"
   ]
  },
  {
   "cell_type": "markdown",
   "id": "ab8241b1-c175-494b-a300-18fff5cae962",
   "metadata": {},
   "source": [
    "### 3. Muestra las primeras filas del dataset"
   ]
  },
  {
   "cell_type": "code",
   "execution_count": 8,
   "id": "5a4a8c65-01af-4c57-8735-1f8df1b465ee",
   "metadata": {},
   "outputs": [
    {
     "data": {
      "text/html": [
       "<div>\n",
       "<style scoped>\n",
       "    .dataframe tbody tr th:only-of-type {\n",
       "        vertical-align: middle;\n",
       "    }\n",
       "\n",
       "    .dataframe tbody tr th {\n",
       "        vertical-align: top;\n",
       "    }\n",
       "\n",
       "    .dataframe thead th {\n",
       "        text-align: right;\n",
       "    }\n",
       "</style>\n",
       "<table border=\"1\" class=\"dataframe\">\n",
       "  <thead>\n",
       "    <tr style=\"text-align: right;\">\n",
       "      <th></th>\n",
       "      <th>age</th>\n",
       "      <th>job</th>\n",
       "      <th>marital</th>\n",
       "      <th>education</th>\n",
       "      <th>default</th>\n",
       "      <th>balance</th>\n",
       "      <th>housing</th>\n",
       "      <th>loan</th>\n",
       "      <th>contact</th>\n",
       "      <th>day</th>\n",
       "      <th>month</th>\n",
       "      <th>duration</th>\n",
       "      <th>campaign</th>\n",
       "      <th>pdays</th>\n",
       "      <th>previous</th>\n",
       "      <th>poutcome</th>\n",
       "      <th>deposit</th>\n",
       "    </tr>\n",
       "  </thead>\n",
       "  <tbody>\n",
       "    <tr>\n",
       "      <th>0</th>\n",
       "      <td>59.0</td>\n",
       "      <td>admin.</td>\n",
       "      <td>married</td>\n",
       "      <td>secondary</td>\n",
       "      <td>no</td>\n",
       "      <td>2343</td>\n",
       "      <td>yes</td>\n",
       "      <td>no</td>\n",
       "      <td>unknown</td>\n",
       "      <td>5</td>\n",
       "      <td>may</td>\n",
       "      <td>1042</td>\n",
       "      <td>1</td>\n",
       "      <td>-1</td>\n",
       "      <td>0</td>\n",
       "      <td>unknown</td>\n",
       "      <td>yes</td>\n",
       "    </tr>\n",
       "    <tr>\n",
       "      <th>1</th>\n",
       "      <td>56.0</td>\n",
       "      <td>admin.</td>\n",
       "      <td>married</td>\n",
       "      <td>secondary</td>\n",
       "      <td>no</td>\n",
       "      <td>45</td>\n",
       "      <td>no</td>\n",
       "      <td>no</td>\n",
       "      <td>unknown</td>\n",
       "      <td>5</td>\n",
       "      <td>may</td>\n",
       "      <td>1467</td>\n",
       "      <td>1</td>\n",
       "      <td>-1</td>\n",
       "      <td>0</td>\n",
       "      <td>unknown</td>\n",
       "      <td>yes</td>\n",
       "    </tr>\n",
       "    <tr>\n",
       "      <th>2</th>\n",
       "      <td>41.0</td>\n",
       "      <td>technician</td>\n",
       "      <td>married</td>\n",
       "      <td>secondary</td>\n",
       "      <td>no</td>\n",
       "      <td>1270</td>\n",
       "      <td>yes</td>\n",
       "      <td>no</td>\n",
       "      <td>unknown</td>\n",
       "      <td>5</td>\n",
       "      <td>may</td>\n",
       "      <td>1389</td>\n",
       "      <td>1</td>\n",
       "      <td>-1</td>\n",
       "      <td>0</td>\n",
       "      <td>unknown</td>\n",
       "      <td>yes</td>\n",
       "    </tr>\n",
       "    <tr>\n",
       "      <th>3</th>\n",
       "      <td>55.0</td>\n",
       "      <td>services</td>\n",
       "      <td>married</td>\n",
       "      <td>secondary</td>\n",
       "      <td>no</td>\n",
       "      <td>2476</td>\n",
       "      <td>yes</td>\n",
       "      <td>no</td>\n",
       "      <td>unknown</td>\n",
       "      <td>5</td>\n",
       "      <td>may</td>\n",
       "      <td>579</td>\n",
       "      <td>1</td>\n",
       "      <td>-1</td>\n",
       "      <td>0</td>\n",
       "      <td>unknown</td>\n",
       "      <td>yes</td>\n",
       "    </tr>\n",
       "    <tr>\n",
       "      <th>4</th>\n",
       "      <td>54.0</td>\n",
       "      <td>admin.</td>\n",
       "      <td>married</td>\n",
       "      <td>tertiary</td>\n",
       "      <td>no</td>\n",
       "      <td>184</td>\n",
       "      <td>no</td>\n",
       "      <td>no</td>\n",
       "      <td>unknown</td>\n",
       "      <td>5</td>\n",
       "      <td>may</td>\n",
       "      <td>673</td>\n",
       "      <td>2</td>\n",
       "      <td>-1</td>\n",
       "      <td>0</td>\n",
       "      <td>unknown</td>\n",
       "      <td>yes</td>\n",
       "    </tr>\n",
       "  </tbody>\n",
       "</table>\n",
       "</div>"
      ],
      "text/plain": [
       "    age         job  marital  education default  balance housing loan  \\\n",
       "0  59.0      admin.  married  secondary      no     2343     yes   no   \n",
       "1  56.0      admin.  married  secondary      no       45      no   no   \n",
       "2  41.0  technician  married  secondary      no     1270     yes   no   \n",
       "3  55.0    services  married  secondary      no     2476     yes   no   \n",
       "4  54.0      admin.  married   tertiary      no      184      no   no   \n",
       "\n",
       "   contact  day month  duration  campaign  pdays  previous poutcome deposit  \n",
       "0  unknown    5   may      1042         1     -1         0  unknown     yes  \n",
       "1  unknown    5   may      1467         1     -1         0  unknown     yes  \n",
       "2  unknown    5   may      1389         1     -1         0  unknown     yes  \n",
       "3  unknown    5   may       579         1     -1         0  unknown     yes  \n",
       "4  unknown    5   may       673         2     -1         0  unknown     yes  "
      ]
     },
     "execution_count": 8,
     "metadata": {},
     "output_type": "execute_result"
    }
   ],
   "source": [
    "\n",
    "df.head()\n"
   ]
  },
  {
   "cell_type": "markdown",
   "id": "f82240f2-2964-4080-8e87-a46d00410c78",
   "metadata": {},
   "source": [
    "### 4. Información general del dataset"
   ]
  },
  {
   "cell_type": "markdown",
   "id": "3b414cd6-e540-4ac3-b893-2e61cd9cd736",
   "metadata": {},
   "source": [
    "Como se comprueba fácilmente se cuenta con 11.162 registros de datos. Claramente suficientes.\n",
    "De los campos listados abajo \"job\", \"marital\", \"education\", \"default\", \"housing\", \"loan\", \"contact\", \"month\" y \"poutcame\" (9 en total) son características discretas. \"age\", \"balance\", \"day\", \"duration\", \"campaign\", \"pdays\", \"previous\" (7 en total) son características continuas."
   ]
  },
  {
   "cell_type": "markdown",
   "id": "4574164a-ef91-46fe-a5ec-35f5dae319b0",
   "metadata": {},
   "source": [
    "Nuestro objetivo, nuestra predicción, \"diposit\", es discreta."
   ]
  },
  {
   "cell_type": "code",
   "execution_count": 12,
   "id": "5d49085a-b0e6-4c7e-9b09-4cd129d06f5d",
   "metadata": {},
   "outputs": [
    {
     "name": "stdout",
     "output_type": "stream",
     "text": [
      "<class 'pandas.core.frame.DataFrame'>\n",
      "RangeIndex: 11162 entries, 0 to 11161\n",
      "Data columns (total 17 columns):\n",
      " #   Column     Non-Null Count  Dtype  \n",
      "---  ------     --------------  -----  \n",
      " 0   age        11152 non-null  float64\n",
      " 1   job        11162 non-null  object \n",
      " 2   marital    11157 non-null  object \n",
      " 3   education  11155 non-null  object \n",
      " 4   default    11162 non-null  object \n",
      " 5   balance    11162 non-null  int64  \n",
      " 6   housing    11162 non-null  object \n",
      " 7   loan       11162 non-null  object \n",
      " 8   contact    11162 non-null  object \n",
      " 9   day        11162 non-null  int64  \n",
      " 10  month      11162 non-null  object \n",
      " 11  duration   11162 non-null  int64  \n",
      " 12  campaign   11162 non-null  int64  \n",
      " 13  pdays      11162 non-null  int64  \n",
      " 14  previous   11162 non-null  int64  \n",
      " 15  poutcome   11162 non-null  object \n",
      " 16  deposit    11162 non-null  object \n",
      "dtypes: float64(1), int64(6), object(10)\n",
      "memory usage: 1.4+ MB\n"
     ]
    }
   ],
   "source": [
    "\n",
    "df.info()\n"
   ]
  },
  {
   "cell_type": "markdown",
   "id": "89d99bfa-971d-424c-9ab7-a03d8587031f",
   "metadata": {},
   "source": [
    "Del resumen del dataset las variables de tipo \"float64\" e \"int64\" son continuas. Las de tipo \"object\" son categóricas."
   ]
  },
  {
   "cell_type": "markdown",
   "id": "cd2aa537-4db9-4def-84dc-cf36de64e084",
   "metadata": {},
   "source": [
    "### 5. Descripción estadística del dataset"
   ]
  },
  {
   "cell_type": "code",
   "execution_count": 15,
   "id": "c313b221-3c17-48c7-9f79-ba26938b11ed",
   "metadata": {},
   "outputs": [
    {
     "data": {
      "text/html": [
       "<div>\n",
       "<style scoped>\n",
       "    .dataframe tbody tr th:only-of-type {\n",
       "        vertical-align: middle;\n",
       "    }\n",
       "\n",
       "    .dataframe tbody tr th {\n",
       "        vertical-align: top;\n",
       "    }\n",
       "\n",
       "    .dataframe thead th {\n",
       "        text-align: right;\n",
       "    }\n",
       "</style>\n",
       "<table border=\"1\" class=\"dataframe\">\n",
       "  <thead>\n",
       "    <tr style=\"text-align: right;\">\n",
       "      <th></th>\n",
       "      <th>age</th>\n",
       "      <th>balance</th>\n",
       "      <th>day</th>\n",
       "      <th>duration</th>\n",
       "      <th>campaign</th>\n",
       "      <th>pdays</th>\n",
       "      <th>previous</th>\n",
       "    </tr>\n",
       "  </thead>\n",
       "  <tbody>\n",
       "    <tr>\n",
       "      <th>count</th>\n",
       "      <td>11152.000000</td>\n",
       "      <td>11162.000000</td>\n",
       "      <td>11162.000000</td>\n",
       "      <td>11162.000000</td>\n",
       "      <td>11162.000000</td>\n",
       "      <td>11162.000000</td>\n",
       "      <td>11162.000000</td>\n",
       "    </tr>\n",
       "    <tr>\n",
       "      <th>mean</th>\n",
       "      <td>41.235384</td>\n",
       "      <td>1528.538524</td>\n",
       "      <td>15.658036</td>\n",
       "      <td>371.993818</td>\n",
       "      <td>2.508421</td>\n",
       "      <td>51.330407</td>\n",
       "      <td>0.832557</td>\n",
       "    </tr>\n",
       "    <tr>\n",
       "      <th>std</th>\n",
       "      <td>11.914934</td>\n",
       "      <td>3225.413326</td>\n",
       "      <td>8.420740</td>\n",
       "      <td>347.128386</td>\n",
       "      <td>2.722077</td>\n",
       "      <td>108.758282</td>\n",
       "      <td>2.292007</td>\n",
       "    </tr>\n",
       "    <tr>\n",
       "      <th>min</th>\n",
       "      <td>18.000000</td>\n",
       "      <td>-6847.000000</td>\n",
       "      <td>1.000000</td>\n",
       "      <td>2.000000</td>\n",
       "      <td>1.000000</td>\n",
       "      <td>-1.000000</td>\n",
       "      <td>0.000000</td>\n",
       "    </tr>\n",
       "    <tr>\n",
       "      <th>25%</th>\n",
       "      <td>32.000000</td>\n",
       "      <td>122.000000</td>\n",
       "      <td>8.000000</td>\n",
       "      <td>138.000000</td>\n",
       "      <td>1.000000</td>\n",
       "      <td>-1.000000</td>\n",
       "      <td>0.000000</td>\n",
       "    </tr>\n",
       "    <tr>\n",
       "      <th>50%</th>\n",
       "      <td>39.000000</td>\n",
       "      <td>550.000000</td>\n",
       "      <td>15.000000</td>\n",
       "      <td>255.000000</td>\n",
       "      <td>2.000000</td>\n",
       "      <td>-1.000000</td>\n",
       "      <td>0.000000</td>\n",
       "    </tr>\n",
       "    <tr>\n",
       "      <th>75%</th>\n",
       "      <td>49.000000</td>\n",
       "      <td>1708.000000</td>\n",
       "      <td>22.000000</td>\n",
       "      <td>496.000000</td>\n",
       "      <td>3.000000</td>\n",
       "      <td>20.750000</td>\n",
       "      <td>1.000000</td>\n",
       "    </tr>\n",
       "    <tr>\n",
       "      <th>max</th>\n",
       "      <td>95.000000</td>\n",
       "      <td>81204.000000</td>\n",
       "      <td>31.000000</td>\n",
       "      <td>3881.000000</td>\n",
       "      <td>63.000000</td>\n",
       "      <td>854.000000</td>\n",
       "      <td>58.000000</td>\n",
       "    </tr>\n",
       "  </tbody>\n",
       "</table>\n",
       "</div>"
      ],
      "text/plain": [
       "                age       balance           day      duration      campaign  \\\n",
       "count  11152.000000  11162.000000  11162.000000  11162.000000  11162.000000   \n",
       "mean      41.235384   1528.538524     15.658036    371.993818      2.508421   \n",
       "std       11.914934   3225.413326      8.420740    347.128386      2.722077   \n",
       "min       18.000000  -6847.000000      1.000000      2.000000      1.000000   \n",
       "25%       32.000000    122.000000      8.000000    138.000000      1.000000   \n",
       "50%       39.000000    550.000000     15.000000    255.000000      2.000000   \n",
       "75%       49.000000   1708.000000     22.000000    496.000000      3.000000   \n",
       "max       95.000000  81204.000000     31.000000   3881.000000     63.000000   \n",
       "\n",
       "              pdays      previous  \n",
       "count  11162.000000  11162.000000  \n",
       "mean      51.330407      0.832557  \n",
       "std      108.758282      2.292007  \n",
       "min       -1.000000      0.000000  \n",
       "25%       -1.000000      0.000000  \n",
       "50%       -1.000000      0.000000  \n",
       "75%       20.750000      1.000000  \n",
       "max      854.000000     58.000000  "
      ]
     },
     "execution_count": 15,
     "metadata": {},
     "output_type": "execute_result"
    }
   ],
   "source": [
    "\n",
    "df.describe()\n"
   ]
  },
  {
   "cell_type": "markdown",
   "id": "1b1e9958-9028-4f91-aae6-3c86d818fa5b",
   "metadata": {},
   "source": [
    "### 6. Histograma de cada variable numérica"
   ]
  },
  {
   "cell_type": "markdown",
   "id": "63ba5a34-cc86-4e05-8633-10a751647624",
   "metadata": {},
   "source": [
    "Se comprueba que las características continuas no muestran distribuciones normales."
   ]
  },
  {
   "cell_type": "markdown",
   "id": "87d5b242-d585-4549-ae8e-7a75585bb92b",
   "metadata": {},
   "source": [
    "Empezamos con \"age\", muestra un claro sesgo hacia la derecha y encontramos outliers. Para acondicionarla usaremos un logaritmo para reducir su sesgo y la winsorizaremos."
   ]
  },
  {
   "cell_type": "markdown",
   "id": "a0445d9b-56fd-43ee-a384-5a6d6b860354",
   "metadata": {},
   "source": [
    "\"balance\" también muestra un fuerte sesgo y outliers. Muestra, además, valores negativos, no se podrá pues modificar con logaritmos o raices cuadradas. Utilizaremos la transformación \"Yeo-Johnson\", para winsorizarla luego."
   ]
  },
  {
   "cell_type": "markdown",
   "id": "3873d61f-32fa-44ea-a68e-3f9dbfa7aaea",
   "metadata": {},
   "source": [
    "\"pdays\" también es una distribución con fuerte \"skew\" y outliers. Contiene valores negativos, utilizaremos la transformación \"Yeo-Johnson\". No requerirá winsorización."
   ]
  },
  {
   "cell_type": "markdown",
   "id": "302a482e-2d71-4bb7-ab70-962542d315e5",
   "metadata": {},
   "source": [
    "Por último, \"campaign\" y \"previous\" se tratarán de modo similar, se calculará su logaritmo. Se tratarán los outliers mediante winsorización."
   ]
  },
  {
   "cell_type": "markdown",
   "id": "12bd9b47-1560-405a-85fc-ebb146d31de3",
   "metadata": {},
   "source": [
    "En la sección \"12. anexo\" se muestra cómo mejora el sesgo y los outliers mediante dichas técnicas."
   ]
  },
  {
   "cell_type": "markdown",
   "id": "77fa1f28-6a82-4fa6-9a57-f96186d52187",
   "metadata": {},
   "source": [
    "Finalmente la variable \"day\" está definida como el \"dia de la semana\" en que se realizó el contacto. Pero sus valores van del 1 al 31, no del 1 al 7, como podríamos esperar. Aún aceptando que fueran los días del mes, no disponemos del año en el que se realizó la campaña, luego no podemos imputar dichos valores a un día de la semana. Más aún, esta variable debería ejercer poca influencia en la predicción, como se verá en la sección \"9. Selección de características\"."
   ]
  },
  {
   "cell_type": "code",
   "execution_count": 24,
   "id": "8b3f6c6c-59aa-436d-a1b0-8cd575aff035",
   "metadata": {},
   "outputs": [
    {
     "data": {
      "image/png": "[encoded data removed]",
      "text/plain": [
       "<Figure size 1500x1000 with 9 Axes>"
      ]
     },
     "metadata": {},
     "output_type": "display_data"
    }
   ],
   "source": [
    "df.hist(bins=20, figsize=(15, 10))\n",
    "plt.show()\n"
   ]
  },
  {
   "cell_type": "code",
   "execution_count": 25,
   "id": "25509c22-64d0-4141-8847-a726068fa89c",
   "metadata": {},
   "outputs": [
    {
     "data": {
      "text/html": [
       "<div>\n",
       "<style scoped>\n",
       "    .dataframe tbody tr th:only-of-type {\n",
       "        vertical-align: middle;\n",
       "    }\n",
       "\n",
       "    .dataframe tbody tr th {\n",
       "        vertical-align: top;\n",
       "    }\n",
       "\n",
       "    .dataframe thead th {\n",
       "        text-align: right;\n",
       "    }\n",
       "</style>\n",
       "<table border=\"1\" class=\"dataframe\">\n",
       "  <thead>\n",
       "    <tr style=\"text-align: right;\">\n",
       "      <th></th>\n",
       "      <th>age</th>\n",
       "      <th>balance</th>\n",
       "      <th>day</th>\n",
       "      <th>duration</th>\n",
       "      <th>campaign</th>\n",
       "      <th>pdays</th>\n",
       "      <th>previous</th>\n",
       "    </tr>\n",
       "  </thead>\n",
       "  <tbody>\n",
       "    <tr>\n",
       "      <th>count</th>\n",
       "      <td>11152.000000</td>\n",
       "      <td>11162.000000</td>\n",
       "      <td>11162.000000</td>\n",
       "      <td>11162.000000</td>\n",
       "      <td>11162.000000</td>\n",
       "      <td>11162.000000</td>\n",
       "      <td>11162.000000</td>\n",
       "    </tr>\n",
       "    <tr>\n",
       "      <th>mean</th>\n",
       "      <td>41.235384</td>\n",
       "      <td>1528.538524</td>\n",
       "      <td>15.658036</td>\n",
       "      <td>371.993818</td>\n",
       "      <td>2.508421</td>\n",
       "      <td>51.330407</td>\n",
       "      <td>0.832557</td>\n",
       "    </tr>\n",
       "    <tr>\n",
       "      <th>std</th>\n",
       "      <td>11.914934</td>\n",
       "      <td>3225.413326</td>\n",
       "      <td>8.420740</td>\n",
       "      <td>347.128386</td>\n",
       "      <td>2.722077</td>\n",
       "      <td>108.758282</td>\n",
       "      <td>2.292007</td>\n",
       "    </tr>\n",
       "    <tr>\n",
       "      <th>min</th>\n",
       "      <td>18.000000</td>\n",
       "      <td>-6847.000000</td>\n",
       "      <td>1.000000</td>\n",
       "      <td>2.000000</td>\n",
       "      <td>1.000000</td>\n",
       "      <td>-1.000000</td>\n",
       "      <td>0.000000</td>\n",
       "    </tr>\n",
       "    <tr>\n",
       "      <th>25%</th>\n",
       "      <td>32.000000</td>\n",
       "      <td>122.000000</td>\n",
       "      <td>8.000000</td>\n",
       "      <td>138.000000</td>\n",
       "      <td>1.000000</td>\n",
       "      <td>-1.000000</td>\n",
       "      <td>0.000000</td>\n",
       "    </tr>\n",
       "    <tr>\n",
       "      <th>50%</th>\n",
       "      <td>39.000000</td>\n",
       "      <td>550.000000</td>\n",
       "      <td>15.000000</td>\n",
       "      <td>255.000000</td>\n",
       "      <td>2.000000</td>\n",
       "      <td>-1.000000</td>\n",
       "      <td>0.000000</td>\n",
       "    </tr>\n",
       "    <tr>\n",
       "      <th>75%</th>\n",
       "      <td>49.000000</td>\n",
       "      <td>1708.000000</td>\n",
       "      <td>22.000000</td>\n",
       "      <td>496.000000</td>\n",
       "      <td>3.000000</td>\n",
       "      <td>20.750000</td>\n",
       "      <td>1.000000</td>\n",
       "    </tr>\n",
       "    <tr>\n",
       "      <th>max</th>\n",
       "      <td>95.000000</td>\n",
       "      <td>81204.000000</td>\n",
       "      <td>31.000000</td>\n",
       "      <td>3881.000000</td>\n",
       "      <td>63.000000</td>\n",
       "      <td>854.000000</td>\n",
       "      <td>58.000000</td>\n",
       "    </tr>\n",
       "  </tbody>\n",
       "</table>\n",
       "</div>"
      ],
      "text/plain": [
       "                age       balance           day      duration      campaign  \\\n",
       "count  11152.000000  11162.000000  11162.000000  11162.000000  11162.000000   \n",
       "mean      41.235384   1528.538524     15.658036    371.993818      2.508421   \n",
       "std       11.914934   3225.413326      8.420740    347.128386      2.722077   \n",
       "min       18.000000  -6847.000000      1.000000      2.000000      1.000000   \n",
       "25%       32.000000    122.000000      8.000000    138.000000      1.000000   \n",
       "50%       39.000000    550.000000     15.000000    255.000000      2.000000   \n",
       "75%       49.000000   1708.000000     22.000000    496.000000      3.000000   \n",
       "max       95.000000  81204.000000     31.000000   3881.000000     63.000000   \n",
       "\n",
       "              pdays      previous  \n",
       "count  11162.000000  11162.000000  \n",
       "mean      51.330407      0.832557  \n",
       "std      108.758282      2.292007  \n",
       "min       -1.000000      0.000000  \n",
       "25%       -1.000000      0.000000  \n",
       "50%       -1.000000      0.000000  \n",
       "75%       20.750000      1.000000  \n",
       "max      854.000000     58.000000  "
      ]
     },
     "execution_count": 25,
     "metadata": {},
     "output_type": "execute_result"
    }
   ],
   "source": [
    "df.describe()"
   ]
  },
  {
   "cell_type": "markdown",
   "id": "3218ac36-0756-44b4-ac3f-c779c74fe950",
   "metadata": {},
   "source": [
    "### 7. Contage de los valores de cada variable categórica"
   ]
  },
  {
   "cell_type": "code",
   "execution_count": 27,
   "id": "e1508a41-1fa7-4161-8c13-0f7208c0f37b",
   "metadata": {},
   "outputs": [
    {
     "name": "stdout",
     "output_type": "stream",
     "text": [
      "job\n",
      "management       2566\n",
      "blue-collar      1944\n",
      "technician       1823\n",
      "admin.           1334\n",
      "services          923\n",
      "retired           778\n",
      "self-employed     405\n",
      "student           360\n",
      "unemployed        357\n",
      "entrepreneur      328\n",
      "housemaid         274\n",
      "unknown            70\n",
      "Name: count, dtype: int64\n",
      "marital\n",
      "married     6349\n",
      "single      3517\n",
      "divorced    1291\n",
      "Name: count, dtype: int64\n",
      "education\n",
      "secondary    5474\n",
      "tertiary     3685\n",
      "primary      1500\n",
      "unknown       496\n",
      "Name: count, dtype: int64\n",
      "default\n",
      "no     10994\n",
      "yes      168\n",
      "Name: count, dtype: int64\n",
      "housing\n",
      "no     5881\n",
      "yes    5281\n",
      "Name: count, dtype: int64\n",
      "loan\n",
      "no     9702\n",
      "yes    1460\n",
      "Name: count, dtype: int64\n",
      "contact\n",
      "cellular     8042\n",
      "unknown      2346\n",
      "telephone     774\n",
      "Name: count, dtype: int64\n",
      "month\n",
      "may    2824\n",
      "aug    1519\n",
      "jul    1514\n",
      "jun    1222\n",
      "nov     943\n",
      "apr     923\n",
      "feb     776\n",
      "oct     392\n",
      "jan     344\n",
      "sep     319\n",
      "mar     276\n",
      "dec     110\n",
      "Name: count, dtype: int64\n",
      "poutcome\n",
      "unknown    8326\n",
      "failure    1228\n",
      "success    1071\n",
      "other       537\n",
      "Name: count, dtype: int64\n",
      "deposit\n",
      "no     5873\n",
      "yes    5289\n",
      "Name: count, dtype: int64\n"
     ]
    }
   ],
   "source": [
    "df = pd.read_csv('bank_dataset.csv')\n",
    "\n",
    "for column in df.select_dtypes(include=['object']).columns:\n",
    "    print(df[column].value_counts())\n"
   ]
  },
  {
   "cell_type": "markdown",
   "id": "e19d1d8f-0d90-454b-a081-c2c6a6852d8d",
   "metadata": {},
   "source": [
    "### 8. Contar valores nulos por columna"
   ]
  },
  {
   "cell_type": "markdown",
   "id": "967377c0-e5d3-4289-bf4c-d547e787bc87",
   "metadata": {},
   "source": [
    "El número de valores nulos se reduce a 10 en \"age\", 5 en \"marital\" y 7 en \"education\", como se ve en la tabla de abajo."
   ]
  },
  {
   "cell_type": "markdown",
   "id": "19f40858-3c78-4e84-be9b-6e9f3a1d2b0b",
   "metadata": {},
   "source": [
    "\"age\" es un valor continuo y los valores nulos se rellenarán con su media."
   ]
  },
  {
   "cell_type": "markdown",
   "id": "f4e1f7fb-a614-4dce-b32f-f92cd58bc05a",
   "metadata": {},
   "source": [
    "\"marital\" y \"education\" son valores categóricos y se rellenarán con su moda."
   ]
  },
  {
   "cell_type": "code",
   "execution_count": 32,
   "id": "ef89cade-c47f-4040-bb33-2c6d14af34fc",
   "metadata": {},
   "outputs": [
    {
     "data": {
      "text/plain": [
       "age          10\n",
       "job           0\n",
       "marital       5\n",
       "education     7\n",
       "default       0\n",
       "balance       0\n",
       "housing       0\n",
       "loan          0\n",
       "contact       0\n",
       "day           0\n",
       "month         0\n",
       "duration      0\n",
       "campaign      0\n",
       "pdays         0\n",
       "previous      0\n",
       "poutcome      0\n",
       "deposit       0\n",
       "dtype: int64"
      ]
     },
     "execution_count": 32,
     "metadata": {},
     "output_type": "execute_result"
    }
   ],
   "source": [
    "\n",
    "df.isnull().sum()\n"
   ]
  },
  {
   "cell_type": "markdown",
   "id": "c516805c-c6c8-478c-b863-3318ef62455a",
   "metadata": {},
   "source": [
    "### 9. Selección de características"
   ]
  },
  {
   "cell_type": "markdown",
   "id": "bfb8dd3e-5770-4d5f-96c5-80fb0f69fc11",
   "metadata": {},
   "source": [
    "#### 9.1 Matriz de correlación"
   ]
  },
  {
   "cell_type": "markdown",
   "id": "c0188f35-8fb8-4bbb-afda-f4f295c13383",
   "metadata": {},
   "source": [
    "Como se ve en la matriz de correlación, abajo,  \"pdays\" y \"previous\" podrían no ser independientes. Se podría eliminar una de ellas mediante PCA."
   ]
  },
  {
   "cell_type": "code",
   "execution_count": 36,
   "id": "23d84e94-5e8e-4c01-b5fd-778ed0d02606",
   "metadata": {},
   "outputs": [],
   "source": [
    "df = pd.read_csv('bank_dataset.csv')\n",
    "\n",
    "# Dado que tenemos distribuciones fuertemente sesgadas, las transformamos para reducir\n",
    "# el sesgo y los outliers\n",
    "df['Log_age'] = np.log(df['age'])\n",
    "df['Log_age'] = winsorize (df ['Log_age'], limits = [0.0, 0.005], inplace = True)\n",
    "\n",
    "df['yj_balance'], _ = yeojohnson(df['balance'])\n",
    "df['yj_balance'] = winsorize (df ['yj_balance'], limits = [0.05, 0.08], inplace = True)\n",
    "\n",
    "df['Log_campaign'] = np.log(df['campaign'])\n",
    "df['Log_campaign'] = winsorize (df ['Log_campaign'], limits = [0.00, 0.025], inplace = True)\n",
    "\n",
    "# \"pdays\" no requiere winsorización.\n",
    "df['yj_pdays'], _ = yeojohnson(df['pdays'])\n",
    "\n",
    "df['sqrt_previous'] = np.sqrt(df['previous'])\n",
    "df['sqrt_previous'] = winsorize (df ['sqrt_previous'], limits = [0.0, 0.05], inplace = True)\n",
    "\n",
    "# Tomamos las características continuas\n",
    "dfc = df.loc [:, ['Log_age', 'yj_balance', 'day', 'duration', 'Log_campaign', 'yj_pdays', 'sqrt_previous']]\n"
   ]
  },
  {
   "cell_type": "code",
   "execution_count": 37,
   "id": "07360b5f-f52d-4979-a10b-192fac53af45",
   "metadata": {},
   "outputs": [
    {
     "data": {
      "image/png": "[encoded data removed]",
      "text/plain": [
       "<Figure size 640x480 with 2 Axes>"
      ]
     },
     "metadata": {},
     "output_type": "display_data"
    }
   ],
   "source": [
    "# Creamos la matriz de correlación\n",
    "corrM = dfc.corr ()\n",
    "\n",
    "ax = sns.heatmap(corrM.corr(), annot = True)"
   ]
  },
  {
   "cell_type": "markdown",
   "id": "6e053984-82c8-47e3-bf50-03241caaa8ac",
   "metadata": {},
   "source": [
    "#### 9.2 Selección de variables continuas"
   ]
  },
  {
   "cell_type": "markdown",
   "id": "50020ef3-d584-4dc2-8a5d-48099bef02b1",
   "metadata": {},
   "source": [
    "Empezamos el análisis de selección de variables. Calcularemos un \"score\" para las variables continuas mediante ANOVA. Examinaremos también si los valores \"unknown\" de \"poutcome\" pueden recodificarse de modo razonable."
   ]
  },
  {
   "cell_type": "markdown",
   "id": "98473ed8-f715-4938-9cdb-2cacf682847f",
   "metadata": {},
   "source": [
    "Empezamos por las variables continuas."
   ]
  },
  {
   "cell_type": "code",
   "execution_count": 41,
   "id": "13ea2e5b-31ce-40e2-a999-b53fbd60d872",
   "metadata": {},
   "outputs": [
    {
     "name": "stdout",
     "output_type": "stream",
     "text": [
      "Series([], Name: marital, dtype: object)\n",
      "Series([], Name: marital, dtype: object)\n",
      "2943    NaN\n",
      "4737    NaN\n",
      "9406    NaN\n",
      "Name: education, dtype: object\n",
      "Series([], Name: education, dtype: object)\n",
      "For continuus variables:\n",
      "Feature 0: 30.534276\n",
      "Feature 1: 4.890623\n",
      "Feature 2: 0.063737\n",
      "Feature 3: 0.098597\n",
      "Feature 4: 23.772292\n",
      "Feature 5: 236.226370\n",
      "Feature 6: 3.198501\n"
     ]
    },
    {
     "data": {
      "image/png": "[encoded data removed]",
      "text/plain": [
       "<Figure size 640x480 with 1 Axes>"
      ]
     },
     "metadata": {},
     "output_type": "display_data"
    }
   ],
   "source": [
    "df = pd.read_csv('bank_dataset.csv')\n",
    "\n",
    "# Valores a filtrar\n",
    "pout_v = ['other', 'failure', 'success']\n",
    "\n",
    "# Debemos obtener solamente las filas cuya \"poutcome\" sea \"other\", \"failure\" o \"success\"\n",
    "# Las filas con el valor \"unknown\" son filtradas para calcular el \"score\" ANOVA.\n",
    "df = df.loc [df ['poutcome'].isin (pout_v)]\n",
    "\n",
    "# En la propia columna \"poutcome\", \"other\" será sustituido por \"failure\"\n",
    "df.loc [df['poutcome'] == 'other', 'poutcome'] = 'failure'\n",
    "\n",
    "# Eliminamos los valores nulos\n",
    "age_mean = df ['age'].mean ()\n",
    "df.loc [df ['age'].isnull(), 'age'] = age_mean\n",
    "\n",
    "marital_mode = df ['marital'].mode ()\n",
    "df = df.fillna ({'marital': marital_mode [0]})\n",
    "\n",
    "education_mode = df ['education'].mode ()\n",
    "df = df.fillna ({'education': education_mode [0]})\n",
    "\n",
    "# Seleccionamos primero las variables continuas.\n",
    "df_X = df.loc [:, ['age', 'balance', 'day', 'duration', 'campaign', 'pdays', 'previous']]\n",
    "df_Y = df.loc [:, ['poutcome']]\n",
    "\n",
    "# Asignamos un valor entero 'poutcome'.\n",
    "le = LabelEncoder ()\n",
    "for col in df_Y.select_dtypes(include='category').columns:\n",
    "   df_Y [col] = le.fit_transform (df_Y [col])\n",
    "\n",
    "# La función \"SelectKBest\" acepta arrays de numpy.\n",
    "np_X = df_X.values\n",
    "np_Y = df_Y.values\n",
    "np_Y = np.ravel(np_Y, order='C')\n",
    "\n",
    "# Aplicamos el test ANOVA.\n",
    "fs = SelectKBest (score_func=f_classif, k = 'all')\n",
    "fs.fit (np_X, np_Y)\n",
    "np_X = fs.transform (np_X)\n",
    "\n",
    "# Imprimimos el \"score\"\n",
    "print (\"For continuus variables:\")\n",
    "for i in range (len (fs.scores_)):\n",
    "   print ('Feature %d: %f' % (i, fs.scores_[i]))\n",
    "\n",
    "# Mostramos un histograma con el \"score\".\n",
    "plt.bar([i for i in range(len(fs.scores_))], fs.scores_)\n",
    "plt.show()"
   ]
  },
  {
   "cell_type": "markdown",
   "id": "35f6fc89-08a7-4c72-bcc7-88e2153aff91",
   "metadata": {},
   "source": [
    "Como se ve las características más relevantes son \"pdays\", \"age\", \"balance\" y \"campaign\"."
   ]
  },
  {
   "cell_type": "markdown",
   "id": "46b54380-f1dd-46d3-b987-b0e9d53bfc87",
   "metadata": {},
   "source": [
    "Como se ve \"pdays\" muestra una fuerte correlación con \"poutcome\". En menor media también \"age\". Se intentará rellenar dicho campo y comprobar su efecto en la estimación del modelo. Se puede utilizar \"KNN imputation\" o bien \"Iterative imputation\"."
   ]
  },
  {
   "cell_type": "markdown",
   "id": "0f783650-0ec2-471e-bacd-47ee5e3dfbad",
   "metadata": {},
   "source": [
    "#### 9.3 Selección de variables categóricas"
   ]
  },
  {
   "cell_type": "markdown",
   "id": "a0cfc80b-a3c4-4006-a23c-9bf7c2e61127",
   "metadata": {},
   "source": [
    "Calcularemos un \"score\" para las variables continuas mediante el test \"chi quadrado\". Examinaremos también si los valores \"unknown\" de \"poutcome\" pueden recodificarse de modo razonable."
   ]
  },
  {
   "cell_type": "code",
   "execution_count": 46,
   "id": "5e18751a-04ef-437b-9d0e-ba6d498fed82",
   "metadata": {},
   "outputs": [
    {
     "name": "stdout",
     "output_type": "stream",
     "text": [
      "For categorical variables:\n",
      "Feature 0: 34.979057\n",
      "Feature 1: 0.000473\n",
      "Feature 2: 7.689583\n",
      "Feature 3: 6.674788\n",
      "Feature 4: 134.672596\n",
      "Feature 5: 42.300014\n",
      "Feature 6: 0.191866\n",
      "Feature 7: 0.000010\n"
     ]
    },
    {
     "data": {
      "image/png": "[encoded data removed]",
      "text/plain": [
       "<Figure size 640x480 with 1 Axes>"
      ]
     },
     "metadata": {},
     "output_type": "display_data"
    }
   ],
   "source": [
    "# Despés seleccionamos las variables categóricas.\n",
    "\n",
    "# Convertimos las variables categóricas al tipo correcto.\n",
    "convert_dict = {'job':      'category',\n",
    "               'marital':   'category',\n",
    "               'education': 'category',\n",
    "               'default':   'category',\n",
    "               'housing':   'category',\n",
    "               'loan':      'category',\n",
    "               'contact':   'category',\n",
    "               'month':     'category',\n",
    "               'poutcome':  'category'\n",
    "               }\n",
    "\n",
    "df = df.astype (convert_dict)\n",
    "\n",
    "df_X = df.loc [:, ['job', 'marital', 'education', 'default', 'housing', 'loan', 'contact', 'month']]\n",
    "df_Y = df.loc [:, ['poutcome']]\n",
    "\n",
    "# Asignamos valores enteros a las características y a la salida.\n",
    "le = LabelEncoder ()\n",
    "for col in df_X.select_dtypes(include='category').columns:\n",
    "   df_X [col] = le.fit_transform (df_X [col])\n",
    "\n",
    "for col in df_Y.select_dtypes(include='category').columns:\n",
    "   df_Y [col] = le.fit_transform (df_Y [col])\n",
    "\n",
    "# La función \"SelectKBest\" acepta arrays de numpy.\n",
    "np_X = df_X.values\n",
    "np_Y = df_Y.values\n",
    "np_Y = np.ravel(np_Y, order='C')\n",
    "\n",
    "# Aplicamos el test chi cuadrado.\n",
    "fs = SelectKBest (score_func = chi2, k = 'all')\n",
    "fs.fit(np_X, np_Y)\n",
    "np_X = fs.transform (np_X)\n",
    "\n",
    "print; print (\"For categorical variables:\")\n",
    "for i in range (len (fs.scores_)):\n",
    "   print ('Feature %d: %f' % (i, fs.scores_[i]))\n",
    "\n",
    "# Mostramos un histograma con el \"score\".\n",
    "plt.bar([i for i in range(len(fs.scores_))], fs.scores_)\n",
    "plt.show()"
   ]
  },
  {
   "cell_type": "markdown",
   "id": "d361d043-e899-461b-adb2-156e345cc75c",
   "metadata": {},
   "source": [
    "Las características más relevantes son \"housing\", \"loan\" y \"job\". Algo menos relevantes son \"education\" y \"default\"."
   ]
  },
  {
   "cell_type": "markdown",
   "id": "b9f6dc10-dda7-4c1e-ba00-4272bbf43891",
   "metadata": {},
   "source": [
    "Como se ve \"housing\" y, en menor medida \"loan\" y \"job\", muestran una fuerte correlación con \"poutcome\". Ello permitiría recodificar el campo \"poutcome\". Se intentará rellenar dicho campo y comprobar su efecto en la estimación del modelo. Se puede utilizar \"KNN imputation\" o bien \"Iterative imputation\"."
   ]
  },
  {
   "cell_type": "markdown",
   "id": "472a18b1-18f0-4014-9444-653637eaa555",
   "metadata": {},
   "source": [
    "### 10. EDA automático con \"Sweetviz\""
   ]
  },
  {
   "cell_type": "code",
   "execution_count": 50,
   "id": "ccf69353-3f63-4803-add6-ff762d346839",
   "metadata": {},
   "outputs": [
    {
     "data": {
      "application/vnd.jupyter.widget-view+json": {
       "model_id": "629ae4b0f7124b9399aa9bb238d731a8",
       "version_major": 2,
       "version_minor": 0
      },
      "text/plain": [
       "                                             |          | [  0%]   00:00 -> (? left)"
      ]
     },
     "metadata": {},
     "output_type": "display_data"
    },
    {
     "name": "stdout",
     "output_type": "stream",
     "text": [
      "Report EDA_report.html was generated! NOTEBOOK/COLAB USERS: the web browser MAY not pop up, regardless, the report IS saved in your notebook/colab files.\n"
     ]
    }
   ],
   "source": [
    "report = sv.analyze(df)\n",
    "report.show_html('EDA_report.html')"
   ]
  },
  {
   "cell_type": "markdown",
   "id": "666eca68-f53e-40c2-8896-824831c47610",
   "metadata": {},
   "source": [
    "Si ponemos atención al histograma \"poutcome\" vemos que el número de \"failure\" está muy próximo al número de \"success\", luego habrá poco desequilibrio de clases. Nótese que hay valores de \"poutcome\" marcados como \"other\", se considerarán como \"failure\". "
   ]
  },
  {
   "cell_type": "markdown",
   "id": "86d24dca-0297-43da-a686-37acb6e1f901",
   "metadata": {},
   "source": [
    "### 11. Conclusiones"
   ]
  },
  {
   "cell_type": "markdown",
   "id": "d3d0380d-53e1-4c20-a6b8-07e5f342383c",
   "metadata": {},
   "source": [
    "Podemos resumir la exploración de datos en los siguientes puntos:\n",
    "\n",
    "1. Las distribuciones de los valores continuos son no normales, se requerirá transformar los datos.\n",
    "2. Las distribuciones están fuertemente sesgadas, se requerirá la reducción de outliers.\n",
    "3. Habrá poco desequilibrio de clases en \"poutcome\".\n",
    "4. Hay pocos valores nulos y pueden rellenarse con la media o la moda, según el caso.\n",
    "5. Las características continuas más relevantes son: \"pdays\", \"age\", \"balance\" y \"campaign\".\n",
    "6. Las características categóricas más relevantes son: \"housing\", \"loan\" y \"job\", seguidas de \"education\" y \"default\".\n",
    "7. Las 9 anteriores serán las características escogidas en nuestro modelo.\n",
    "8. El campo \"duration\", no puede utilizarse puesto que no se dispondrá de dicho dato en el momento de hacer la predicción.\n",
    "9. El campo \"days\" muestra valores incorrectos, el día del mes en lugar del día de la semana."
   ]
  },
  {
   "cell_type": "markdown",
   "id": "1a586ace-7940-4361-a998-388df2c9b7d3",
   "metadata": {},
   "source": [
    "### 12. Anexo"
   ]
  },
  {
   "cell_type": "markdown",
   "id": "688daf18-72e4-4323-b5b0-1d8290df1962",
   "metadata": {},
   "source": [
    "#### 12.1. Diagramas de caja para las características continuas"
   ]
  },
  {
   "cell_type": "code",
   "execution_count": 56,
   "id": "655dc6d3-b7f2-4512-ad74-caa8dc82dcb0",
   "metadata": {},
   "outputs": [
    {
     "name": "stdout",
     "output_type": "stream",
     "text": [
      "balance skew:  8.224619112755489\n",
      "yj balance skew:  1.0168190344052035\n"
     ]
    },
    {
     "data": {
      "text/plain": [
       "{'whiskers': [<matplotlib.lines.Line2D at 0x7efc15f44bf0>,\n",
       "  <matplotlib.lines.Line2D at 0x7efc15f0d400>],\n",
       " 'caps': [<matplotlib.lines.Line2D at 0x7efc15f22ed0>,\n",
       "  <matplotlib.lines.Line2D at 0x7efc15f23260>],\n",
       " 'boxes': [<matplotlib.lines.Line2D at 0x7efc15f443b0>],\n",
       " 'medians': [<matplotlib.lines.Line2D at 0x7efc15f220f0>],\n",
       " 'fliers': [<matplotlib.lines.Line2D at 0x7efc15f22d80>],\n",
       " 'means': []}"
      ]
     },
     "execution_count": 56,
     "metadata": {},
     "output_type": "execute_result"
    },
    {
     "data": {
      "image/png": "[encoded data removed]",
      "text/plain": [
       "<Figure size 640x480 with 1 Axes>"
      ]
     },
     "metadata": {},
     "output_type": "display_data"
    }
   ],
   "source": [
    "df = pd.read_csv('bank_dataset.csv')\n",
    "\n",
    "df['yj_balance'], _ = yeojohnson(df['balance'])\n",
    "\n",
    "print (\"balance skew: \", df['balance'].skew ())\n",
    "print (\"yj balance skew: \", df['yj_balance'].skew ())\n",
    "\n",
    "df['yj_balance'] = winsorize (df ['yj_balance'], limits = [0.05, 0.08], inplace = True)\n",
    "\n",
    "plt.title (\"balance\")\n",
    "plt.boxplot (df ['balance'])"
   ]
  },
  {
   "cell_type": "code",
   "execution_count": 57,
   "id": "67967f5f-841c-42dc-b6a0-b4ddb338b7b2",
   "metadata": {},
   "outputs": [
    {
     "data": {
      "text/plain": [
       "{'whiskers': [<matplotlib.lines.Line2D at 0x7efc15e01460>,\n",
       "  <matplotlib.lines.Line2D at 0x7efc15e01700>],\n",
       " 'caps': [<matplotlib.lines.Line2D at 0x7efc15e019a0>,\n",
       "  <matplotlib.lines.Line2D at 0x7efc15e01ca0>],\n",
       " 'boxes': [<matplotlib.lines.Line2D at 0x7efc15fefbc0>],\n",
       " 'medians': [<matplotlib.lines.Line2D at 0x7efc15e01f10>],\n",
       " 'fliers': [<matplotlib.lines.Line2D at 0x7efc15e021e0>],\n",
       " 'means': []}"
      ]
     },
     "execution_count": 57,
     "metadata": {},
     "output_type": "execute_result"
    },
    {
     "data": {
      "image/png": "[encoded data removed]",
      "text/plain": [
       "<Figure size 640x480 with 1 Axes>"
      ]
     },
     "metadata": {},
     "output_type": "display_data"
    }
   ],
   "source": [
    "plt.title (\"yj_balance\")\n",
    "plt.boxplot (df ['yj_balance'])"
   ]
  },
  {
   "cell_type": "code",
   "execution_count": 58,
   "id": "d577bc9a-892b-48f6-8091-153edb2d71fe",
   "metadata": {},
   "outputs": [
    {
     "name": "stdout",
     "output_type": "stream",
     "text": [
      "campaign skew:  5.545578439825207\n",
      "log campaign skew:  0.9436066169900181\n"
     ]
    },
    {
     "data": {
      "text/plain": [
       "{'whiskers': [<matplotlib.lines.Line2D at 0x7efc15e8d730>,\n",
       "  <matplotlib.lines.Line2D at 0x7efc15e8da30>],\n",
       " 'caps': [<matplotlib.lines.Line2D at 0x7efc15e8dd30>,\n",
       "  <matplotlib.lines.Line2D at 0x7efc15e8e060>],\n",
       " 'boxes': [<matplotlib.lines.Line2D at 0x7efc15e8d520>],\n",
       " 'medians': [<matplotlib.lines.Line2D at 0x7efc15e8e300>],\n",
       " 'fliers': [<matplotlib.lines.Line2D at 0x7efc15e8e5d0>],\n",
       " 'means': []}"
      ]
     },
     "execution_count": 58,
     "metadata": {},
     "output_type": "execute_result"
    },
    {
     "data": {
      "image/png": "[encoded data removed]",
      "text/plain": [
       "<Figure size 640x480 with 1 Axes>"
      ]
     },
     "metadata": {},
     "output_type": "display_data"
    }
   ],
   "source": [
    "df['Log_campaign'] = np.log(df['campaign'])\n",
    "print (\"campaign skew: \", df['campaign'].skew ())\n",
    "print (\"log campaign skew: \", df['Log_campaign'].skew ())\n",
    "\n",
    "df['Log_campaign'] = winsorize (df ['Log_campaign'], limits = [0.00, 0.025], inplace = True)\n",
    "\n",
    "plt.title (\"campaign\")\n",
    "plt.boxplot (df ['campaign'])"
   ]
  },
  {
   "cell_type": "code",
   "execution_count": 59,
   "id": "2b9c5cab-0d35-413e-a12f-2c09cfc59b24",
   "metadata": {},
   "outputs": [
    {
     "data": {
      "text/plain": [
       "{'whiskers': [<matplotlib.lines.Line2D at 0x7efc15d00b60>,\n",
       "  <matplotlib.lines.Line2D at 0x7efc15d00e60>],\n",
       " 'caps': [<matplotlib.lines.Line2D at 0x7efc15d01190>,\n",
       "  <matplotlib.lines.Line2D at 0x7efc15d01460>],\n",
       " 'boxes': [<matplotlib.lines.Line2D at 0x7efc15d008f0>],\n",
       " 'medians': [<matplotlib.lines.Line2D at 0x7efc15d01730>],\n",
       " 'fliers': [<matplotlib.lines.Line2D at 0x7efc15d01a60>],\n",
       " 'means': []}"
      ]
     },
     "execution_count": 59,
     "metadata": {},
     "output_type": "execute_result"
    },
    {
     "data": {
      "image/png": "[encoded data removed]",
      "text/plain": [
       "<Figure size 640x480 with 1 Axes>"
      ]
     },
     "metadata": {},
     "output_type": "display_data"
    }
   ],
   "source": [
    "plt.title (\"log campaign\")\n",
    "plt.boxplot (df ['Log_campaign'])"
   ]
  },
  {
   "cell_type": "code",
   "execution_count": 60,
   "id": "dab2a1c7-d1e6-4d10-a347-b1f3cf24c88b",
   "metadata": {},
   "outputs": [
    {
     "name": "stdout",
     "output_type": "stream",
     "text": [
      "age skew:  0.863213797053784\n",
      "log age skew:  0.20472261174053671\n"
     ]
    },
    {
     "data": {
      "text/plain": [
       "{'whiskers': [<matplotlib.lines.Line2D at 0x7efc15d523c0>,\n",
       "  <matplotlib.lines.Line2D at 0x7efc15d52660>],\n",
       " 'caps': [<matplotlib.lines.Line2D at 0x7efc15d52900>,\n",
       "  <matplotlib.lines.Line2D at 0x7efc15d52c00>],\n",
       " 'boxes': [<matplotlib.lines.Line2D at 0x7efc15d520f0>],\n",
       " 'medians': [<matplotlib.lines.Line2D at 0x7efc15d52ed0>],\n",
       " 'fliers': [<matplotlib.lines.Line2D at 0x7efc15d53200>],\n",
       " 'means': []}"
      ]
     },
     "execution_count": 60,
     "metadata": {},
     "output_type": "execute_result"
    },
    {
     "data": {
      "image/png": "[encoded data removed]",
      "text/plain": [
       "<Figure size 640x480 with 1 Axes>"
      ]
     },
     "metadata": {},
     "output_type": "display_data"
    }
   ],
   "source": [
    "# \"age\" mean. \n",
    "age_mean = df ['age'].mean ()\n",
    "\n",
    "# Eliminamos los valores nulos\n",
    "df.loc [df ['age'].isnull(), 'age'] = age_mean\n",
    "\n",
    "df['Log_age'] = np.log(df['age'])\n",
    "\n",
    "print (\"age skew: \", df['age'].skew ())\n",
    "print (\"log age skew: \", df['Log_age'].skew ())\n",
    "\n",
    "df['Log_age'] = winsorize (df ['Log_age'], limits = [0.0, 0.005], inplace = True)\n",
    "\n",
    "plt.title (\"age\")\n",
    "plt.boxplot (df ['age'])"
   ]
  },
  {
   "cell_type": "code",
   "execution_count": 61,
   "id": "a84e53a6-3444-437b-99d4-655d292ad43a",
   "metadata": {},
   "outputs": [
    {
     "data": {
      "text/plain": [
       "{'whiskers': [<matplotlib.lines.Line2D at 0x7efc15dc4320>,\n",
       "  <matplotlib.lines.Line2D at 0x7efc15dc5bb0>],\n",
       " 'caps': [<matplotlib.lines.Line2D at 0x7efc15dc5e50>,\n",
       "  <matplotlib.lines.Line2D at 0x7efc15dc6120>],\n",
       " 'boxes': [<matplotlib.lines.Line2D at 0x7efc15dc5730>],\n",
       " 'medians': [<matplotlib.lines.Line2D at 0x7efc15dc6420>],\n",
       " 'fliers': [<matplotlib.lines.Line2D at 0x7efc15dc66c0>],\n",
       " 'means': []}"
      ]
     },
     "execution_count": 61,
     "metadata": {},
     "output_type": "execute_result"
    },
    {
     "data": {
      "image/png": "[encoded data removed]",
      "text/plain": [
       "<Figure size 640x480 with 1 Axes>"
      ]
     },
     "metadata": {},
     "output_type": "display_data"
    }
   ],
   "source": [
    "df['Log_age'] = winsorize (df ['Log_age'], limits = [0.0, 0.005], inplace = True)\n",
    "\n",
    "plt.title (\"log age\")\n",
    "plt.boxplot (df ['Log_age'])"
   ]
  },
  {
   "cell_type": "code",
   "execution_count": 62,
   "id": "b7a26cfb-e670-41e1-8560-31c9ef3c1b40",
   "metadata": {},
   "outputs": [
    {
     "name": "stdout",
     "output_type": "stream",
     "text": [
      "pdays skew:  2.4499856341959547\n",
      "yj pdays skew:  1.1346511938613846\n"
     ]
    },
    {
     "data": {
      "text/plain": [
       "{'whiskers': [<matplotlib.lines.Line2D at 0x7efc15c31760>,\n",
       "  <matplotlib.lines.Line2D at 0x7efc15c31a30>],\n",
       " 'caps': [<matplotlib.lines.Line2D at 0x7efc15c31d00>,\n",
       "  <matplotlib.lines.Line2D at 0x7efc15c31fd0>],\n",
       " 'boxes': [<matplotlib.lines.Line2D at 0x7efc15c31520>],\n",
       " 'medians': [<matplotlib.lines.Line2D at 0x7efc15c322d0>],\n",
       " 'fliers': [<matplotlib.lines.Line2D at 0x7efc15c32570>],\n",
       " 'means': []}"
      ]
     },
     "execution_count": 62,
     "metadata": {},
     "output_type": "execute_result"
    },
    {
     "data": {
      "image/png": "[encoded data removed]",
      "text/plain": [
       "<Figure size 640x480 with 1 Axes>"
      ]
     },
     "metadata": {},
     "output_type": "display_data"
    }
   ],
   "source": [
    "df['yj_pdays'], _ = yeojohnson(df['pdays'])\n",
    "\n",
    "print (\"pdays skew: \", df['pdays'].skew ())\n",
    "print (\"yj pdays skew: \", df['yj_pdays'].skew ())\n",
    "\n",
    "plt.title (\"pdays\")\n",
    "plt.boxplot (df ['pdays'])\n"
   ]
  },
  {
   "cell_type": "code",
   "execution_count": 63,
   "id": "125f978c-5393-4fd2-b171-e19ac2dcdaf5",
   "metadata": {},
   "outputs": [
    {
     "data": {
      "text/plain": [
       "{'whiskers': [<matplotlib.lines.Line2D at 0x7efc15c76990>,\n",
       "  <matplotlib.lines.Line2D at 0x7efc15c76c90>],\n",
       " 'caps': [<matplotlib.lines.Line2D at 0x7efc15c76f30>,\n",
       "  <matplotlib.lines.Line2D at 0x7efc15c77200>],\n",
       " 'boxes': [<matplotlib.lines.Line2D at 0x7efc15c766c0>],\n",
       " 'medians': [<matplotlib.lines.Line2D at 0x7efc15c774d0>],\n",
       " 'fliers': [<matplotlib.lines.Line2D at 0x7efc15c77740>],\n",
       " 'means': []}"
      ]
     },
     "execution_count": 63,
     "metadata": {},
     "output_type": "execute_result"
    },
    {
     "data": {
      "image/png": "[encoded data removed]",
      "text/plain": [
       "<Figure size 640x480 with 1 Axes>"
      ]
     },
     "metadata": {},
     "output_type": "display_data"
    }
   ],
   "source": [
    "plt.title (\"yj pdays\")\n",
    "plt.boxplot (df ['yj_pdays'])"
   ]
  },
  {
   "cell_type": "code",
   "execution_count": 64,
   "id": "c732ffae-d520-4726-b769-54389abc5373",
   "metadata": {},
   "outputs": [
    {
     "name": "stdout",
     "output_type": "stream",
     "text": [
      "previous skew:  7.335298178154558\n",
      "sqrt previous skew:  2.0633895537717617\n"
     ]
    },
    {
     "data": {
      "text/plain": [
       "{'whiskers': [<matplotlib.lines.Line2D at 0x7efc15cd3680>,\n",
       "  <matplotlib.lines.Line2D at 0x7efc15cd39b0>],\n",
       " 'caps': [<matplotlib.lines.Line2D at 0x7efc15cd3cb0>,\n",
       "  <matplotlib.lines.Line2D at 0x7efc15cd3fb0>],\n",
       " 'boxes': [<matplotlib.lines.Line2D at 0x7efc15cd1460>],\n",
       " 'medians': [<matplotlib.lines.Line2D at 0x7efc15afc320>],\n",
       " 'fliers': [<matplotlib.lines.Line2D at 0x7efc15afc650>],\n",
       " 'means': []}"
      ]
     },
     "execution_count": 64,
     "metadata": {},
     "output_type": "execute_result"
    },
    {
     "data": {
      "image/png": "[encoded data removed]",
      "text/plain": [
       "<Figure size 640x480 with 1 Axes>"
      ]
     },
     "metadata": {},
     "output_type": "display_data"
    }
   ],
   "source": [
    "df['sqrt_previous'] = np.sqrt(df['previous'])\n",
    "print (\"previous skew: \", df['previous'].skew ())\n",
    "print (\"sqrt previous skew: \", df['sqrt_previous'].skew ())\n",
    "\n",
    "df['sqrt_previous'] = winsorize (df ['sqrt_previous'], limits = [0.0, 0.05], inplace = True)\n",
    "\n",
    "plt.title (\"previous\")\n",
    "plt.boxplot (df ['previous'])"
   ]
  },
  {
   "cell_type": "code",
   "execution_count": 65,
   "id": "77d7b4c1-5fc3-4175-828c-f9ee49c19b33",
   "metadata": {},
   "outputs": [
    {
     "data": {
      "text/plain": [
       "{'whiskers': [<matplotlib.lines.Line2D at 0x7efc15b42810>,\n",
       "  <matplotlib.lines.Line2D at 0x7efc15b42ab0>],\n",
       " 'caps': [<matplotlib.lines.Line2D at 0x7efc15b42de0>,\n",
       "  <matplotlib.lines.Line2D at 0x7efc15b430b0>],\n",
       " 'boxes': [<matplotlib.lines.Line2D at 0x7efc15b266f0>],\n",
       " 'medians': [<matplotlib.lines.Line2D at 0x7efc15b43380>],\n",
       " 'fliers': [<matplotlib.lines.Line2D at 0x7efc15b436b0>],\n",
       " 'means': []}"
      ]
     },
     "execution_count": 65,
     "metadata": {},
     "output_type": "execute_result"
    },
    {
     "data": {
      "image/png": "[encoded data removed]",
      "text/plain": [
       "<Figure size 640x480 with 1 Axes>"
      ]
     },
     "metadata": {},
     "output_type": "display_data"
    }
   ],
   "source": [
    "plt.title (\"sqrt previous\")\n",
    "plt.boxplot (df ['sqrt_previous'])"
   ]
  },
  {
   "cell_type": "markdown",
   "id": "7f0c2c62-7441-437c-b22d-80ed7d90c2e1",
   "metadata": {},
   "source": [
    "# "
   ]
  }
 ],
 "metadata": {
  "kernelspec": {
   "display_name": "Python 3 (ipykernel)",
   "language": "python",
   "name": "python3"
  },
  "language_info": {
   "codemirror_mode": {
    "name": "ipython",
    "version": 3
   },
   "file_extension": ".py",
   "mimetype": "text/x-python",
   "name": "python",
   "nbconvert_exporter": "python",
   "pygments_lexer": "ipython3",
   "version": "3.12.4"
  }
 },
 "nbformat": 4,
 "nbformat_minor": 5
}
