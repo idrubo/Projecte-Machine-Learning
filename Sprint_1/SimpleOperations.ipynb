{
 "cells": [
  {
   "cell_type": "markdown",
   "id": "6273c99c-3cfe-4b14-b76b-ec50e3db2714",
   "metadata": {},
   "source": [
    "Operadores de Python\n",
    "="
   ]
  },
  {
   "cell_type": "markdown",
   "id": "dcf090c5-e43c-48a0-a832-a4f8181e37ce",
   "metadata": {},
   "source": [
    "Suma\n",
    "-"
   ]
  },
  {
   "cell_type": "code",
   "execution_count": 1,
   "id": "bd56b1d9-5b77-481c-a691-a9a31fc640ed",
   "metadata": {},
   "outputs": [
    {
     "name": "stdout",
     "output_type": "stream",
     "text": [
      "6\n"
     ]
    }
   ],
   "source": [
    "A = 2 + 4; print(A)"
   ]
  },
  {
   "cell_type": "markdown",
   "id": "5df80cc9-310a-4484-bf02-a7403e299cd5",
   "metadata": {},
   "source": [
    "Resta\n",
    "-"
   ]
  },
  {
   "cell_type": "code",
   "execution_count": 2,
   "id": "091679d1-cf49-4606-a4b3-0da56aec00f8",
   "metadata": {},
   "outputs": [
    {
     "name": "stdout",
     "output_type": "stream",
     "text": [
      "-2\n"
     ]
    }
   ],
   "source": [
    "S = 2 - 4; print (S)"
   ]
  },
  {
   "cell_type": "markdown",
   "id": "b6372f3c-79e5-4b2e-9348-63b50029f49b",
   "metadata": {},
   "source": [
    "División \\& Módulo\n",
    "-"
   ]
  },
  {
   "cell_type": "code",
   "execution_count": 10,
   "id": "d7a7ae2e-857b-4d5a-9964-93dea6b8a859",
   "metadata": {},
   "outputs": [
    {
     "name": "stdout",
     "output_type": "stream",
     "text": [
      "D=1.3333333333333333 - M=1\n"
     ]
    }
   ],
   "source": [
    "D = 4 / 3;\n",
    "M = 4 % 3;\n",
    "print(f'{D=} - {M=}')"
   ]
  },
  {
   "cell_type": "markdown",
   "id": "38a93bff-eb80-4fad-bd56-cb9b91de86e2",
   "metadata": {},
   "source": [
    "MarkDown:\n",
    "="
   ]
  },
  {
   "cell_type": "markdown",
   "id": "12dad4a8-bca4-4882-b956-c45ae3210e07",
   "metadata": {},
   "source": [
    "*cursiva*"
   ]
  },
  {
   "cell_type": "markdown",
   "id": "121463dc-76be-4225-a041-65f959f98737",
   "metadata": {},
   "source": [
    "_otra cursiva_ y *todavía otra más*"
   ]
  },
  {
   "cell_type": "markdown",
   "id": "5dd5c05b-9f0e-40f4-9ca6-5562e93b72b3",
   "metadata": {},
   "source": [
    "**negrita**"
   ]
  },
  {
   "cell_type": "markdown",
   "id": "9327da21-8c65-4fee-af63-c38c52f0dbf9",
   "metadata": {},
   "source": [
    "***negrita y cursiva***"
   ]
  },
  {
   "cell_type": "markdown",
   "id": "d2ab5726-a842-408f-b89f-3a6d74d1fe21",
   "metadata": {},
   "source": [
    "~~Texto tachado~~"
   ]
  },
  {
   "cell_type": "markdown",
   "id": "fdf5e4f3-240b-4642-98b1-4a7c1095bb59",
   "metadata": {},
   "source": [
    "Título grande\n",
    "="
   ]
  },
  {
   "cell_type": "markdown",
   "id": "3af1427c-8807-4ffa-89bb-963889bf1c9f",
   "metadata": {},
   "source": [
    "Título pequeño\n",
    "-"
   ]
  },
  {
   "cell_type": "markdown",
   "id": "e70bb4ba-8c89-477a-b35e-708b988fd898",
   "metadata": {},
   "source": [
    ">Citas\n",
    ">\n",
    "> Con lineas en blanco"
   ]
  },
  {
   "cell_type": "markdown",
   "id": "efe031d9-27b4-41ed-8a22-f0f19d03da8e",
   "metadata": {},
   "source": [
    "+ E1\n",
    "+ E2\n",
    "+ E3"
   ]
  },
  {
   "cell_type": "markdown",
   "id": "52275495-6ead-471e-a091-54ed30e7b3f5",
   "metadata": {},
   "source": [
    "1. E1\n",
    "2. E2\n",
    "3. E3"
   ]
  },
  {
   "cell_type": "markdown",
   "id": "99d991e6-d986-44b0-8b16-91ad5f970c69",
   "metadata": {},
   "source": [
    "`Esto es una linea de código`"
   ]
  },
  {
   "cell_type": "markdown",
   "id": "63ae0bdb-841a-46ae-8030-c4788e094838",
   "metadata": {},
   "source": [
    "`El acento es abierto`"
   ]
  },
  {
   "cell_type": "markdown",
   "id": "ab874d8a-30e2-49a1-b8f6-c6e91d2c886e",
   "metadata": {},
   "source": [
    "``Así se pueden insertar acentos abiertos ` como el anterior.``"
   ]
  },
  {
   "cell_type": "markdown",
   "id": "9aea096a-1e36-4470-b221-10a0ad619134",
   "metadata": {},
   "source": [
    "    Bloque de código 1\n",
    "    Mismo bloque\n",
    "        Bloque 2\n",
    "        En el 2\n",
    "    Vuelta al 1"
   ]
  },
  {
   "cell_type": "markdown",
   "id": "0892af52-dde9-4572-a025-f06be763cbb4",
   "metadata": {},
   "source": [
    "```python\n",
    "bloque 1\n",
    "    bloque 2\n",
    "    salida bloque 2\n",
    "salida bloque 1\n",
    "```"
   ]
  },
  {
   "cell_type": "markdown",
   "id": "03043149-86d2-488e-af7e-564793acfe9b",
   "metadata": {},
   "source": [
    "Un [enlace](https://www.wikipedia.org)"
   ]
  },
  {
   "cell_type": "markdown",
   "id": "8e6b0ef3-e125-40ff-8b18-03241b67471a",
   "metadata": {},
   "source": [
    "Un enlace mediante \"\\<\" y \"\\>\" -- \n",
    "<https://www.wikipedia.org>"
   ]
  },
  {
   "cell_type": "markdown",
   "id": "e288497e-0723-4cef-82a7-a5c3beaed4a6",
   "metadata": {},
   "source": [
    "Una cita que contiene un enlace mediante el acento abierto:\n",
    "`https://www.wikipedia.org`"
   ]
  },
  {
   "cell_type": "markdown",
   "id": "31b7f701-0482-41a7-b45c-4d237992c979",
   "metadata": {},
   "source": [
    "![python3](https://www.python.org/static/img/python-logo.png)"
   ]
  },
  {
   "cell_type": "markdown",
   "id": "4eaff084-cf29-41da-967d-adbbd3effe44",
   "metadata": {},
   "source": [
    "| Col 1 | Col 2 | Col 3 |\n",
    "|-------|-------|-------|\n",
    "|   1.1 |  1.2  |  1.3  |\n",
    "|   2.1 |  2.2  |  2.3  |"
   ]
  },
  {
   "cell_type": "markdown",
   "id": "1eab2cba-66e5-4ca8-bad1-fd576b7e25d0",
   "metadata": {},
   "source": [
    "Nota 1 [^1],,, Nota 2 [^2]\n",
    "\n",
    "Texto\n",
    "Texto\n",
    "Texto\n",
    "\n",
    "[^1]: Nota 1\n",
    "\n",
    "[^2]: Nota 2"
   ]
  },
  {
   "cell_type": "markdown",
   "id": "f417779c-43eb-40f7-9100-543e6c45f13d",
   "metadata": {},
   "source": [
    "Símpolos especiales y html:\n",
    "\n",
    "A & B\n",
    "α\n",
    "1 < 2\n",
    "<p>"
   ]
  },
  {
   "cell_type": "code",
   "execution_count": null,
   "id": "7bbe547b-e0c0-4e98-997b-adcc5b5639f4",
   "metadata": {},
   "outputs": [],
   "source": []
  }
 ],
 "metadata": {
  "kernelspec": {
   "display_name": "Python 3 (ipykernel)",
   "language": "python",
   "name": "python3"
  },
  "language_info": {
   "codemirror_mode": {
    "name": "ipython",
    "version": 3
   },
   "file_extension": ".py",
   "mimetype": "text/x-python",
   "name": "python",
   "nbconvert_exporter": "python",
   "pygments_lexer": "ipython3",
   "version": "3.12.5"
  }
 },
 "nbformat": 4,
 "nbformat_minor": 5
}
